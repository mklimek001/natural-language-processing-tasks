{
 "cells": [
  {
   "cell_type": "code",
   "execution_count": 1,
   "id": "bfd4f299-002a-4293-85a9-575044aabdc8",
   "metadata": {},
   "outputs": [],
   "source": [
    "import json\n",
    "\n",
    "def load_json_dataset(path):\n",
    "    with open(path, 'r', encoding='utf-8') as f:\n",
    "        data = json.load(f)\n",
    "    return data"
   ]
  },
  {
   "cell_type": "code",
   "execution_count": 2,
   "id": "2a266676-96a1-4cb6-beeb-633a44a31e10",
   "metadata": {},
   "outputs": [
    {
     "name": "stdout",
     "output_type": "stream",
     "text": [
      "True\n"
     ]
    }
   ],
   "source": [
    "import torch\n",
    "print(torch.cuda.is_available())"
   ]
  },
  {
   "cell_type": "code",
   "execution_count": 3,
   "id": "c07372a8-9253-4fe3-95b4-52f7de55ea1b",
   "metadata": {},
   "outputs": [],
   "source": [
    "valid_dataset_json_path = './poquad/poquad-dev.json'\n",
    "train_dataset_json_path = './poquad/poquad-train.json'\n",
    "\n",
    "valid_dataset_json = load_json_dataset(valid_dataset_json_path)\n",
    "train_dataset_json = load_json_dataset(train_dataset_json_path)"
   ]
  },
  {
   "cell_type": "code",
   "execution_count": 4,
   "id": "595c8b9c-7b34-48a6-a836-4ff5412520fc",
   "metadata": {},
   "outputs": [
    {
     "name": "stdout",
     "output_type": "stream",
     "text": [
      "1402\n"
     ]
    },
    {
     "data": {
      "text/plain": [
       "{'id': 9773,\n",
       " 'title': 'Miszna',\n",
       " 'summary': 'Miszna (hebr.\\xa0\\u200fמשנה\\u200e miszna „nauczać”, „ustnie przekazywać”, „studiować”, „badać”, od \\u200fשנה\\u200e szana „powtarzać”, „różnić się”, „być odmiennym”; jid. Miszne) – w judaizmie uporządkowany zbiór tekstów ustnego prawa uzupełniający Torę (Prawo pisane). Według wierzeń judaizmu stanowi ustną, niespisaną część prawa nadanego przez Boga na Synaju, tzw. Torę ustną. Jest świętym tekstem judaizmu i jest traktowana na równi z Tanach (Biblią hebrajską). Zbiór był w Izraelu od wieków przekazywany ustnie z pokolenia na pokolenie, zwiększył swój rozmiar szczególnie w okresie od III w. p.n.e. do II w. n.e. w wyniku systematycznego uzupełniania komentarzy przez tannaitów, żydowskich nauczycieli prawa ustnego. Miszna została spisana dopiero w II–III w. Prace redakcyjne zapoczątkował rabin Akiba ben Josef, a kształt ostatecznej redakcji tekstu nadał Juda ha-Nasi. Miszna składa się z 6 porządków (hebr.: sedarim), które dzielą się na 63 traktaty, te zaś na rozdziały i lekcje. Miszna jest częścią Talmudu i zawiera podstawowe reguły postępowania i normy prawne judaizmu.',\n",
       " 'url': 'https://pl.wikipedia.org/wiki/Miszna',\n",
       " 'paragraphs': [{'context': 'Pisma rabiniczne – w tym Miszna – stanowią kompilację poglądów różnych rabinów na określony temat. Zgodnie z wierzeniami judaizmu Mojżesz otrzymał od Boga całą Torę, ale w dwóch częściach: jedną część w formie pisanej, a drugą część w formie ustnej. Miszna – jako Tora ustna – była traktowana nie tylko jako uzupełnienie Tory spisanej, ale również jako jej interpretacja i wyjaśnienie w konkretnych sytuacjach życiowych. Tym samym Miszna stanowiąca kodeks Prawa religijnego zaczęła równocześnie służyć za jego ustnie przekazywany podręcznik.',\n",
       "   'qas': [{'question': 'Czym są pisma rabiniczne?',\n",
       "     'answers': [{'text': 'kompilację poglądów różnych rabinów na określony temat',\n",
       "       'answer_start': 43,\n",
       "       'answer_end': 97,\n",
       "       'generative_answer': 'kompilacją poglądów różnych rabinów na określony temat'}],\n",
       "     'is_impossible': False},\n",
       "    {'question': 'Z ilu komponentów składała się Tora przekazana Mojżeszowi?',\n",
       "     'answers': [{'text': 'dwóch',\n",
       "       'answer_start': 172,\n",
       "       'answer_end': 177,\n",
       "       'generative_answer': 'dwóch'}],\n",
       "     'is_impossible': False},\n",
       "    {'question': 'W jakich formach występowała Tora przekazana Mojżeszowi?',\n",
       "     'answers': [{'text': 'pisanej, a drugą część w formie ustnej',\n",
       "       'answer_start': 210,\n",
       "       'answer_end': 248,\n",
       "       'generative_answer': 'pisanej, ustnej'}],\n",
       "     'is_impossible': False},\n",
       "    {'question': 'W jakiej formie przekazana została Miszna?',\n",
       "     'answers': [{'text': 'ustna',\n",
       "       'answer_start': 269,\n",
       "       'answer_end': 274,\n",
       "       'generative_answer': 'ustnej'}],\n",
       "     'is_impossible': False},\n",
       "    {'question': 'Kto napisał Torę?',\n",
       "     'plausible_answers': [{'text': 'Boga',\n",
       "       'answer_start': 150,\n",
       "       'answer_end': 154,\n",
       "       'generative_answer': 'Bóg'}],\n",
       "     'is_impossible': True}]}]}"
      ]
     },
     "execution_count": 4,
     "metadata": {},
     "output_type": "execute_result"
    }
   ],
   "source": [
    "print(len(valid_dataset_json['data']))\n",
    "valid_dataset_json['data'][0]"
   ]
  },
  {
   "cell_type": "code",
   "execution_count": 5,
   "id": "8c12a6d8-f4ba-40c9-bf75-830d8e2f9d14",
   "metadata": {},
   "outputs": [
    {
     "name": "stdout",
     "output_type": "stream",
     "text": [
      "8553\n"
     ]
    },
    {
     "data": {
      "text/plain": [
       "{'id': 8420,\n",
       " 'title': 'Pomilio PD/PE',\n",
       " 'summary': 'Pomilio PD/PE – rodzina włoskich samolotów rozpoznawczych z okresu I wojny światowej. Modele PD i PE różniły się silnikiem i wyglądem, zbudowano ich łącznie 1415 sztuk. Oba typy używane były od 1917 roku przez lotnictwo włoskie, będąc podstawowymi włoskimi samolotami rozpoznawczymi pod koniec wojny. Dysponowały dobrymi osiągami, lecz sprawiały pewne trudności w pilotażu i wycofano je z użytku w 1920 roku.',\n",
       " 'url': 'https://pl.wikipedia.org/wiki/Pomilio_PD/PE',\n",
       " 'paragraphs': [{'context': 'Samoloty Pomilio PD weszły na wyposażenie jednostek bojowych i zarazem do walki od lipca 1917 roku. Pierwsze otrzymały je w tym miesiącu eskadry (Squadriglia) nr 131 i 132, gdzie zastąpiły Pomilio PC. Do działań wchodziły następnie kolejne nowo formowane eskadry Pomilio: 133 (we wrześniu), 134 (w październiku), 135 (w styczniu 1918 roku), 136 (w maju 1918 roku). Eskadra 139, sformowana z dwóch sekcji początkowo przydzielonych do lotnictwa Marynarki (od sierpnia 1917 roku), weszła do działań w styczniu 1918 roku, a w czerwcu odznaczyła się w bitwie nad Piawą, zrzucając 175 bomb. W bitwie tej brały udział też inne eskadry. Model PD został szybko zastąpiony w jednostkach przez PE i skierowany głównie do szkolenia.',\n",
       "   'qas': [{'question': 'Jaki model zastąpił Pomilio PC?',\n",
       "     'answers': [{'text': 'Pomilio PD',\n",
       "       'answer_start': 9,\n",
       "       'answer_end': 19,\n",
       "       'generative_answer': 'Pomilio PD'}],\n",
       "     'is_impossible': False},\n",
       "    {'question': 'Co wchodziło w skład eskadry 139?',\n",
       "     'answers': [{'text': 'dwóch sekcji początkowo przydzielonych do lotnictwa Marynarki',\n",
       "       'answer_start': 391,\n",
       "       'answer_end': 452,\n",
       "       'generative_answer': 'dwie sekcje początkowo przydzielone do lotnictwa Marynarki'}],\n",
       "     'is_impossible': False},\n",
       "    {'question': 'Ile bomb zrzucono na eskadrę 139?',\n",
       "     'plausible_answers': [{'text': '175',\n",
       "       'answer_start': 575,\n",
       "       'answer_end': 578,\n",
       "       'generative_answer': '175'}],\n",
       "     'is_impossible': True},\n",
       "    {'question': 'Jaki model zastąpił samoloty Pomilio PD?',\n",
       "     'answers': [{'text': 'PE',\n",
       "       'answer_start': 683,\n",
       "       'answer_end': 685,\n",
       "       'generative_answer': 'PE'}],\n",
       "     'is_impossible': False},\n",
       "    {'question': 'Jakie starcie było najważniejszym dla eskadry 139?',\n",
       "     'plausible_answers': [{'text': 'bitwie nad Piawą',\n",
       "       'answer_start': 547,\n",
       "       'answer_end': 563,\n",
       "       'generative_answer': 'bitwa pod Piawą'}],\n",
       "     'is_impossible': True}]},\n",
       "  {'context': 'Na początku 1918 roku planowano, że Pomilio PD/PE miały być wyposażeniem tylko armijnych eskadr rozpoznawczych dalekiego zasięgu, a podstawowym włoskim samolotem rozpoznania taktycznego miał być Ansaldo SIA 7, lecz problemy wywołane przez słabą konstrukcję SIA 7B spowodowały zwiększenie zamówień na Pomilio, który w połowie 1918 roku stał się podstawowym włoskim samolotem rozpoznawczym. Pomilio zastępowały w tym czasie w części jednostek także samoloty SAML i SP.3. Przez cały okres służby, samoloty te używane były przez 29 eskadr. W chwili zawieszenia broni 17 eskadr było wyposażonych w całości w Pomilio PD/PE, a 5 częściowo. Głównie używane były na froncie włoskim, lecz 116. Eskadra operowała na Pomilio od maja 1918 roku w Albanii, a 111. Eskadra od września 1918 roku w Macedonii. Oprócz rozpoznania i okazjonalnego bombardowania, samoloty eskadr 118., 131. i 39. używane były do zrzucania zaopatrzenia dla żołnierzy włoskich, w tym odciętych za Piawą.',\n",
       "   'qas': [{'question': 'Czym według założeń z 1918 roku miały zajmować się Pomilio PD/PE?',\n",
       "     'answers': [{'text': 'wyposażeniem tylko armijnych eskadr rozpoznawczych dalekiego zasięgu',\n",
       "       'answer_start': 60,\n",
       "       'answer_end': 128,\n",
       "       'generative_answer': 'wyposażeniem tylko armijnych eskadr rozpoznawczych dalekiego zasięgu'}],\n",
       "     'is_impossible': False},\n",
       "    {'question': 'Jaki samolot miał służyć za podstawę rozpoznania taktycznego w 1918 roku?',\n",
       "     'answers': [{'text': 'Ansaldo SIA 7',\n",
       "       'answer_start': 195,\n",
       "       'answer_end': 208,\n",
       "       'generative_answer': 'Ansaldo SIA 7'}],\n",
       "     'is_impossible': False},\n",
       "    {'question': 'Dlaczego zrezygnowano z Ansaldo SIA 7 jako podstawowego samolotu rozpoznawczego?',\n",
       "     'answers': [{'text': 'słabą konstrukcję',\n",
       "       'answer_start': 239,\n",
       "       'answer_end': 256,\n",
       "       'generative_answer': 'ze względu na słabą konstrukcję'}],\n",
       "     'is_impossible': False},\n",
       "    {'question': 'Ile eskadr miało okazję latać samolotami Pomilio PD/PE podczas całego swojego okresu służby?',\n",
       "     'plausible_answers': [{'text': '29',\n",
       "       'answer_start': 525,\n",
       "       'answer_end': 527,\n",
       "       'generative_answer': '29'}],\n",
       "     'is_impossible': True},\n",
       "    {'question': 'Do czego wykorzystywano samoloty z eskadr 118., 131. i 39.?',\n",
       "     'answers': [{'text': 'zrzucania zaopatrzenia dla żołnierzy włoskich',\n",
       "       'answer_start': 891,\n",
       "       'answer_end': 936,\n",
       "       'generative_answer': 'zrzucania zaopatrzenia dla żołnierzy włoskich'}],\n",
       "     'is_impossible': False}]}]}"
      ]
     },
     "execution_count": 5,
     "metadata": {},
     "output_type": "execute_result"
    }
   ],
   "source": [
    "print(len(train_dataset_json['data']))\n",
    "train_dataset_json['data'][1]"
   ]
  },
  {
   "cell_type": "code",
   "execution_count": 6,
   "id": "17dc30c1-61b5-4150-b2a1-640d8231458f",
   "metadata": {},
   "outputs": [],
   "source": [
    "def prepare_dataset(dataset_dict):\n",
    "    base_prompt = \"kontekst: {context} pytanie: {question}\"\n",
    "    questions_with_context = []\n",
    "    abstractive_answers = []\n",
    "\n",
    "    for sample in dataset_dict:\n",
    "        for paragraph in sample.get('paragraphs', []):\n",
    "            curr_context = paragraph['context']\n",
    "            for question in paragraph.get('qas', []):\n",
    "                curr_question = question['question']\n",
    "                if not question['is_impossible']: # ignore questions marked as impossible\n",
    "                    for answer in question.get('answers', []):  \n",
    "                        curr_answer = answer['generative_answer']\n",
    "                        curr_prompt = base_prompt.format(context=curr_context, question=curr_question)\n",
    "                        questions_with_context.append(curr_prompt)\n",
    "                        abstractive_answers.append(curr_answer)\n",
    "\n",
    "    dataset = {\n",
    "        'question_and_context': questions_with_context,\n",
    "        'abstractive_answer': abstractive_answers,\n",
    "    }\n",
    "\n",
    "    return dataset"
   ]
  },
  {
   "cell_type": "code",
   "execution_count": 7,
   "id": "21c20a6f-4143-41ba-942a-bf95da9f445e",
   "metadata": {},
   "outputs": [],
   "source": [
    "train_dataset_dct = prepare_dataset(train_dataset_json['data'])\n",
    "valid_dataset_dct = prepare_dataset(valid_dataset_json['data'])"
   ]
  },
  {
   "cell_type": "code",
   "execution_count": 8,
   "id": "5463c264-374f-48fa-9099-2d61edec0a83",
   "metadata": {},
   "outputs": [
    {
     "name": "stdout",
     "output_type": "stream",
     "text": [
      "Train dataset size: 46187\n",
      "Valid dataset size: 5764\n"
     ]
    }
   ],
   "source": [
    "print(f\"Train dataset size: {len(train_dataset_dct['abstractive_answer'])}\")\n",
    "print(f\"Valid dataset size: {len(valid_dataset_dct['abstractive_answer'])}\")"
   ]
  },
  {
   "cell_type": "code",
   "execution_count": 9,
   "id": "0e270a0e-3d16-4d15-be67-005b7b50c35f",
   "metadata": {},
   "outputs": [
    {
     "name": "stdout",
     "output_type": "stream",
     "text": [
      "kontekst: Pisma rabiniczne – w tym Miszna – stanowią kompilację poglądów różnych rabinów na określony temat. Zgodnie z wierzeniami judaizmu Mojżesz otrzymał od Boga całą Torę, ale w dwóch częściach: jedną część w formie pisanej, a drugą część w formie ustnej. Miszna – jako Tora ustna – była traktowana nie tylko jako uzupełnienie Tory spisanej, ale również jako jej interpretacja i wyjaśnienie w konkretnych sytuacjach życiowych. Tym samym Miszna stanowiąca kodeks Prawa religijnego zaczęła równocześnie służyć za jego ustnie przekazywany podręcznik. pytanie: Czym są pisma rabiniczne? 86\n",
      "kompilacją poglądów różnych rabinów na określony temat 7\n",
      "\n",
      "kontekst: Akcja powieści rozgrywa się na przełomie XIX i XX wieku w Budapeszcie, stolicy Węgier. Oś fabuły stanowią walki o plac pomiędzy dwiema grupami chłopców. Grupa broniąca swego prawa do placu to Chłopcy z Placu Broni (w oryginale i innych językach nosi tytuł Chłopcy z ulicy Pawła), natomiast ich przeciwnicy, chcący zająć teren, by grać na nim w palanta, to Czerwone Koszule (w pierwszej wersji polskiego tłumaczenia nazwa grupy, wywodząca się od nazwy uczestników wyprawy Giuseppe Garibaldiego na Sycylię, brzmiała błędnie Czerwonoskórzy). Przywódcą pierwszej grupy jest Janosz Boka, zaś jej najmniej poważanym członkiem i zarazem jedynym szeregowcem jest Ernest Nemeczek (główny bohater książki); przywódcą drugiej jest Feri Acz, a członkami m.in. Sebenicz, bracia Pastorowie i Wendauer. pytanie: Jak nazywa się grono, które chroni swój plac? 125\n",
      "Chłopcy z Placu Broni 4\n",
      "\n",
      "kontekst: Wiśniowiecki odziedziczył dobra ziemskie na Wołyniu i Ukrainie, które powiększył za swojego życia. Przeprowadził także udane zasiedlenie słabo zaludnionych ziem na lewobrzeżnej Ukrainie, osadzając na tych ziemiach wielokrotnie więcej osadników niż przodkowie. W 1640 roku w jego majątkach było łącznie 7603 domów, a pięć lat później – 38 000. Wiśniowiecki dobrze także dbał o ochronę majątku przed najazdami tatarskimi, przekazywał pieniądze na fundacje kościołów, cerkwi, miasteczek oraz na prawosławne i katolickie szkolnictwo. Dodatkowo w lutym 1648 roku Wiśniowiecki otrzymał od króla Władysława IV obszary wokół porohów dnieprzańskich, na których znajdowała się główna siedziba kozaków. Przez długi czas nie był intensywnie zainteresowany sprawami publicznymi i angażował się w nie głównie w przypadku bezpośredniego zagrożenia swoich interesów. pytanie: Gdzie znajdowały się ziemie, które dostał w spadku Wiśniowiecki? 126\n",
      "na Wołyniu i Ukrainie 4\n",
      "\n",
      "kontekst: Prace nad Człowiekiem na torze Andrzej Munk rozpoczął jeszcze pod koniec 1955. Reżyser, który miał za sobą realizację licznych dokumentalnych filmów socrealistycznych, zamierzał rozsadzić od środka ulegającą stopniowej kompromitacji konwencję „produkcyjniaka”. Od Człowieka na torze rozpoczęła się współpraca Munka ze scenarzystą Jerzym Stefanem Stawińskim, którego opowiadanie Tajemnica maszynisty Orzechowskiego posłużyło jako źródło adaptacji filmowej. Biuro Scenariuszowe Centralnego Urzędu Kinematografii, otrzymawszy gotowy scenariusz, zatwierdziło go do realizacji, jednak komisja przestrzegła Munka i Stawińskiego przed „przegięciem pałki”. Tymczasem, jak twierdził Stawiński, „w trakcie realizacji Munk pałkę tę przeginał tak skutecznie, że powstał jedyny w tych czasach film atakujący [...] zło minionych lat”. W późniejszym wywiadzie udzielonym Stanisławowi Janickiemu Munk twierdził, iż w czasach stalinizmu „zbyt łatwo było [...] oskarżać. [...] Człowiek na torze był też wyrazem sprzeciwu wobec zrzucania odpowiedzialności za każde zło na «wroga»”. pytanie: Kto napisał \"Tajemnicę maszynisty Orzechowskiego\"? 140\n",
      "Jerzy Stefan Stawiński 3\n",
      "\n",
      "kontekst: Muzułmańska tradycja dzieli kalifat Usmana na dwa okresy o równej długości, najpierw sześciu lat dobrych rządów, po których miało nastąpić sześć lat bezprawia i anarchii. Zmiana w sposób symboliczny jest reprezentowana przez utratę pieczęci Proroka, którą, zgodnie z legendą, Usman upuścił do studni Aris w 30 roku hidżry. W rzeczywistości jednak zarzuty kierowane w stosunku do Usmana wiążą się z działaniami podejmowanymi przez niego od początku jego panowania i nie da się go podzielić w ten sposób. To w roku 650/651 ogólne niezadowolenie z rządów Usmana zaczęło objawiać się w otwarty sposób. Początkowo kalif wszedł w konflikt z kilkoma towarzyszami Proroka, którzy wywodzili się z nizin społecznych, ale byli powszechnie szanowani ze względu na swoją pobożność. Doszło wówczas m.in. do starcia z Ibn Masudem. Jako pierwszy publiczny protest miał jednak podnieść znany z ascetyzmu Abu Zarr al-Ghifari, który skrytykował rozrzutność Mu’awiji budującego swój pałac w Damaszku. Na żądanie Mu’awiji Abu Zarr został przeniesiony do Medyny, ponieważ jednak tam kontynuował swoją agitację, został ostatecznie wygnany do Ar-Rabadha, na pustynię, gdzie zmarł w roku 652. Inny towarzysz Mahometa, Ammar ibn Jasir, miał przyłączyć się do publicznego protestu, jaki Ali urządził w meczecie przeciwko rozdzielaniu przez Usmana ziemi należącej do faj. Usman nie mógł nic zrobić Alemu, nakazał jednak pobicie Ammara aż do nieprzytomności. Traktując w ten sposób tych towarzyszy Usman zniechęcił do siebie plemię Abu Huzajl, do którego należał Ibn Masud, plemię Ghifar, do którego należał Abu Zarr, oraz potężny ród Machzum, którego konfederatem (halif) był Ammar. Jego postępowanie doprowadziło także do protestów niektórych z najbardziej wpływowych towarzyszy Proroka, na czele z Alim, który miał stanąć w obronie Ibn Masuda, publicznie solidaryzować się z Abu Zarrem i interweniować w sprawie Ammara. Ali wielokrotnie występował przeciwko Usmanowi w trakcie jego kalifatu, przede wszystkim oskarżając go o różnorakie naruszenia zasad religijnych. Spośród dawnych członków szury najbardziej zatwardziałym wrogiem Usmana był jednak Talha, który od początku zdawał się kwestionować jego wybór, by następnie krytykować go przy różnych okazjach i ostatecznie wysyłać do prowincji listy wzywające do buntu. Także A’isza miała się ująć za Ibn Masudem, a po pobiciu Ammara publicznie oskarżyć Usmana o sprzeniewierzenie się sunnie Proroka. Według Al-Jakubiego źródłem niezadowolenia A’iszy z Usmana miała być obniżka jej pensji do wysokości takiej samej jak innych wdów po Mahomecie. Najprawdopodobniej A’isza napisała również listy do prowincji zachęcające do rebelii przeciwko Usmanowi, chociaż po jego śmierci miała temu zaprzeczać. W różnych sytuacjach agitował przeciwko Usmanowi także Amr ibn al-As, który nie mógł się pogodzić z utratą namiestnictwa Egiptu. pytanie: Z jakiego powodu, według niektórych, A'isza była niechętna Usmanowi? 422\n",
      "obniżki jej pensji do wysokości takiej samej jak innych wdów po Mahomecie 12\n",
      "\n",
      "kontekst: Reforma sił zbrojnych Niemiec z 2011 r. ustanowiła wymagany poziom liczebności na 185 tys. żołnierzy i 40 tys. rezerwistów, istnieje jednak stały problem z dojściem do tego poziomu.\n",
      "We wrześniu 2014 roku Bundeswehra przyznała się do przewlekłych problemów ze sprzętem, które sprawiają, że siły zbrojne nie są „w stanie dotrzymywać swoich obietnic obronnych w ramach NATO”. Wśród problemów cytowane były niesprawne systemy strzeleckie, pojazdy opancerzone, samoloty i okręty wojenne, nienadające się do natychmiastowego użycia ze względu na zaniedbania w konserwacji i poważne braki części zamiennych. Sytuacja była tak tragiczna, iż uznano że większość samolotów bojowych i śmigłowców niemieckich nie była w stanie latać. pytanie: Czy maszyny składające się na siły powietrzne niemieckiej armii były w większości sprawne? 117\n",
      "nie 1\n",
      "\n"
     ]
    }
   ],
   "source": [
    "def print_sample(idx):\n",
    "    print(valid_dataset_dct['question_and_context'][idx], len(valid_dataset_dct['question_and_context'][idx].split(' ')))\n",
    "    print(valid_dataset_dct['abstractive_answer'][idx], len(valid_dataset_dct['abstractive_answer'][idx].split(' ')))\n",
    "    print('')\n",
    "\n",
    "print_sample(0)\n",
    "print_sample(512)\n",
    "print_sample(1234)\n",
    "print_sample(2500)\n",
    "print_sample(3000)\n",
    "print_sample(-1)"
   ]
  },
  {
   "cell_type": "code",
   "execution_count": 10,
   "id": "817f7ff8-0aae-4122-97c1-951e579c08f7",
   "metadata": {},
   "outputs": [],
   "source": [
    "# hard to say what should be maximum length of the question and answer (hope 512 and 64 will be more than enough)"
   ]
  },
  {
   "cell_type": "code",
   "execution_count": 11,
   "id": "e174ae49-2a57-46c3-9553-8bb96533a888",
   "metadata": {},
   "outputs": [
    {
     "name": "stderr",
     "output_type": "stream",
     "text": [
      "/home/mklimek/Studies/NLP/venv/lib/python3.12/site-packages/tqdm/auto.py:21: TqdmWarning: IProgress not found. Please update jupyter and ipywidgets. See https://ipywidgets.readthedocs.io/en/stable/user_install.html\n",
      "  from .autonotebook import tqdm as notebook_tqdm\n"
     ]
    }
   ],
   "source": [
    "from datasets import Dataset\n",
    "\n",
    "valid_dataset = Dataset.from_dict(valid_dataset_dct)\n",
    "train_dataset = Dataset.from_dict(train_dataset_dct)"
   ]
  },
  {
   "cell_type": "code",
   "execution_count": 12,
   "id": "72ca3ba1-a762-450f-b9b1-7e0bb56fc26d",
   "metadata": {},
   "outputs": [
    {
     "data": {
      "text/plain": [
       "Dataset({\n",
       "    features: ['question_and_context', 'abstractive_answer'],\n",
       "    num_rows: 46187\n",
       "})"
      ]
     },
     "execution_count": 12,
     "metadata": {},
     "output_type": "execute_result"
    }
   ],
   "source": [
    "train_dataset"
   ]
  },
  {
   "cell_type": "code",
   "execution_count": 13,
   "id": "2711b2f2-bfa6-43f7-b99a-a46514b62cc8",
   "metadata": {},
   "outputs": [
    {
     "data": {
      "text/plain": [
       "Dataset({\n",
       "    features: ['question_and_context', 'abstractive_answer'],\n",
       "    num_rows: 5764\n",
       "})"
      ]
     },
     "execution_count": 13,
     "metadata": {},
     "output_type": "execute_result"
    }
   ],
   "source": [
    "valid_dataset"
   ]
  },
  {
   "cell_type": "code",
   "execution_count": 14,
   "id": "fe2dfcb6-237d-4fb1-8827-d924698493b8",
   "metadata": {},
   "outputs": [
    {
     "name": "stderr",
     "output_type": "stream",
     "text": [
      "You are using the default legacy behaviour of the <class 'transformers.models.t5.tokenization_t5.T5Tokenizer'>. This is expected, and simply means that the `legacy` (previous) behavior will be used so nothing changes for you. If you want to use the new behaviour, set `legacy=False`. This should only be set if you understand what it means, and thoroughly read the reason why this was added as explained in https://github.com/huggingface/transformers/pull/24565\n"
     ]
    }
   ],
   "source": [
    "from transformers import T5Tokenizer\n",
    "\n",
    "tokenizer = T5Tokenizer.from_pretrained(\"allegro/plt5-base\")"
   ]
  },
  {
   "cell_type": "code",
   "execution_count": 15,
   "id": "30efcccc-acd1-46e9-8215-d5c5346d8f44",
   "metadata": {},
   "outputs": [
    {
     "name": "stderr",
     "output_type": "stream",
     "text": [
      "\n",
      "\n",
      "ap: 100%|█████████████████████████| 5764/5764 [00:03<00:00, 1770.69 examples/s]"
     ]
    }
   ],
   "source": [
    "def tokenize_function(dataset_dct):\n",
    "    model_inputs = tokenizer(dataset_dct['question_and_context'], max_length=512, truncation=True, padding=\"max_length\")\n",
    "    labels = tokenizer(dataset_dct['abstractive_answer'], max_length=64, truncation=True, padding=\"max_length\")\n",
    "    model_inputs['labels'] = labels['input_ids']\n",
    "    return model_inputs\n",
    "\n",
    "train_dataset = train_dataset.map(tokenize_function, batched=True)\n",
    "valid_dataset = valid_dataset.map(tokenize_function, batched=True)"
   ]
  },
  {
   "cell_type": "code",
   "execution_count": 16,
   "id": "7655d1ce-08ab-47ff-a288-38e9665d24eb",
   "metadata": {},
   "outputs": [],
   "source": [
    "from transformers import T5ForConditionalGeneration\n",
    "\n",
    "model = T5ForConditionalGeneration.from_pretrained(\"allegro/plt5-base\")"
   ]
  },
  {
   "cell_type": "code",
   "execution_count": 17,
   "id": "bded899d-24fb-4b2d-a629-26ed9b2ad6e8",
   "metadata": {},
   "outputs": [],
   "source": [
    "from datasets import DatasetDict\n",
    "\n",
    "dataset = DatasetDict({\n",
    "    'train': train_dataset,\n",
    "    'validation': valid_dataset,\n",
    "})"
   ]
  },
  {
   "cell_type": "code",
   "execution_count": 18,
   "id": "f0402b12-707c-4a3f-989a-7b3464d6e3b4",
   "metadata": {},
   "outputs": [],
   "source": [
    "from transformers import Trainer, TrainingArguments\n",
    "import torch\n",
    "\n",
    "training_args = TrainingArguments(\n",
    "    output_dir=\"./lab9_results\",\n",
    "    eval_strategy=\"epoch\",\n",
    "    save_strategy=\"epoch\",\n",
    "    learning_rate=5e-5,\n",
    "    per_device_train_batch_size=6,\n",
    "    per_device_eval_batch_size=6,\n",
    "    num_train_epochs=3,\n",
    "    weight_decay=0.01,\n",
    "    save_total_limit=2,\n",
    "    logging_dir=\"./lab9_logs\",\n",
    "    logging_steps=10,\n",
    "    load_best_model_at_end=True\n",
    ")\n",
    "\n",
    "trainer = Trainer(\n",
    "    model=model,\n",
    "    args=training_args,\n",
    "    train_dataset=dataset['train'],\n",
    "    eval_dataset=dataset['validation'],\n",
    "    processing_class=tokenizer,\n",
    ")"
   ]
  },
  {
   "cell_type": "code",
   "execution_count": 19,
   "id": "f0e4b3fa-5c8b-4a1b-97a4-0f8e603e71a0",
   "metadata": {},
   "outputs": [],
   "source": [
    "import warnings\n",
    "warnings.filterwarnings(\"ignore\")"
   ]
  },
  {
   "cell_type": "code",
   "execution_count": 20,
   "id": "5d0aa3d4-68b6-4b90-8f86-d5d6a93d9b43",
   "metadata": {},
   "outputs": [
    {
     "name": "stderr",
     "output_type": "stream",
     "text": [
      "Passing a tuple of `past_key_values` is deprecated and will be removed in Transformers v4.48.0. You should pass an instance of `EncoderDecoderCache` instead, e.g. `past_key_values=EncoderDecoderCache.from_legacy_cache(past_key_values)`.\n"
     ]
    },
    {
     "data": {
      "text/html": [
       "\n",
       "    <div>\n",
       "      \n",
       "      <progress value='11547' max='11547' style='width:300px; height:20px; vertical-align: middle;'></progress>\n",
       "      [11547/11547 5:12:59, Epoch 3/3]\n",
       "    </div>\n",
       "    <table border=\"1\" class=\"dataframe\">\n",
       "  <thead>\n",
       " <tr style=\"text-align: left;\">\n",
       "      <th>Epoch</th>\n",
       "      <th>Training Loss</th>\n",
       "      <th>Validation Loss</th>\n",
       "    </tr>\n",
       "  </thead>\n",
       "  <tbody>\n",
       "    <tr>\n",
       "      <td>1</td>\n",
       "      <td>0.090000</td>\n",
       "      <td>0.063348</td>\n",
       "    </tr>\n",
       "    <tr>\n",
       "      <td>2</td>\n",
       "      <td>0.082300</td>\n",
       "      <td>0.055278</td>\n",
       "    </tr>\n",
       "    <tr>\n",
       "      <td>3</td>\n",
       "      <td>0.061100</td>\n",
       "      <td>0.053602</td>\n",
       "    </tr>\n",
       "  </tbody>\n",
       "</table><p>"
      ],
      "text/plain": [
       "<IPython.core.display.HTML object>"
      ]
     },
     "metadata": {},
     "output_type": "display_data"
    },
    {
     "name": "stderr",
     "output_type": "stream",
     "text": [
      "There were missing keys in the checkpoint model loaded: ['encoder.embed_tokens.weight', 'decoder.embed_tokens.weight'].\n"
     ]
    },
    {
     "data": {
      "text/plain": [
       "TrainOutput(global_step=11547, training_loss=0.9470984451185628, metrics={'train_runtime': 18781.7515, 'train_samples_per_second': 7.377, 'train_steps_per_second': 0.615, 'total_flos': 1.0073882643451085e+17, 'train_loss': 0.9470984451185628, 'epoch': 3.0})"
      ]
     },
     "execution_count": 20,
     "metadata": {},
     "output_type": "execute_result"
    }
   ],
   "source": [
    "trainer.train()"
   ]
  },
  {
   "cell_type": "code",
   "execution_count": 21,
   "id": "5af6aa0b-cd23-4ec7-a3ef-4dce7db0c64a",
   "metadata": {},
   "outputs": [
    {
     "name": "stdout",
     "output_type": "stream",
     "text": [
      "tensor([[    0, 19253,  3826, 17615,     1]], device='cuda:0')\n",
      "Odpowiedź: Lars Bystol\n"
     ]
    }
   ],
   "source": [
    "question = \"Kto został mistrzem olimpijskim na skoczni normalnej?\"\n",
    "context = \"Niepowodzeniem zakończył się start Małysza w zimowych igrzyskach olimpijskich w Turynie.\\\n",
    "W pierwszym konkursie na normalnej skoczni zajął siódme miejsce, chociaż mistrz olimpijski, Lars Bystol, \\\n",
    "w dwóch seriach pokonał Małysza zaledwie o metr. \"\n",
    "\n",
    "test_prompt = f\"kontekst: {context} pytanie: {question}\"\n",
    "inputs = tokenizer(test_prompt, return_tensors=\"pt\", max_length=512, truncation=True)\n",
    "inputs = {key: value.to('cuda') for key, value in inputs.items()}\n",
    "outputs = model.generate(inputs['input_ids'], max_length=64, num_beams=16, early_stopping=True)\n",
    "print(outputs)\n",
    "answer = tokenizer.decode(outputs[0], skip_special_tokens=True)\n",
    "print(\"Odpowiedź:\", answer)"
   ]
  },
  {
   "cell_type": "code",
   "execution_count": 22,
   "id": "b7fad192-32e5-40e7-aa7e-19558cda7bfa",
   "metadata": {},
   "outputs": [
    {
     "name": "stdout",
     "output_type": "stream",
     "text": [
      "{'exact_match': np.float64(0.5)}\n"
     ]
    }
   ],
   "source": [
    "import evaluate\n",
    "\n",
    "exact_match = evaluate.load(\"evaluate-metric/exact_match\")\n",
    "\n",
    "predictions = [\"answer0 answer1\", \"answer2\"]\n",
    "references = [\"answer0 answer1\", \"answer3 answer2 answer1\"]\n",
    "\n",
    "results = exact_match.compute(predictions=predictions, references=references)\n",
    "print(results)"
   ]
  },
  {
   "cell_type": "code",
   "execution_count": 26,
   "id": "4e3d1cc3-e2b4-4aa3-8bd9-f722ebadecd4",
   "metadata": {},
   "outputs": [
    {
     "data": {
      "text/plain": [
       "(0.8, 0.5)"
      ]
     },
     "execution_count": 26,
     "metadata": {},
     "output_type": "execute_result"
    }
   ],
   "source": [
    "from sklearn.metrics import f1_score\n",
    "\n",
    "def calc_mean_f1_score(predictions, references):\n",
    "    MAX_L = 64\n",
    "    results = []\n",
    "    predictions_tokens = [tokenizer(prediction, max_length=MAX_L, truncation=True,)['input_ids'] for prediction in predictions]\n",
    "    references_tokens = [tokenizer(ref, max_length=MAX_L, truncation=True)['input_ids'] for ref in references]\n",
    "    for pred_t, ref_t in zip(predictions_tokens, references_tokens):\n",
    "        min_len = min(len(pred_t), len(ref_t)) # let's make such assumption in calculating f1_score\n",
    "        result = f1_score(pred_t[:min_len], ref_t[:min_len], average='micro')\n",
    "        results.append(result)\n",
    "    return sum(results)/len(results)\n",
    "\n",
    "def calc_metrics(predictions, references):\n",
    "    f1 = calc_mean_f1_score(predictions, references)\n",
    "    em = float(exact_match.compute(predictions=predictions, references=references)['exact_match'])\n",
    "    return(f1, em)\n",
    "\n",
    "calc_metrics(predictions, references)"
   ]
  },
  {
   "cell_type": "code",
   "execution_count": 24,
   "id": "9b218748-0760-4b2d-a64f-5e820602736b",
   "metadata": {},
   "outputs": [
    {
     "data": {
      "text/plain": [
       "['kontekst: Pisma rabiniczne – w tym Miszna – stanowią kompilację poglądów różnych rabinów na określony temat. Zgodnie z wierzeniami judaizmu Mojżesz otrzymał od Boga całą Torę, ale w dwóch częściach: jedną część w formie pisanej, a drugą część w formie ustnej. Miszna – jako Tora ustna – była traktowana nie tylko jako uzupełnienie Tory spisanej, ale również jako jej interpretacja i wyjaśnienie w konkretnych sytuacjach życiowych. Tym samym Miszna stanowiąca kodeks Prawa religijnego zaczęła równocześnie służyć za jego ustnie przekazywany podręcznik. pytanie: Czym są pisma rabiniczne?',\n",
       " 'kontekst: Pisma rabiniczne – w tym Miszna – stanowią kompilację poglądów różnych rabinów na określony temat. Zgodnie z wierzeniami judaizmu Mojżesz otrzymał od Boga całą Torę, ale w dwóch częściach: jedną część w formie pisanej, a drugą część w formie ustnej. Miszna – jako Tora ustna – była traktowana nie tylko jako uzupełnienie Tory spisanej, ale również jako jej interpretacja i wyjaśnienie w konkretnych sytuacjach życiowych. Tym samym Miszna stanowiąca kodeks Prawa religijnego zaczęła równocześnie służyć za jego ustnie przekazywany podręcznik. pytanie: Z ilu komponentów składała się Tora przekazana Mojżeszowi?',\n",
       " 'kontekst: Pisma rabiniczne – w tym Miszna – stanowią kompilację poglądów różnych rabinów na określony temat. Zgodnie z wierzeniami judaizmu Mojżesz otrzymał od Boga całą Torę, ale w dwóch częściach: jedną część w formie pisanej, a drugą część w formie ustnej. Miszna – jako Tora ustna – była traktowana nie tylko jako uzupełnienie Tory spisanej, ale również jako jej interpretacja i wyjaśnienie w konkretnych sytuacjach życiowych. Tym samym Miszna stanowiąca kodeks Prawa religijnego zaczęła równocześnie służyć za jego ustnie przekazywany podręcznik. pytanie: W jakich formach występowała Tora przekazana Mojżeszowi?',\n",
       " 'kontekst: Pisma rabiniczne – w tym Miszna – stanowią kompilację poglądów różnych rabinów na określony temat. Zgodnie z wierzeniami judaizmu Mojżesz otrzymał od Boga całą Torę, ale w dwóch częściach: jedną część w formie pisanej, a drugą część w formie ustnej. Miszna – jako Tora ustna – była traktowana nie tylko jako uzupełnienie Tory spisanej, ale również jako jej interpretacja i wyjaśnienie w konkretnych sytuacjach życiowych. Tym samym Miszna stanowiąca kodeks Prawa religijnego zaczęła równocześnie służyć za jego ustnie przekazywany podręcznik. pytanie: W jakiej formie przekazana została Miszna?',\n",
       " 'kontekst: Sformowany przez nią oddział partyzancki liczył 280 strzelców, kilkuset chłopów kosynierów i 60 kawalerzystów. Wraz z oddziałem rozpoczęła marsz w kierunku Dyneburga, po drodze do oddziału dołączali wciąż ochotnicy. 29 marca 1831 wkroczyła do Dusiatów, gdzie pod rozwiniętą flagą Polski zachęcała okoliczną ludność do przyłączenia się do powstania. 30 marca 1831 wraz ze swym hufcem zajęła stację Daugiele. 2 kwietnia jej oddział stoczył zwycięską potyczkę i zniósł kompanię piechoty rosyjskiej pod Ucianami. 4 kwietnia uderzyła na jedną z kolumn korpusu gen. Schirmana, która zmierzała w rejon koncentracji głównych sił rosyjskich w Dyneburgu. Oddział Emilii Plater opanował Jeziorosy, gdzie zdążono wpisać do akt grodzkich akt powstania. Zaskoczenie Dyneburga nie powiodło się powstańcom, młodzi zrewoltowani podchorążowie zostali wysłani do obozu Dybicza. Wobec pogarszającego się położenia militarnego, Emilia zrezygnowała ostatecznie z ataku na Dyneburg. Emilia dzieliła z podkomendnymi wszystkie trudy walki partyzanckiej, zyskała sobie wkrótce ich miłość i uznanie, chociaż w świecie salonów nie szczędzono jej złośliwych uwag i zarzutów niemoralności. W zaciętych walkach, stoczonych z Schirmanem pod Ucianą i Oniksztami oddział Emilii poniósł znaczne straty w zabitych i rannych, uległ rozproszeniu, resztę Emilia Plater przyłączyła do oddziału Cezarego Platera. pytanie: Kto początkowo należał do oddziału stworzonego przez Emilię?']"
      ]
     },
     "execution_count": 24,
     "metadata": {},
     "output_type": "execute_result"
    }
   ],
   "source": [
    "valid_dataset_dct['question_and_context'][:5]"
   ]
  },
  {
   "cell_type": "code",
   "execution_count": 46,
   "id": "a57da66a-ec2e-47e5-9f48-3ab7b17281d0",
   "metadata": {},
   "outputs": [
    {
     "name": "stderr",
     "output_type": "stream",
     "text": [
      " 10%|████▍                                       | 2/20 [00:00<00:02,  6.61it/s]"
     ]
    },
    {
     "name": "stdout",
     "output_type": "stream",
     "text": [
      "PROMPT   : kontekst: Pisma rabiniczne – w tym Miszna – stanowią kompilację poglądów różnych rabinów na określony temat. Zgodnie z wierzeniami judaizmu Mojżesz otrzymał od Boga całą Torę, ale w dwóch częściach: jedną część w formie pisanej, a drugą część w formie ustnej. Miszna – jako Tora ustna – była traktowana nie tylko jako uzupełnienie Tory spisanej, ale również jako jej interpretacja i wyjaśnienie w konkretnych sytuacjach życiowych. Tym samym Miszna stanowiąca kodeks Prawa religijnego zaczęła równocześnie służyć za jego ustnie przekazywany podręcznik. pytanie: Czym są pisma rabiniczne?\n",
      "\n",
      "PREDICTED: kompilacją poglądów różnych rabinów na określony temat\n",
      "TRUE     : kompilacją poglądów różnych rabinów na określony temat\n",
      "\n",
      "\n",
      "PROMPT   : kontekst: Sformowany przez nią oddział partyzancki liczył 280 strzelców, kilkuset chłopów kosynierów i 60 kawalerzystów. Wraz z oddziałem rozpoczęła marsz w kierunku Dyneburga, po drodze do oddziału dołączali wciąż ochotnicy. 29 marca 1831 wkroczyła do Dusiatów, gdzie pod rozwiniętą flagą Polski zachęcała okoliczną ludność do przyłączenia się do powstania. 30 marca 1831 wraz ze swym hufcem zajęła stację Daugiele. 2 kwietnia jej oddział stoczył zwycięską potyczkę i zniósł kompanię piechoty rosyjskiej pod Ucianami. 4 kwietnia uderzyła na jedną z kolumn korpusu gen. Schirmana, która zmierzała w rejon koncentracji głównych sił rosyjskich w Dyneburgu. Oddział Emilii Plater opanował Jeziorosy, gdzie zdążono wpisać do akt grodzkich akt powstania. Zaskoczenie Dyneburga nie powiodło się powstańcom, młodzi zrewoltowani podchorążowie zostali wysłani do obozu Dybicza. Wobec pogarszającego się położenia militarnego, Emilia zrezygnowała ostatecznie z ataku na Dyneburg. Emilia dzieliła z podkomendnymi wszystkie trudy walki partyzanckiej, zyskała sobie wkrótce ich miłość i uznanie, chociaż w świecie salonów nie szczędzono jej złośliwych uwag i zarzutów niemoralności. W zaciętych walkach, stoczonych z Schirmanem pod Ucianą i Oniksztami oddział Emilii poniósł znaczne straty w zabitych i rannych, uległ rozproszeniu, resztę Emilia Plater przyłączyła do oddziału Cezarego Platera. pytanie: Kiedy Plater wraz z oddziałem dotarła do Dusiatów?\n",
      "\n",
      "PREDICTED: 29 marca 1831\n",
      "TRUE     : 29 marca 1831\n",
      "\n",
      "\n"
     ]
    },
    {
     "name": "stderr",
     "output_type": "stream",
     "text": [
      " 15%|██████▌                                     | 3/20 [00:00<00:02,  7.81it/s]"
     ]
    },
    {
     "name": "stdout",
     "output_type": "stream",
     "text": [
      "PROMPT   : kontekst: Zaręczyny pary ogłoszono 28 lipca 2007 za pośrednictwem biura Pałacu Buckingham. Kelly, ochrzczona w Kościele katolickim, dokonała konwersji na anglikanizm, aby jej przyszły mąż mógł utrzymać miejsce w linii sukcesji brytyjskiego tronu, w tym czasie bowiem Act of Settlement odsuwał od dziedziczenia tronu osoby, które poślubiły katolików. Ceremonia zaślubin miała miejsce 30 kwietnia 2008 w Kaplicy Świętego Jerzego na Zamku Windsor, a przewodniczył jej dziekan kapituły Windsoru, David Conner. Phillips jest pierwszym wnukiem królowej, który wstąpił w związek małżeński. Uroczystość relacjonował w specjalnym wydaniu magazyn Hello!, za co para otrzymała pięćset tysięcy funtów. Małżonkowie przejechali przez teren posiadłości bryczką, a następnie uczestniczyli w przyjęciu weselnym we Frogmore Cottage. Była to pierwsza okazja, w czasie której Katarzyna Middleton (późniejsza księżna Cambridge) reprezentowała samodzielnie swojego ówczesnego partnera, księcia Wilhelma, w oficjalnym wydarzeniu pytanie: Wynagrodzenie w jakiej wysokości otrzymała para za zezwolenie na opublikowanie relacji ze ślubu?\n",
      "\n",
      "PREDICTED: pięćset tysięcy funtów\n",
      "TRUE     : pięćset tysięcy funtów\n",
      "\n",
      "\n"
     ]
    },
    {
     "name": "stderr",
     "output_type": "stream",
     "text": [
      " 20%|████████▊                                   | 4/20 [00:00<00:02,  5.79it/s]"
     ]
    },
    {
     "name": "stdout",
     "output_type": "stream",
     "text": [
      "PROMPT   : kontekst: Od 2014 roku w Superpucharze, z inicjatywy prezesa PZPN Zbigniewa Bońka, nastąpiła zmiana, gdyż po 8 latach przerwy związek podjął na swoje barki organizację rozgrywek o Superpuchar. O trofeum walczyć będą Mistrz Polski oraz zdobywca Pucharu Polski sezonu zakończonego w roku rozgrywania Superpucharu. Tym samym powrócono do nazwy Superpuchar Polski. Mecz rozgrywany będzie na stadionie Mistrza Polski, na około tydzień przed startem nowego sezonu Ekstraklasy. W sytuacji, gdy ten sam klub sięgnie po mistrzostwo i Puchar Polski, jego rywalem w meczu o trofeum będzie finalista ostatniej edycji Pucharu Polski. pytanie: Kto zmierzy się w pojedynku o Superpuchar?\n",
      "\n",
      "PREDICTED: Mistrz Polski oraz zdobywca Pucharu Polski sezonu zakończonego w roku rozgrywania Superpucharu\n",
      "TRUE     : Mistrz Polski oraz zdobywca Pucharu Polski sezonu zakończonego w roku rozgrywania Superpucharu\n",
      "\n",
      "\n"
     ]
    },
    {
     "name": "stderr",
     "output_type": "stream",
     "text": [
      " 30%|█████████████▏                              | 6/20 [00:01<00:02,  4.94it/s]"
     ]
    },
    {
     "name": "stdout",
     "output_type": "stream",
     "text": [
      "PROMPT   : kontekst: Ze względu na organizację Euro 2012 Superpuchar Ekstraklasy jak i cały sezon ligowy rozpoczął się nie jak dotychczas w lipcu, a w sierpniu. Jednocześnie nie potrafiono znaleźć obiektu w którym mógłby przyjąć piłkarzy i kibiców Legii Warszawa (Zdobywcy Pucharu Polski) i Śląska Wrocław (Mistrza Polski). Zdecydowano ostatecznie że mecz o Superpuchar Polski odbędzie się na stadionie przy ulicy Łazienkowskiej w Warszawie. Organizacja meczu na stadionie Legii została skrytykowana przez kibiców obu drużyn, przez co większość kibiców postanowiła zbojkotować to spotkanie, przez co na meczu zjawiło się zaledwie 5000 widzów. 12 sierpnia 2012 na Stadionie Wojska Polskiego Legia która była zdobywcą Pucharu Polski remisowała po regulaminowym czasie 1:1 z mistrzem kraju Śląskiem Wrocław. W konsekwencji doszło do rzutów karnych gdzie lepszy był wrocławski zespół 4:2. pytanie: Na czym polegał problem ze znalezieniem stadionu odpowiedniego do Superpucharu Polski 2012?\n",
      "\n",
      "PREDICTED: nie potrafiono znaleźć obiektu w którym mógłby przyjąć piłkarzy i kibiców Legii Warszawa i Śląska Wrocław (Mistrza Polski)\n",
      "TRUE     : nie było odpowiednio dużego obiektu\n",
      "\n",
      "\n",
      "PROMPT   : kontekst: 2 listopada 2015 w Piekarach Śląskich uruchomiono strefę płatnego parkowania, w której płatności odbywa się w automatach ŚKUP (gotówką lub kartą ŚKUP). Tego samego dnia uruchomiono parkomaty ŚKUP (z możliwością płatności gotówką lub kartą ŚKUP) w Tychach, gdzie wcześniej opłatę za parking pobierali inkasenci. Na przełomie listopada i grudnia w katowickich parkomatach uruchomiono możliwość płacenia kartami ŚKUP (same automaty uruchomiono wcześniej, ale przyjmowały tylko płatności gotówkowe), a 16 grudnia możliwość płacenia kartami ŚKUP uruchomiono w bytomskich parkomatach. Płatność kartami ŚKUP została również uruchomiona w parkomatach w Chorzowie i Zabrzu. W obu miastach już wcześniej funkcjonowały strefy płatnego parkowania. pytanie: Kto przyjmował opłaty za miejsca postojowe w Tychach przed oddaniem do użytku parkomatów?\n",
      "\n",
      "PREDICTED: inkasenci\n",
      "TRUE     : inkasenci\n",
      "\n",
      "\n"
     ]
    },
    {
     "name": "stderr",
     "output_type": "stream",
     "text": [
      " 35%|███████████████▍                            | 7/20 [00:01<00:02,  5.74it/s]"
     ]
    },
    {
     "name": "stdout",
     "output_type": "stream",
     "text": [
      "PROMPT   : kontekst: 28 czerwca 2004 został ukończony prototypowy pojazd typu 13WE i dwa dni później został on dostarczony do Warszawy. Po próbach układu jezdnego skład trafił do Grodziska Mazowieckiego na właściwe testy. Od 1 lipca do 25 sierpnia przeprowadzono jazdy próbne zespołu na trasie WKD, a 26 sierpnia Urząd Transportu Kolejowego wydał dla niego terminowe świadectwo dopuszczenia do eksploatacji. Następnego dnia miał miejsce przejazd jednostki dla dziennikarzy, natomiast 29 sierpnia w Grodzisku pociąg oznaczony jako EN95-01 został uroczyście przekazany do użytku. Był to wówczas pierwszy jednoprzestrzenny skład WKD. pytanie: W jakim okresie odbyły się testy pojazdu na trasie WKD?\n",
      "\n",
      "PREDICTED: Od 1 lipca do 25 sierpnia\n",
      "TRUE     : Od 1 lipca do 25 sierpnia\n",
      "\n",
      "\n"
     ]
    },
    {
     "name": "stderr",
     "output_type": "stream",
     "text": [
      " 40%|█████████████████▌                          | 8/20 [00:01<00:02,  4.97it/s]"
     ]
    },
    {
     "name": "stdout",
     "output_type": "stream",
     "text": [
      "PROMPT   : kontekst: Podczas przechodzenia przez drzwi wejściowe mezuza powinna być dotykana z pobożnością. Podczas wchodzenia i wychodzenia z domu wypowiadana jest modlitwa „Niech Bóg chroni moje wyjścia i powroty, teraz i w przyszłości”. Praktykowane bywa także składanie pocałunku na tej dłoni, którą dotknęło się mezuzy. Pocałunek może być także składany na własnych palcach przed dotknięciem nimi mezuzy. Gest ten ma wyrażać „miłość i szacunek w stosunku do Boga oraz Jego przykazań i przypominać o zawartych w nich zaleceniach”. pytanie: Jaką modlitwę odmawia się przy przekraczaniu progu domu?\n",
      "\n",
      "PREDICTED: Niech Bóg chroni moje wyjścia i powroty, teraz i w przyszłości\n",
      "TRUE     : Niech Bóg chroni moje wyjścia i powroty, teraz i w przyszłości\n",
      "\n",
      "\n"
     ]
    },
    {
     "name": "stderr",
     "output_type": "stream",
     "text": [
      " 55%|███████████████████████▋                   | 11/20 [00:01<00:01,  6.50it/s]"
     ]
    },
    {
     "name": "stdout",
     "output_type": "stream",
     "text": [
      "PROMPT   : kontekst: W 2014 roku Rosja, w odpowiedzi na obalenie prorosyjskiego prezydenta Ukrainy Wiktora Janukowycza, doprowadziła do oderwania Krymu od Ukrainy, a następnie do zbrojnej secesji obwodów donieckiego i ługańskiego, prowadzącej do faktycznej wojny rosyjsko-ukraińskiej na wschodzie kraju. Paradoksalnie z punktu celów rosyjskich, doprowadziło to do dominacji wśród ludności Ukrainy nastrojów antyrosyjskich i zacieśnienia relacji z Unią Europejską oraz współpracy wojskowej z NATO. Jej armia, której efektywność była krytykowana w 2014 roku, została zreorganizowana, lepiej wyszkolona z pomocą państw NATO, oraz doposażona w nowsze uzbrojenie, w tym kupowane na Zachodzie. Spowodowało to też zwiększenie aktywności wojskowej USA w krajach wschodniej flanki NATO. pytanie: Jaka była przyczyna aneksji Krymu?\n",
      "\n",
      "PREDICTED: obalenie prorosyjskiego prezydenta Ukrainy Wiktora Janukowycza\n",
      "TRUE     : obalenie prorosyjskiego prezydenta Ukrainy\n",
      "\n",
      "\n",
      "PROMPT   : kontekst: 5 sierpnia o świcie oddziały OW PPS trzymały nadal barykadę na Wolskiej. Południowe ubezpieczenie całej linii obronnej od cmentarza powązkowskiego do szpitala św. Stanisława na Wolskiej, stanowiła Milicja PPS. Początkowe natarcie zgrupowania Reinefartha ok. 7.00 zostało odparte, żołnierze plutonu AL zniszczyli czołg. Około godz. 8.00 pluton OW PPS zajmujący pozycje w Fabryce Franaszka przed barykadą i przy zabudowaniach szpitala św. Stanisława przepuścił Niemców, a następnie otworzył skuteczny ogień, zmuszając ich do wycofania. Według Lesława Bartelskiego barykady broniło wówczas ok. 200 żołnierzy (z tego 100 z OW PPS, oddział Czwartaków, pluton „Czarnego” z Batalionu Parasol), posiadając 3 ckm 1 granatnik, 62 kb 16 pm i 260 granatów. Według Adama Przygońskiego, głównego odcinka frontu od ul. Ożarowskiej, wzdłuż ul. Płockiej i Wolskiej, do remizy przy ul. Młynarskiej broniło 400 żołnierzy w tym 150 żołnierzy AL i ok. 100 OW PPS. Według wspomnień żołnierzy OW PPS, cytowanych przez Przygońskiego, było to 232 uzbrojonych żołnierzy w tym 98 z OW PPS,14 z AL i 120 z AK. Atak prowadziło natomiast zgrupowanie 3000 żołnierzy niemieckich wsparte kompanią ciężkich czołgów. pytanie: Ilu żołnierzy, zdaniem Bartelskiego, strzegło barykady?\n",
      "\n",
      "PREDICTED: 200\n",
      "TRUE     : ok. 200\n",
      "\n",
      "\n",
      "PROMPT   : kontekst: Polscy siatkarze zadebiutowali w mistrzostwach świata już w pierwszej edycji – w 1949 w Pradze (w swym inauguracyjnym meczu pokonali 3:0 Holandię). W 1974 w Meksyku po raz pierwszy wywalczyli złoty medal (wygrali wszystkie spotkania). Był to zarazem pierwszy medal zdobyty przez jakąkolwiek drużynową reprezentację biało-czerwonych w mistrzostwach świata. Kolejny medal – tym razem srebrny – Polacy wywieźli z Japonii w 2006. Trzeci medal, a drugi złoty \"biało-czerwoni\" wywalczyli w 2014 na własnych parkietach. Po raz trzeci złoty medal zdobyli w 2018. Polska uczestniczyła w 17 z 19 turniejów mistrzowskich (stan po MŚ 2018) - nie zakwalifikowała się jedynie do mistrzostw w 1990 i w 1994. pytanie: Z jaki krajem Polska rozegrała pierwszy mecz podczas mistrzostw świata piłki siatkowej? \n",
      "\n",
      "PREDICTED: Holandią\n",
      "TRUE     : Holandią\n",
      "\n",
      "\n",
      "PROMPT   : kontekst: Od początku kryzysu wokół Trybunału Konstytucyjnego w 2015 r. regularnie występuje w mediach oraz na spotkaniach jako publicysta, komentator i ekspert ds. konstytucyjnych, będąc określanym jako „jeden z największych krytyków działań Prawa i Sprawiedliwości”. Od 2019 r. pod nazwą Profesor Matczak prowadzi popularyzujący prawoznawstwo kanał w serwisie YouTube, a od 2020 r. podcast o tej samej nazwie. W lutym 2021 r. został stałym współpracownikiem internetowej rozgłośni Halo.Radio, na której antenie nadawane są jego autorskie felietony. pytanie: Jak nazywa się prowadzony przez niego podcast?\n",
      "\n",
      "PREDICTED: Profesor Matczak\n",
      "TRUE     : Profesor Matczak\n",
      "\n",
      "\n"
     ]
    },
    {
     "name": "stderr",
     "output_type": "stream",
     "text": [
      " 65%|███████████████████████████▉               | 13/20 [00:02<00:01,  6.40it/s]"
     ]
    },
    {
     "name": "stdout",
     "output_type": "stream",
     "text": [
      "PROMPT   : kontekst: To zachęciło dziennikarzy i słuchaczy do analizy słów utworu „C7osure (You Like)” z jego minialbumu, 7. Magazyn Rolling Stone zauważył, że kompozycja „dotyka takich tematów, jak mówienie prawdy, dorastanie i akceptowanie samego siebie”. Następnego dnia artysta opublikował na portalu oryginalną okładkę wcześniej wspomnianego projektu, dopisując: „ja głupi myślałem, że to, co zrobiłem jest oczywiste”. W wywiadzie dla programu BBC Breakfast Lil Nas X był dwuznaczny, stwierdzając, że jest gejem i jego seksualność nie jest akceptowana w środowisku hip-hop i country. Reakcje na tę sytuację były w głównie pozytywne, jednakże część z nich była negatywna i zawierała dużą ilość homofobicznych wypowiedzi, na co Nas X zareagował. Sprzeciwiła się również branża rapu, zwracając szczególnie na momenty homofobii w jej kulturze. W styczniu 2020 roku raper Pastor Troy w sposób homofobiczny skrytykował strój, który Lil Nas X miał na sobie podczas nagród Grammy, na co Lil odpowiedział: „Cholera, wyglądam naprawdę dobrze na tym zdjęciu”. pytanie: Jakie tematy poruszył w swojej piosence Hill?\n",
      "\n",
      "PREDICTED: mówienie prawdy, dorastanie i akceptowanie samego siebie\n",
      "TRUE     : mówienie prawdy, dorastanie i akceptowanie samego siebie\n",
      "\n",
      "\n"
     ]
    },
    {
     "name": "stderr",
     "output_type": "stream",
     "text": [
      " 75%|████████████████████████████████▎          | 15/20 [00:03<00:01,  3.53it/s]"
     ]
    },
    {
     "name": "stdout",
     "output_type": "stream",
     "text": [
      "PROMPT   : kontekst: 19 stycznia 1931 roku do Gdyni przybył ORP „Ryś” pod dowództwem kpt. mar. Edwarda Szystowskiego, zaś 23 listopada pod dowództwem kpt. mar. Aleksandra Mohuczego, prowadzony przez zaledwie 35-osobową załogę, ORP „Wilk”. Drugi z tych okrętów został przywitany na polskich wodach terytorialnych przez swój okręt bliźniaczy oraz kanonierkę „Generał Haller”. Wkrótce po przybyciu drugiego okrętu, rozkazem nr 97 szef Kierownictwa Marynarki Wojennej z dniem 9 grudnia 1931 roku utworzył Grupę Okrętów Podwodnych pod dowództwem kpt. Mohuczego, pełniącego jednocześnie obowiązki dowódcy „Wilka”. W styczniu 1932 roku „Ryś” powrócił do stoczni w Nantes aby odebrać stamtąd brakujące wyposażenie, zaś 19 marca tego roku do Gdyni przypłynął pod dowództwem kmdr. ppor. Eugeniusza Pławskiego ORP „Żbik”, powitany na miejscu przez OORP „Wilk” i „Generał Haller”. Przybycie ostatniego okrętu spowodowało, że zarządzeniem nr 724 z 30 kwietnia 1932 roku, Szef Kierownictwa Marynarki Wojennej z dniem 1 maja tego roku utworzył Dywizjon Łodzi Podwodnych, 23 września 1936 roku przemianowany na Dywizjon Okrętów Podwodnych, w skład którego weszły wszystkie polskie okręty podwodne. Bazą macierzystą i głównym zapleczem jednostek Dywizjonu został port wojenny w Gdyni-Oksywiu, którego basen północny został przeznaczony dla okrętów podwodnych. Rozkazem szefa Kierownictwa Marynarki Wojennej, każdy z okrętów otrzymał swój znak rozpoznawczy, którym była pierwsza litera nazwy okrętu wymalowana na obu bokach kiosku. Znaki te obowiązywały do 1 lipca 1937 roku, kiedy, na rozkaz nr 33 szefa KMW z 14 czerwca tego roku, zostały zamalowane. W ramach Dywizjonu jednostki należały do umownego pionu okrętów (odrębnego od pionu bazy), obejmującego wszystkie sprawy związane ze szkoleniem załóg okrętowych w ruchu i w czasie postoju, a także obsługę mechanizmów głównych i pomocniczych, systemów okrętowych i uzbrojenia, ponadto konserwację i remont okrętów, pełnienie codziennej służby wachtowej oraz realizację zadań szkoleniowych w morzu. pytanie: Jakie zadania należały do pionu okrętów?\n",
      "\n",
      "PREDICTED: szkolenia załóg okrętowych w ruchu i w czasie postoju, a także obsługę mechanizmów głównych i pomocniczych, systemów okrętowych i uzbrojenia, ponadto konserwację i remont okrętów, pełnienie codziennej służby wachtowej oraz realizację zadań szkoleniowych w morzu\n",
      "TRUE     : szkolenie załóg okrętowych w ruchu i w czasie postoju, obsługa mechanizmów głównych i pomocniczych, systemów okrętowych i uzbrojenia, konserwacja i remont okrętów, pełnienie codziennej służby wachtowej oraz realizacja zadań szkoleniowych w morzu\n",
      "\n",
      "\n",
      "PROMPT   : kontekst: W historii wojskowości koniec średniowiecza w Europie Zachodniej wiąże się jednoznacznie z kresem rycerstwa, wraz z jego etosem i sposobem prowadzenia walki. W Polsce, podobnie jak w niektórych innych krajach Europy, rycerstwo (szlachtę) zwoływano na wojnę (pospolite ruszenie) aż do czasów saskich. Taki wyznacznik ramowy końca średniowiecza w Polsce należy więc odrzucić, a w jego miejsce przyjąć moment, gdy ciężką jazdę kopijniczą, z jej pełnymi zbrojami płytowymi, zastąpiły formacje tzw. narodowego autoramentu z husarią na czele. Na znajdującym się w zbiorach Muzeum Narodowego w Warszawie znanym obrazie Bitwa pod Orszą widać wyraźnie walczące ramię w ramię oddziały, lekkiej jeszcze wtedy husarii i ciężkiej jazdy kopijniczej. Bitwa pod Orszą rozegrana została jesienią 1514 roku. W bitwie pod Obertynem (1531) po stronie polskiej występuje już tylko lekka jazda, więc być może te dwie daty stanowią punkty graniczne jako ostatnia bitwa polskiego średniowiecza (Orsza) i pierwsza polska bitwa epoki nowożytnej (Obertyn). pytanie: Jaka formacja wojenna walczyła po polskiej stronie podczas walki stoczonej w 1531 roku?\n",
      "\n",
      "PREDICTED: lekka jazda\n",
      "TRUE     : lekka jazda\n",
      "\n",
      "\n"
     ]
    },
    {
     "name": "stderr",
     "output_type": "stream",
     "text": [
      " 85%|████████████████████████████████████▌      | 17/20 [00:03<00:00,  4.54it/s]"
     ]
    },
    {
     "name": "stdout",
     "output_type": "stream",
     "text": [
      "PROMPT   : kontekst: Odkrycia kolejnych transneptunowych obiektów pokazały, że w rzeczywistości Pas Kuipera nie jest źródłem komet krótkookresowych. Pochodzą one z tzw. dysku rozproszonego. Powstał on w początkowym okresie formowania się Układu Słonecznego, gdy Neptun oddalił się w rejony powstającego Pasa Kuipera, znajdującego się wtedy znacznie bliżej Słońca. Jego grawitacja zaburzyła orbity części obiektów z Pasa, rozciągając je i sprawiając, że obecnie ich peryhelia znajdują się w pobliżu orbity Neptuna. Dzięki temu mogą one, w przeciwieństwie do większości obiektów z Pasa, być wciąż wytrącane z orbit przez Neptuna i trafiać do wewnętrznego Układu. Ta grupa obiektów, nazwana dyskiem rozproszonym, jest uważana za źródło większości komet krótkookresowych. pytanie: Odkrycia jakich obiektów wpłynęły na poszerzenie wiedzy o Pasie Kurpiera?\n",
      "\n",
      "PREDICTED: kolejnych transneptunowych obiektów\n",
      "TRUE     : transneptunowych\n",
      "\n",
      "\n",
      "PROMPT   : kontekst: W latach 1972–1981 był pracownikiem naukowo-dydaktycznym na Wydziale Prawa i Administracji UW. Od początku lat 80. przebywał za granicą. Od 1983 do 1985 wykładał prawo na University of Melbourne, a w latach 1985–1993 na University of Sydney. Od 1994 jest profesorem filozofii prawa na Wydziale Prawa tej uczelni, a od 1999 profesorem teorii prawa na Wydziale Prawa Europejskiego Instytutu Uniwersyteckiego we Florencji. W latach 2003–2006 był dziekanem Wydziału Prawa Europejskiego Instytutu Uniwersyteckiego. Gościnnie wykładał na University of Sydney (1981–1982), w Yale Law School (1983–1984), Cornell University School of Law w Ithace (1995–1996) i Saint Louis University School of Law (1998). Jest również pracownikiem Sekcji Badań i Szkoleń w Centrum Europejskim Uniwersytetu Warszawskiego. pytanie: W jakiej jednostce uczelni prawnik obejmował stanowisko dziekana?\n",
      "\n",
      "PREDICTED: Wydziału Prawa Europejskiego Instytutu Uniwersyteckiego\n",
      "TRUE     : na Wydziale Prawa Europejskiego Instytutu Uniwersyteckiego\n",
      "\n",
      "\n"
     ]
    },
    {
     "name": "stderr",
     "output_type": "stream",
     "text": [
      " 90%|██████████████████████████████████████▋    | 18/20 [00:03<00:00,  4.50it/s]"
     ]
    },
    {
     "name": "stdout",
     "output_type": "stream",
     "text": [
      "PROMPT   : kontekst: Z drugiej jednak strony władze chińskie podjęły przed igrzyskami starania, by zapobiec ewentualnym protestom. Aktywista praw człowieka Ye Guozhu otrzymał czteroletni wyrok za uczestnictwo w organizowaniu demonstracji, skierowanej przeciw przymusowymi eksmisjom w Pekinie. Podczas przygotowań do organizacji igrzysk władze chińskie dokonały licznych przesiedleń, mających na celu przygotowania miejsca na przyszłe obiekty olimpijskie. Podczas samych Igrzysk władze chińskie również nie dopuszczały do przeprowadzania demonstracji przeciwko łamaniu praw człowieka. Mimo wyznaczenia trzech miejskich parków, w których mogłyby być organizowane demonstracje, władze odrzuciły wszystkie petycje w sprawie zorganizowania tam manifestacji. pytanie: Za co ukarano Guozhu?\n",
      "\n",
      "PREDICTED: uczestnictwo w organizowaniu demonstracji, skierowanej przeciw przymusowymi eksmisjom w Pekinie\n",
      "TRUE     : za uczestnictwo w organizowaniu demonstracji\n",
      "\n",
      "\n",
      "PROMPT   : kontekst: Szybko dostał angaż do kilku francuskich seriali. W 1997 pojawił się w filmie telewizyjnym Mission protection rapprochée. Za rolę Loïca w komedii Letni zawrót głowy (Embrassez qui vous voudrez, 2003) z Charlotte Rampling i Jakiem Dutronc oraz za postać Yvana w melodramacie Zabłąkani (Les Égarés, 2003) u boku Emmanuelle Béart zdobył nominację do nagrody Césara w kategorii Najbardziej Obiecującego Aktora. Kreacja Manecha, jednego z pięciu rannych żołnierzy, którzy stanęli przed sądem wojennym w melodramacie Bardzo długie zaręczyny (Un long dimanche de fiançailles, 2004) z Audrey Tautou przyniosła mu nagrodę Césara. W prequelu filmu Milczenie owiec – Hannibal: Po drugiej stronie maski (Hannibal Rising, 2007) wcielił się w rolę tytułowego bohatera, Hannibala Lectera. pytanie: Kogo aktor zagrał w Letnim zawrocie głowy?\n",
      "\n",
      "PREDICTED: Loïca\n",
      "TRUE     : Loïcę\n",
      "\n",
      "\n"
     ]
    },
    {
     "name": "stderr",
     "output_type": "stream",
     "text": [
      "100%|███████████████████████████████████████████| 20/20 [00:04<00:00,  4.90it/s]"
     ]
    },
    {
     "name": "stdout",
     "output_type": "stream",
     "text": [
      "PROMPT   : kontekst: Ze względu na opór stawiany przez Forstera Himmler w dniu 26 października 1939 podjął decyzję o chwilowym wstrzymaniu wysiedleń z ziem wcielonych do Rzeszy. Już cztery dni później wydał jednak rozporządzenie nr 1/II do dekretu Hitlera o umocnieniu Niemczyzny, w którym nakazywał, aby do końca lutego 1940 z terenów Okręgu Rzeszy Gdańsk-Prusy Zachodnie wysiedleni zostali wszyscy Żydzi oraz Polacy przybyli na Pomorze po 1918 roku. 3 listopada 1939 ponownie wezwał natomiast do kontynuowania na Pomorzu i w Poznańskiem akcji osadniczo-wysiedleńczej związanej z ewakuacją Niemców bałtyckich. Z kolei w dniu 15 listopada Hildebrandt zorganizował w Gdańsku naradę z udziałem przedstawicieli władz okręgu, której celem było wypracowanie wspólnego stanowiska w sprawie planowanych przesiedleń. W trakcie konferencji najwięcej miejsca poświęcono kwestii osadnictwa Niemców bałtyckich. Hildebrandt wychodząc nieco naprzeciw postulatom Forstera, zgodził się, że Okręg Gdańsk-Prusy Zachodnie może przyjąć tylko niewielką liczbę Baltendeutschów – głównie przedstawicieli inteligencji lub wykwalifikowanych robotników. W ślad za postanowieniami konferencji w Krakowie (8 listopada) potwierdzono, że z Pomorza zostanie w krótkim czasie deportowanych blisko 400 tys. Polaków i Żydów. Postanowiono, że wysiedleniami zostaną objęte przede wszystkim południowe powiaty prowincji – najgęściej zamieszkiwane przez Polaków. Z inicjatywy dr Rudolfa Trögera – gdańskiego inspektora SD i policji bezpieczeństwa (IdS) – postanowiono również, że w pierwszym rzędzie będą wysiedlane rodziny Polaków zamordowanych podczas akcji „Inteligencja”. pytanie: Gdzie naradzano się w sprawie planowanych przesiedleń?\n",
      "\n",
      "PREDICTED: w Gdańsku\n",
      "TRUE     : w Gdańsku\n",
      "\n",
      "\n"
     ]
    },
    {
     "name": "stderr",
     "output_type": "stream",
     "text": [
      "\n"
     ]
    }
   ],
   "source": [
    "from tqdm import tqdm\n",
    "\n",
    "def evaluate_on_dataset(dataset_dct, debug=False, limit=None, step=None):\n",
    "    predicted_answers = []\n",
    "    reference_answers = []\n",
    "    for question, answer in tqdm(zip(dataset_dct['question_and_context'][:limit:step], \n",
    "                                 dataset_dct['abstractive_answer'][:limit:step]), \n",
    "                                 total=len(dataset_dct['question_and_context'][:limit:step])): \n",
    "        \n",
    "        inputs = tokenizer(question, return_tensors=\"pt\", max_length=512, truncation=True)\n",
    "        inputs = {key: value.to('cuda') for key, value in inputs.items()}\n",
    "        outputs = model.generate(inputs['input_ids'], max_length=64, num_beams=16, early_stopping=True)\n",
    "        predicted_answer = tokenizer.decode(outputs[0], skip_special_tokens=True) \n",
    "        # converting answer to string for easier debugging and avoiding padding [0, ...] tokens at beginning of model response\n",
    "        predicted_answers.append(predicted_answer)\n",
    "        reference_answers.append(answer) \n",
    "\n",
    "        if debug:\n",
    "            print(f\"PROMPT   : {question}\\n\")\n",
    "            print(f\"PREDICTED: {predicted_answer}\")\n",
    "            print(f\"TRUE     : {answer}\\n\\n\")\n",
    "\n",
    "    return calc_metrics(predicted_answers, reference_answers)\n",
    "    \n",
    "f1, em = evaluate_on_dataset(valid_dataset_dct, limit=100, step=5, debug=True)"
   ]
  },
  {
   "cell_type": "code",
   "execution_count": 47,
   "id": "35cab2b5-e491-4e0f-8528-e7f429c52533",
   "metadata": {},
   "outputs": [
    {
     "name": "stderr",
     "output_type": "stream",
     "text": [
      "\n",
      "00%|███████████████████████████████████████| 5764/5764 [15:10<00:00,  6.33it/s]"
     ]
    }
   ],
   "source": [
    "f1, em = evaluate_on_dataset(valid_dataset_dct)"
   ]
  },
  {
   "cell_type": "code",
   "execution_count": 50,
   "id": "61b6ab02-ad39-4e6d-be2c-d6d8222033e4",
   "metadata": {},
   "outputs": [
    {
     "name": "stdout",
     "output_type": "stream",
     "text": [
      "VALIDATION DATASET\n",
      "f1 score    = 0.6451048679009687\n",
      "exact match = 0.5293199167244969\n"
     ]
    }
   ],
   "source": [
    "print('VALIDATION DATASET')\n",
    "print(f\"f1 score    = {f1}\")\n",
    "print(f\"exact match = {em}\")"
   ]
  },
  {
   "cell_type": "code",
   "execution_count": 51,
   "id": "e80c619d-49b3-4817-b870-af3405f201e2",
   "metadata": {},
   "outputs": [
    {
     "data": {
      "text/plain": [
       "('./lab9_model/tokenizer_config.json',\n",
       " './lab9_model/special_tokens_map.json',\n",
       " './lab9_model/spiece.model',\n",
       " './lab9_model/added_tokens.json')"
      ]
     },
     "execution_count": 51,
     "metadata": {},
     "output_type": "execute_result"
    }
   ],
   "source": [
    "trainer.save_model(\"./lab9_model\")\n",
    "tokenizer.save_pretrained(\"./lab9_model\")"
   ]
  },
  {
   "cell_type": "markdown",
   "id": "b7b1af75-6839-41f6-ae21-719a307831c2",
   "metadata": {},
   "source": [
    "## Komentarz:\n",
    "\n",
    "Na zbiorze walidacyjnym model wydaje się dawać zadowalające wyniki. Być może metryki nie pokazują w pełni jego działania - zarówno exact_match jak i f_1 score uwzględniają tylko bezpośrednie porównanie wyrazów/tokenów z oczekiwaną odpowiedzą, nie patrząc na to, czy udzielone przez model odpowiedzi są zgodne z kontekstem.\n",
    "\n",
    "Na przykład w pytaniu:\n",
    "\n",
    "```\n",
    "Za co ukarano Guozhu?\n",
    "PREDICTED: uczestnictwo w organizowaniu demonstracji, skierowanej przeciw przymusowymi eksmisjom w Pekinie\n",
    "TRUE     : za uczestnictwo w organizowaniu demonstracji\n",
    "```\n",
    "model udzielił prawidłowej odpowiedzi, w dobrej formie, dodając dodatkowe szczegóły w porównaniu z zakładaną odpowiedzią, jednak według obydwu używanych metryk odpowiedź modelu będzie uznana za całkowicie złą.\n",
    "\n",
    "Model ma też problem z dobraniem odpowiedniej formy odpowiedzi, podając ją zazwyczaj jako bezpośredni cytat z tekstu, na przykład:\n",
    "```\n",
    "[...] W latach 2003–2006 był dziekanem Wydziału Prawa Europejskiego Instytutu Uniwersyteckiego. [...] W jakiej jednostce uczelni prawnik obejmował stanowisko dziekana?\n",
    "PREDICTED: Wydziału Prawa Europejskiego Instytutu Uniwersyteckiego\n",
    "TRUE     : na Wydziale Prawa Europejskiego Instytutu Uniwersyteckiego\n",
    "```\n",
    "\n",
    "Możliwe, że w zbiorze treningowym był zbyt mały udział odpowiedzi w innej formie niż ta, która występowała w kontekście, aby model nauczył się też do dopasowywania odmiany odpowiedzi do formy pytania. "
   ]
  },
  {
   "cell_type": "code",
   "execution_count": 21,
   "id": "a763e4ba-65ba-4608-adbb-8e7af8d7aa2c",
   "metadata": {},
   "outputs": [],
   "source": [
    "from transformers import T5Tokenizer, T5ForConditionalGeneration\n",
    "import torch\n",
    "\n",
    "tokenizer = T5Tokenizer.from_pretrained(\"allegro/plt5-base\")\n",
    "model = T5ForConditionalGeneration.from_pretrained(\"./lab9_model\")\n",
    "device = torch.device(\"cuda\" if torch.cuda.is_available() else \"cpu\")\n",
    "model = model.to(device)"
   ]
  },
  {
   "cell_type": "code",
   "execution_count": 23,
   "id": "bd7c630e-78b6-47ce-b62d-a10e304a4c09",
   "metadata": {},
   "outputs": [
    {
     "name": "stdout",
     "output_type": "stream",
     "text": [
      "tensor([[    0, 15344, 31897,   261, 27705,   273,   264,  6747,   273, 18172,\n",
      "         22989,   260,  1211,  1884,     1]], device='cuda:0')\n",
      "Odpowiedź: telefony komórkowe, tablety i aparaty fotograficzne sprzedawane w Unii Europejskiej\n"
     ]
    }
   ],
   "source": [
    "question = \"Jakie urządzenia do końca 2024 roku mają mieć USB typu C?\"\n",
    "context = \"Do końca 2024 roku wszystkie telefony komórkowe, tablety i aparaty fotograficzne sprzedawane w Unii Europejskiej \\\n",
    "będą musiały być wyposażone w port USB typu C. Wiosną 2026 roku Unia obejmie tym wymogiem także laptopy. \\\n",
    "Parlament przyjął nowe przepisy na wtorkowym posiedzeniu plenarnym. \\\n",
    "602 posłów głosowało za, 13– przeciw, zaś 8 posłów wstrzymało się od głosu.  \"\n",
    "\n",
    "test_prompt = f\"kontekst: {context} pytanie: {question}\"\n",
    "inputs = tokenizer(test_prompt, return_tensors=\"pt\", max_length=512, truncation=True)\n",
    "inputs = {key: value.to('cuda') for key, value in inputs.items()}\n",
    "outputs = model.generate(inputs['input_ids'], max_length=64, num_beams=16, early_stopping=True)\n",
    "print(outputs)\n",
    "answer = tokenizer.decode(outputs[0], skip_special_tokens=True)\n",
    "print(\"Odpowiedź:\", answer)"
   ]
  },
  {
   "cell_type": "code",
   "execution_count": 24,
   "id": "be2dd61c-bfa9-4bac-a66e-009d4a4a889a",
   "metadata": {},
   "outputs": [
    {
     "name": "stdout",
     "output_type": "stream",
     "text": [
      "tensor([[  0, 436,   1]], device='cuda:0')\n",
      "Odpowiedź: tak\n"
     ]
    }
   ],
   "source": [
    "question = \"Czy w 2024 roku laptopy mają być wyposażone w USB typu C?\"\n",
    "test_prompt = f\"kontekst: {context} pytanie: {question}\"\n",
    "inputs = tokenizer(test_prompt, return_tensors=\"pt\", max_length=512, truncation=True)\n",
    "inputs = {key: value.to('cuda') for key, value in inputs.items()}\n",
    "outputs = model.generate(inputs['input_ids'], max_length=64, num_beams=16, early_stopping=True)\n",
    "print(outputs)\n",
    "answer = tokenizer.decode(outputs[0], skip_special_tokens=True)\n",
    "print(\"Odpowiedź:\", answer)"
   ]
  },
  {
   "cell_type": "code",
   "execution_count": 25,
   "id": "62a0a1eb-0c1f-4801-8e9b-6933e58ae986",
   "metadata": {},
   "outputs": [
    {
     "data": {
      "text/html": [
       "<div>\n",
       "<style scoped>\n",
       "    .dataframe tbody tr th:only-of-type {\n",
       "        vertical-align: middle;\n",
       "    }\n",
       "\n",
       "    .dataframe tbody tr th {\n",
       "        vertical-align: top;\n",
       "    }\n",
       "\n",
       "    .dataframe thead th {\n",
       "        text-align: right;\n",
       "    }\n",
       "</style>\n",
       "<table border=\"1\" class=\"dataframe\">\n",
       "  <thead>\n",
       "    <tr style=\"text-align: right;\">\n",
       "      <th></th>\n",
       "      <th>passage_id</th>\n",
       "      <th>question</th>\n",
       "      <th>passage</th>\n",
       "      <th>has_answer</th>\n",
       "      <th>year</th>\n",
       "      <th>position</th>\n",
       "      <th>art</th>\n",
       "    </tr>\n",
       "  </thead>\n",
       "  <tbody>\n",
       "    <tr>\n",
       "      <th>0</th>\n",
       "      <td>1997_553_345.txt</td>\n",
       "      <td>Czy żołnierz, który dopuszcza się czynnej napa...</td>\n",
       "      <td>Art. 345. § 1. Żołnierz, który dopuszcza sie...</td>\n",
       "      <td>True</td>\n",
       "      <td>1997</td>\n",
       "      <td>553</td>\n",
       "      <td>345</td>\n",
       "    </tr>\n",
       "    <tr>\n",
       "      <th>1</th>\n",
       "      <td>2004_177_21.txt</td>\n",
       "      <td>Z ilu osób składa się komisja przetargowa?</td>\n",
       "      <td>Art. 21. 1. Członków komisji przetargowej pow...</td>\n",
       "      <td>True</td>\n",
       "      <td>2004</td>\n",
       "      <td>177</td>\n",
       "      <td>21</td>\n",
       "    </tr>\n",
       "    <tr>\n",
       "      <th>2</th>\n",
       "      <td>1996_465_111.txt</td>\n",
       "      <td>Do jakiej wysokości za zobowiązania spółki odp...</td>\n",
       "      <td>Art. 111. Komandytariusz odpowiada za zobowią...</td>\n",
       "      <td>True</td>\n",
       "      <td>1996</td>\n",
       "      <td>465</td>\n",
       "      <td>111</td>\n",
       "    </tr>\n",
       "    <tr>\n",
       "      <th>3</th>\n",
       "      <td>1994_591_35.txt</td>\n",
       "      <td>Kiedy ustala się wartość majątku obrotowego, k...</td>\n",
       "      <td>Art. 35. 1. Wartość rzeczowych składników m...</td>\n",
       "      <td>True</td>\n",
       "      <td>1994</td>\n",
       "      <td>591</td>\n",
       "      <td>35</td>\n",
       "    </tr>\n",
       "    <tr>\n",
       "      <th>4</th>\n",
       "      <td>2001_1441_74.txt</td>\n",
       "      <td>Jakiej karze podlega armator, który wykonuje r...</td>\n",
       "      <td>Art. 74. 1. Armator, który wykonuje rybołóws...</td>\n",
       "      <td>True</td>\n",
       "      <td>2001</td>\n",
       "      <td>1441</td>\n",
       "      <td>74</td>\n",
       "    </tr>\n",
       "    <tr>\n",
       "      <th>...</th>\n",
       "      <td>...</td>\n",
       "      <td>...</td>\n",
       "      <td>...</td>\n",
       "      <td>...</td>\n",
       "      <td>...</td>\n",
       "      <td>...</td>\n",
       "      <td>...</td>\n",
       "    </tr>\n",
       "    <tr>\n",
       "      <th>1470</th>\n",
       "      <td>1995_479.txt-Art. 29.</td>\n",
       "      <td>Jakim przepisom podlegają przychody kościelnyc...</td>\n",
       "      <td>1. Majątek i przychody kościelnych osób prawny...</td>\n",
       "      <td>True</td>\n",
       "      <td>1995</td>\n",
       "      <td>479</td>\n",
       "      <td>29</td>\n",
       "    </tr>\n",
       "    <tr>\n",
       "      <th>1471</th>\n",
       "      <td>1995_482.txt-Art. 27.</td>\n",
       "      <td>Jakim przepisom podlegają przychody kościelnyc...</td>\n",
       "      <td>1. Majątek i przychody kościelnych osób prawny...</td>\n",
       "      <td>True</td>\n",
       "      <td>1995</td>\n",
       "      <td>482</td>\n",
       "      <td>27</td>\n",
       "    </tr>\n",
       "    <tr>\n",
       "      <th>1472</th>\n",
       "      <td>1997_554.txt-Art. 19.</td>\n",
       "      <td>Jakim przepisom podlegają przychody kościelnyc...</td>\n",
       "      <td>1. Majątek i przychody kościelnych osób prawny...</td>\n",
       "      <td>True</td>\n",
       "      <td>1997</td>\n",
       "      <td>554</td>\n",
       "      <td>19</td>\n",
       "    </tr>\n",
       "    <tr>\n",
       "      <th>1473</th>\n",
       "      <td>1995_481.txt-Art. 28.</td>\n",
       "      <td>Jakim przepisom podlegają przychody kościelnyc...</td>\n",
       "      <td>1. Majątek i przychody Kościoła oraz jego osób...</td>\n",
       "      <td>True</td>\n",
       "      <td>1995</td>\n",
       "      <td>481</td>\n",
       "      <td>28</td>\n",
       "    </tr>\n",
       "    <tr>\n",
       "      <th>1474</th>\n",
       "      <td>2004_623.txt-Art. 55.</td>\n",
       "      <td>Według jakiego prawa wyraz \"kosmetyki\" zastępu...</td>\n",
       "      <td>z dnia 19 marca 2004 r. – Prawo celne (Dz. U. ...</td>\n",
       "      <td>True</td>\n",
       "      <td>2004</td>\n",
       "      <td>623</td>\n",
       "      <td>55</td>\n",
       "    </tr>\n",
       "  </tbody>\n",
       "</table>\n",
       "<p>1096 rows × 7 columns</p>\n",
       "</div>"
      ],
      "text/plain": [
       "                 passage_id  \\\n",
       "0          1997_553_345.txt   \n",
       "1           2004_177_21.txt   \n",
       "2          1996_465_111.txt   \n",
       "3           1994_591_35.txt   \n",
       "4          2001_1441_74.txt   \n",
       "...                     ...   \n",
       "1470  1995_479.txt-Art. 29.   \n",
       "1471  1995_482.txt-Art. 27.   \n",
       "1472  1997_554.txt-Art. 19.   \n",
       "1473  1995_481.txt-Art. 28.   \n",
       "1474  2004_623.txt-Art. 55.   \n",
       "\n",
       "                                               question  \\\n",
       "0     Czy żołnierz, który dopuszcza się czynnej napa...   \n",
       "1            Z ilu osób składa się komisja przetargowa?   \n",
       "2     Do jakiej wysokości za zobowiązania spółki odp...   \n",
       "3     Kiedy ustala się wartość majątku obrotowego, k...   \n",
       "4     Jakiej karze podlega armator, który wykonuje r...   \n",
       "...                                                 ...   \n",
       "1470  Jakim przepisom podlegają przychody kościelnyc...   \n",
       "1471  Jakim przepisom podlegają przychody kościelnyc...   \n",
       "1472  Jakim przepisom podlegają przychody kościelnyc...   \n",
       "1473  Jakim przepisom podlegają przychody kościelnyc...   \n",
       "1474  Według jakiego prawa wyraz \"kosmetyki\" zastępu...   \n",
       "\n",
       "                                                passage  has_answer  year  \\\n",
       "0     Art. 345. § 1. Żołnierz, który dopuszcza sie...        True  1997   \n",
       "1     Art. 21. 1. Członków komisji przetargowej pow...        True  2004   \n",
       "2     Art. 111. Komandytariusz odpowiada za zobowią...        True  1996   \n",
       "3     Art. 35. 1. Wartość rzeczowych składników m...        True  1994   \n",
       "4     Art. 74. 1. Armator, który wykonuje rybołóws...        True  2001   \n",
       "...                                                 ...         ...   ...   \n",
       "1470  1. Majątek i przychody kościelnych osób prawny...        True  1995   \n",
       "1471  1. Majątek i przychody kościelnych osób prawny...        True  1995   \n",
       "1472  1. Majątek i przychody kościelnych osób prawny...        True  1997   \n",
       "1473  1. Majątek i przychody Kościoła oraz jego osób...        True  1995   \n",
       "1474  z dnia 19 marca 2004 r. – Prawo celne (Dz. U. ...        True  2004   \n",
       "\n",
       "      position  art  \n",
       "0          553  345  \n",
       "1          177   21  \n",
       "2          465  111  \n",
       "3          591   35  \n",
       "4         1441   74  \n",
       "...        ...  ...  \n",
       "1470       479   29  \n",
       "1471       482   27  \n",
       "1472       554   19  \n",
       "1473       481   28  \n",
       "1474       623   55  \n",
       "\n",
       "[1096 rows x 7 columns]"
      ]
     },
     "execution_count": 25,
     "metadata": {},
     "output_type": "execute_result"
    }
   ],
   "source": [
    "import pandas as pd\n",
    "\n",
    "df = pd.read_csv(\"./simple-legal-questions-pl-main/questions.csv\")\n",
    "df = df[df['has_answer'] == True]\n",
    "df"
   ]
  },
  {
   "cell_type": "code",
   "execution_count": 26,
   "id": "dafa8ee8-ed1d-49d6-8aa7-1e51ad7a1e44",
   "metadata": {},
   "outputs": [
    {
     "data": {
      "text/html": [
       "<div>\n",
       "<style scoped>\n",
       "    .dataframe tbody tr th:only-of-type {\n",
       "        vertical-align: middle;\n",
       "    }\n",
       "\n",
       "    .dataframe tbody tr th {\n",
       "        vertical-align: top;\n",
       "    }\n",
       "\n",
       "    .dataframe thead th {\n",
       "        text-align: right;\n",
       "    }\n",
       "</style>\n",
       "<table border=\"1\" class=\"dataframe\">\n",
       "  <thead>\n",
       "    <tr style=\"text-align: right;\">\n",
       "      <th></th>\n",
       "      <th>_id</th>\n",
       "      <th>text</th>\n",
       "    </tr>\n",
       "  </thead>\n",
       "  <tbody>\n",
       "    <tr>\n",
       "      <th>0</th>\n",
       "      <td>1</td>\n",
       "      <td>Czy żołnierz, który dopuszcza się czynnej napa...</td>\n",
       "    </tr>\n",
       "    <tr>\n",
       "      <th>1</th>\n",
       "      <td>2</td>\n",
       "      <td>Z ilu osób składa się komisja przetargowa?</td>\n",
       "    </tr>\n",
       "    <tr>\n",
       "      <th>2</th>\n",
       "      <td>3</td>\n",
       "      <td>Do jakiej wysokości za zobowiązania spółki odp...</td>\n",
       "    </tr>\n",
       "    <tr>\n",
       "      <th>3</th>\n",
       "      <td>4</td>\n",
       "      <td>Kiedy ustala się wartość majątku obrotowego, k...</td>\n",
       "    </tr>\n",
       "    <tr>\n",
       "      <th>4</th>\n",
       "      <td>5</td>\n",
       "      <td>Jakiej karze podlega armator, który wykonuje r...</td>\n",
       "    </tr>\n",
       "    <tr>\n",
       "      <th>...</th>\n",
       "      <td>...</td>\n",
       "      <td>...</td>\n",
       "    </tr>\n",
       "    <tr>\n",
       "      <th>1431</th>\n",
       "      <td>1432</td>\n",
       "      <td>Jakim przepisom podlegają przychody kościelnyc...</td>\n",
       "    </tr>\n",
       "    <tr>\n",
       "      <th>1432</th>\n",
       "      <td>1433</td>\n",
       "      <td>Jakim przepisom podlegają przychody kościelnyc...</td>\n",
       "    </tr>\n",
       "    <tr>\n",
       "      <th>1433</th>\n",
       "      <td>1434</td>\n",
       "      <td>Jakim przepisom podlegają przychody kościelnyc...</td>\n",
       "    </tr>\n",
       "    <tr>\n",
       "      <th>1434</th>\n",
       "      <td>1435</td>\n",
       "      <td>Jakim przepisom podlegają przychody kościelnyc...</td>\n",
       "    </tr>\n",
       "    <tr>\n",
       "      <th>1435</th>\n",
       "      <td>1436</td>\n",
       "      <td>Według jakiego prawa wyraz \"kosmetyki\" zastępu...</td>\n",
       "    </tr>\n",
       "  </tbody>\n",
       "</table>\n",
       "<p>1436 rows × 2 columns</p>\n",
       "</div>"
      ],
      "text/plain": [
       "       _id                                               text\n",
       "0        1  Czy żołnierz, który dopuszcza się czynnej napa...\n",
       "1        2         Z ilu osób składa się komisja przetargowa?\n",
       "2        3  Do jakiej wysokości za zobowiązania spółki odp...\n",
       "3        4  Kiedy ustala się wartość majątku obrotowego, k...\n",
       "4        5  Jakiej karze podlega armator, który wykonuje r...\n",
       "...    ...                                                ...\n",
       "1431  1432  Jakim przepisom podlegają przychody kościelnyc...\n",
       "1432  1433  Jakim przepisom podlegają przychody kościelnyc...\n",
       "1433  1434  Jakim przepisom podlegają przychody kościelnyc...\n",
       "1434  1435  Jakim przepisom podlegają przychody kościelnyc...\n",
       "1435  1436  Według jakiego prawa wyraz \"kosmetyki\" zastępu...\n",
       "\n",
       "[1436 rows x 2 columns]"
      ]
     },
     "execution_count": 26,
     "metadata": {},
     "output_type": "execute_result"
    }
   ],
   "source": [
    "questions_df = pd.read_json(\"./simple-legal-questions-pl-main/questions.jl\", lines=True)\n",
    "questions_df"
   ]
  },
  {
   "cell_type": "code",
   "execution_count": 27,
   "id": "cd05931e-5998-4467-b528-3eca072eabdd",
   "metadata": {},
   "outputs": [
    {
     "data": {
      "text/html": [
       "<div>\n",
       "<style scoped>\n",
       "    .dataframe tbody tr th:only-of-type {\n",
       "        vertical-align: middle;\n",
       "    }\n",
       "\n",
       "    .dataframe tbody tr th {\n",
       "        vertical-align: top;\n",
       "    }\n",
       "\n",
       "    .dataframe thead th {\n",
       "        text-align: right;\n",
       "    }\n",
       "</style>\n",
       "<table border=\"1\" class=\"dataframe\">\n",
       "  <thead>\n",
       "    <tr style=\"text-align: right;\">\n",
       "      <th></th>\n",
       "      <th>_id</th>\n",
       "      <th>title</th>\n",
       "      <th>text</th>\n",
       "    </tr>\n",
       "  </thead>\n",
       "  <tbody>\n",
       "    <tr>\n",
       "      <th>0</th>\n",
       "      <td>2004_2387_1</td>\n",
       "      <td>Ustawa z dnia 27 sierpnia 2004 r. o ratyfikacj...</td>\n",
       "      <td>Art. 1. Wyraża się zgodę na dokonanie przez Pr...</td>\n",
       "    </tr>\n",
       "    <tr>\n",
       "      <th>1</th>\n",
       "      <td>2004_2387_2</td>\n",
       "      <td>Ustawa z dnia 27 sierpnia 2004 r. o ratyfikacj...</td>\n",
       "      <td>Art. 2. Ustawa wchodzi w życie po upływie 14 d...</td>\n",
       "    </tr>\n",
       "    <tr>\n",
       "      <th>2</th>\n",
       "      <td>2001_1209_1</td>\n",
       "      <td>Ustawa z dnia 26 lipca 2001 r. o nabywaniu prz...</td>\n",
       "      <td>Art. 1. 1. Osobom fizycznym będącym w dniu 26 ...</td>\n",
       "    </tr>\n",
       "    <tr>\n",
       "      <th>3</th>\n",
       "      <td>2001_1209_2</td>\n",
       "      <td>Ustawa z dnia 26 lipca 2001 r. o nabywaniu prz...</td>\n",
       "      <td>Art. 2. 1. Do osób, o których mowa w art. 1 us...</td>\n",
       "    </tr>\n",
       "    <tr>\n",
       "      <th>4</th>\n",
       "      <td>2001_1209_3</td>\n",
       "      <td>Ustawa z dnia 26 lipca 2001 r. o nabywaniu prz...</td>\n",
       "      <td>Art. 3. 1. Do osób, które skorzystały z uwłasz...</td>\n",
       "    </tr>\n",
       "    <tr>\n",
       "      <th>...</th>\n",
       "      <td>...</td>\n",
       "      <td>...</td>\n",
       "      <td>...</td>\n",
       "    </tr>\n",
       "    <tr>\n",
       "      <th>26282</th>\n",
       "      <td>1999_934_2</td>\n",
       "      <td>Ustawa z dnia 22 lipca 1999 r. o zmianie ustaw...</td>\n",
       "      <td>Art. 2. Ustawa wchodzi w życie po upływie 14 d...</td>\n",
       "    </tr>\n",
       "    <tr>\n",
       "      <th>26283</th>\n",
       "      <td>2001_808_1</td>\n",
       "      <td>Ustawa z dnia 21 czerwca 2001 r. o zmianie ust...</td>\n",
       "      <td>Art. 1. W ustawie z dnia 18 grudnia 1998 r. o ...</td>\n",
       "    </tr>\n",
       "    <tr>\n",
       "      <th>26284</th>\n",
       "      <td>2001_808_2</td>\n",
       "      <td>Ustawa z dnia 21 czerwca 2001 r. o zmianie ust...</td>\n",
       "      <td>Art. 2. W stosunku do umów o kredyt na realiza...</td>\n",
       "    </tr>\n",
       "    <tr>\n",
       "      <th>26285</th>\n",
       "      <td>2001_808_3</td>\n",
       "      <td>Ustawa z dnia 21 czerwca 2001 r. o zmianie ust...</td>\n",
       "      <td>Art. 3. Dotychczasowe przepisy wykonawcze wyda...</td>\n",
       "    </tr>\n",
       "    <tr>\n",
       "      <th>26286</th>\n",
       "      <td>2001_808_4</td>\n",
       "      <td>Ustawa z dnia 21 czerwca 2001 r. o zmianie ust...</td>\n",
       "      <td>Art. 4. Ustawa wchodzi w życie po upływie 14 d...</td>\n",
       "    </tr>\n",
       "  </tbody>\n",
       "</table>\n",
       "<p>26287 rows × 3 columns</p>\n",
       "</div>"
      ],
      "text/plain": [
       "               _id                                              title  \\\n",
       "0      2004_2387_1  Ustawa z dnia 27 sierpnia 2004 r. o ratyfikacj...   \n",
       "1      2004_2387_2  Ustawa z dnia 27 sierpnia 2004 r. o ratyfikacj...   \n",
       "2      2001_1209_1  Ustawa z dnia 26 lipca 2001 r. o nabywaniu prz...   \n",
       "3      2001_1209_2  Ustawa z dnia 26 lipca 2001 r. o nabywaniu prz...   \n",
       "4      2001_1209_3  Ustawa z dnia 26 lipca 2001 r. o nabywaniu prz...   \n",
       "...            ...                                                ...   \n",
       "26282   1999_934_2  Ustawa z dnia 22 lipca 1999 r. o zmianie ustaw...   \n",
       "26283   2001_808_1  Ustawa z dnia 21 czerwca 2001 r. o zmianie ust...   \n",
       "26284   2001_808_2  Ustawa z dnia 21 czerwca 2001 r. o zmianie ust...   \n",
       "26285   2001_808_3  Ustawa z dnia 21 czerwca 2001 r. o zmianie ust...   \n",
       "26286   2001_808_4  Ustawa z dnia 21 czerwca 2001 r. o zmianie ust...   \n",
       "\n",
       "                                                    text  \n",
       "0      Art. 1. Wyraża się zgodę na dokonanie przez Pr...  \n",
       "1      Art. 2. Ustawa wchodzi w życie po upływie 14 d...  \n",
       "2      Art. 1. 1. Osobom fizycznym będącym w dniu 26 ...  \n",
       "3      Art. 2. 1. Do osób, o których mowa w art. 1 us...  \n",
       "4      Art. 3. 1. Do osób, które skorzystały z uwłasz...  \n",
       "...                                                  ...  \n",
       "26282  Art. 2. Ustawa wchodzi w życie po upływie 14 d...  \n",
       "26283  Art. 1. W ustawie z dnia 18 grudnia 1998 r. o ...  \n",
       "26284  Art. 2. W stosunku do umów o kredyt na realiza...  \n",
       "26285  Art. 3. Dotychczasowe przepisy wykonawcze wyda...  \n",
       "26286  Art. 4. Ustawa wchodzi w życie po upływie 14 d...  \n",
       "\n",
       "[26287 rows x 3 columns]"
      ]
     },
     "execution_count": 27,
     "metadata": {},
     "output_type": "execute_result"
    }
   ],
   "source": [
    "passages_df = pd.read_json(\"./simple-legal-questions-pl-main/passages.jl\", lines=True)\n",
    "passages_df"
   ]
  },
  {
   "cell_type": "code",
   "execution_count": 28,
   "id": "b4bf740d-20d8-485d-81e9-4c0f19bb4fe7",
   "metadata": {},
   "outputs": [
    {
     "data": {
      "text/html": [
       "<div>\n",
       "<style scoped>\n",
       "    .dataframe tbody tr th:only-of-type {\n",
       "        vertical-align: middle;\n",
       "    }\n",
       "\n",
       "    .dataframe tbody tr th {\n",
       "        vertical-align: top;\n",
       "    }\n",
       "\n",
       "    .dataframe thead th {\n",
       "        text-align: right;\n",
       "    }\n",
       "</style>\n",
       "<table border=\"1\" class=\"dataframe\">\n",
       "  <thead>\n",
       "    <tr style=\"text-align: right;\">\n",
       "      <th></th>\n",
       "      <th>score</th>\n",
       "      <th>question-id</th>\n",
       "      <th>answer</th>\n",
       "    </tr>\n",
       "  </thead>\n",
       "  <tbody>\n",
       "    <tr>\n",
       "      <th>0</th>\n",
       "      <td>1.0</td>\n",
       "      <td>1</td>\n",
       "      <td>Tak, podlega karze aresztu wojskowego albo poz...</td>\n",
       "    </tr>\n",
       "    <tr>\n",
       "      <th>1</th>\n",
       "      <td>1.0</td>\n",
       "      <td>2</td>\n",
       "      <td>Komisja przetargowa składa się z co najmniej t...</td>\n",
       "    </tr>\n",
       "    <tr>\n",
       "      <th>2</th>\n",
       "      <td>1.0</td>\n",
       "      <td>3</td>\n",
       "      <td>Komandytariusz odpowiada za zobowiązania spółk...</td>\n",
       "    </tr>\n",
       "    <tr>\n",
       "      <th>3</th>\n",
       "      <td>1.0</td>\n",
       "      <td>4</td>\n",
       "      <td>Wartość rzeczowych składników majątku obrotowe...</td>\n",
       "    </tr>\n",
       "    <tr>\n",
       "      <th>4</th>\n",
       "      <td>1.0</td>\n",
       "      <td>5</td>\n",
       "      <td>Podlega karze pieniężnej do wysokości 1 000 00...</td>\n",
       "    </tr>\n",
       "    <tr>\n",
       "      <th>...</th>\n",
       "      <td>...</td>\n",
       "      <td>...</td>\n",
       "      <td>...</td>\n",
       "    </tr>\n",
       "    <tr>\n",
       "      <th>675</th>\n",
       "      <td>1.0</td>\n",
       "      <td>1130</td>\n",
       "      <td>związek rewizyjny</td>\n",
       "    </tr>\n",
       "    <tr>\n",
       "      <th>676</th>\n",
       "      <td>1.0</td>\n",
       "      <td>1131</td>\n",
       "      <td>Prezes Urzędu Ochrony Konkurencji i Konsumentów</td>\n",
       "    </tr>\n",
       "    <tr>\n",
       "      <th>677</th>\n",
       "      <td>1.0</td>\n",
       "      <td>1132</td>\n",
       "      <td>minister właściwy do spraw rolnictwa</td>\n",
       "    </tr>\n",
       "    <tr>\n",
       "      <th>678</th>\n",
       "      <td>1.0</td>\n",
       "      <td>1133</td>\n",
       "      <td>1) w obrocie giełdowym - z chwilą zapłacenia c...</td>\n",
       "    </tr>\n",
       "    <tr>\n",
       "      <th>679</th>\n",
       "      <td>1.0</td>\n",
       "      <td>1134</td>\n",
       "      <td>z chwilą wpisu do rejestru</td>\n",
       "    </tr>\n",
       "  </tbody>\n",
       "</table>\n",
       "<p>575 rows × 3 columns</p>\n",
       "</div>"
      ],
      "text/plain": [
       "     score  question-id                                             answer\n",
       "0      1.0            1  Tak, podlega karze aresztu wojskowego albo poz...\n",
       "1      1.0            2  Komisja przetargowa składa się z co najmniej t...\n",
       "2      1.0            3  Komandytariusz odpowiada za zobowiązania spółk...\n",
       "3      1.0            4  Wartość rzeczowych składników majątku obrotowe...\n",
       "4      1.0            5  Podlega karze pieniężnej do wysokości 1 000 00...\n",
       "..     ...          ...                                                ...\n",
       "675    1.0         1130                                  związek rewizyjny\n",
       "676    1.0         1131    Prezes Urzędu Ochrony Konkurencji i Konsumentów\n",
       "677    1.0         1132               minister właściwy do spraw rolnictwa\n",
       "678    1.0         1133  1) w obrocie giełdowym - z chwilą zapłacenia c...\n",
       "679    1.0         1134                         z chwilą wpisu do rejestru\n",
       "\n",
       "[575 rows x 3 columns]"
      ]
     },
     "execution_count": 28,
     "metadata": {},
     "output_type": "execute_result"
    }
   ],
   "source": [
    "answers_df = pd.read_json(\"./simple-legal-questions-pl-main/answers.jl\", lines=True)\n",
    "answers_df = answers_df[answers_df['score'] > 0]\n",
    "answers_df"
   ]
  },
  {
   "cell_type": "code",
   "execution_count": 29,
   "id": "6e25fd39-7743-4fb8-8427-ae7c8da11274",
   "metadata": {},
   "outputs": [
    {
     "data": {
      "text/html": [
       "<div>\n",
       "<style scoped>\n",
       "    .dataframe tbody tr th:only-of-type {\n",
       "        vertical-align: middle;\n",
       "    }\n",
       "\n",
       "    .dataframe tbody tr th {\n",
       "        vertical-align: top;\n",
       "    }\n",
       "\n",
       "    .dataframe thead th {\n",
       "        text-align: right;\n",
       "    }\n",
       "</style>\n",
       "<table border=\"1\" class=\"dataframe\">\n",
       "  <thead>\n",
       "    <tr style=\"text-align: right;\">\n",
       "      <th></th>\n",
       "      <th>question-id</th>\n",
       "      <th>passage-id</th>\n",
       "      <th>score</th>\n",
       "    </tr>\n",
       "  </thead>\n",
       "  <tbody>\n",
       "    <tr>\n",
       "      <th>0</th>\n",
       "      <td>1</td>\n",
       "      <td>1997_553_345</td>\n",
       "      <td>1</td>\n",
       "    </tr>\n",
       "    <tr>\n",
       "      <th>1</th>\n",
       "      <td>2</td>\n",
       "      <td>2004_177_21</td>\n",
       "      <td>1</td>\n",
       "    </tr>\n",
       "    <tr>\n",
       "      <th>2</th>\n",
       "      <td>3</td>\n",
       "      <td>1996_465_111</td>\n",
       "      <td>1</td>\n",
       "    </tr>\n",
       "    <tr>\n",
       "      <th>3</th>\n",
       "      <td>4</td>\n",
       "      <td>1994_591_35</td>\n",
       "      <td>1</td>\n",
       "    </tr>\n",
       "    <tr>\n",
       "      <th>4</th>\n",
       "      <td>5</td>\n",
       "      <td>2001_1441_74</td>\n",
       "      <td>1</td>\n",
       "    </tr>\n",
       "    <tr>\n",
       "      <th>...</th>\n",
       "      <td>...</td>\n",
       "      <td>...</td>\n",
       "      <td>...</td>\n",
       "    </tr>\n",
       "    <tr>\n",
       "      <th>1431</th>\n",
       "      <td>1432</td>\n",
       "      <td>1995_479_29</td>\n",
       "      <td>1</td>\n",
       "    </tr>\n",
       "    <tr>\n",
       "      <th>1432</th>\n",
       "      <td>1433</td>\n",
       "      <td>1995_482_27</td>\n",
       "      <td>1</td>\n",
       "    </tr>\n",
       "    <tr>\n",
       "      <th>1433</th>\n",
       "      <td>1434</td>\n",
       "      <td>1997_554_19</td>\n",
       "      <td>1</td>\n",
       "    </tr>\n",
       "    <tr>\n",
       "      <th>1434</th>\n",
       "      <td>1435</td>\n",
       "      <td>1995_481_28</td>\n",
       "      <td>1</td>\n",
       "    </tr>\n",
       "    <tr>\n",
       "      <th>1435</th>\n",
       "      <td>1436</td>\n",
       "      <td>2004_623_55</td>\n",
       "      <td>1</td>\n",
       "    </tr>\n",
       "  </tbody>\n",
       "</table>\n",
       "<p>1436 rows × 3 columns</p>\n",
       "</div>"
      ],
      "text/plain": [
       "      question-id    passage-id  score\n",
       "0               1  1997_553_345      1\n",
       "1               2   2004_177_21      1\n",
       "2               3  1996_465_111      1\n",
       "3               4   1994_591_35      1\n",
       "4               5  2001_1441_74      1\n",
       "...           ...           ...    ...\n",
       "1431         1432   1995_479_29      1\n",
       "1432         1433   1995_482_27      1\n",
       "1433         1434   1997_554_19      1\n",
       "1434         1435   1995_481_28      1\n",
       "1435         1436   2004_623_55      1\n",
       "\n",
       "[1436 rows x 3 columns]"
      ]
     },
     "execution_count": 29,
     "metadata": {},
     "output_type": "execute_result"
    }
   ],
   "source": [
    "relevant_df = pd.read_json(\"./simple-legal-questions-pl-main/relevant.jl\", lines=True)\n",
    "relevant_df"
   ]
  },
  {
   "cell_type": "code",
   "execution_count": 30,
   "id": "30f771e7-a712-48d9-9b91-4a1484a01c17",
   "metadata": {},
   "outputs": [
    {
     "data": {
      "text/html": [
       "<div>\n",
       "<style scoped>\n",
       "    .dataframe tbody tr th:only-of-type {\n",
       "        vertical-align: middle;\n",
       "    }\n",
       "\n",
       "    .dataframe tbody tr th {\n",
       "        vertical-align: top;\n",
       "    }\n",
       "\n",
       "    .dataframe thead th {\n",
       "        text-align: right;\n",
       "    }\n",
       "</style>\n",
       "<table border=\"1\" class=\"dataframe\">\n",
       "  <thead>\n",
       "    <tr style=\"text-align: right;\">\n",
       "      <th></th>\n",
       "      <th>answer</th>\n",
       "      <th>question</th>\n",
       "      <th>text</th>\n",
       "    </tr>\n",
       "  </thead>\n",
       "  <tbody>\n",
       "    <tr>\n",
       "      <th>0</th>\n",
       "      <td>Tak, podlega karze aresztu wojskowego albo poz...</td>\n",
       "      <td>Czy żołnierz, który dopuszcza się czynnej napa...</td>\n",
       "      <td>Art. 345. § 1. Żołnierz, który dopuszcza się c...</td>\n",
       "    </tr>\n",
       "    <tr>\n",
       "      <th>1</th>\n",
       "      <td>Komisja przetargowa składa się z co najmniej t...</td>\n",
       "      <td>Z ilu osób składa się komisja przetargowa?</td>\n",
       "      <td>Art. 21. 1. Członków komisji przetargowej powo...</td>\n",
       "    </tr>\n",
       "    <tr>\n",
       "      <th>2</th>\n",
       "      <td>Komandytariusz odpowiada za zobowiązania spółk...</td>\n",
       "      <td>Do jakiej wysokości za zobowiązania spółki odp...</td>\n",
       "      <td>Art. 111. Komandytariusz odpowiada za zobowiąz...</td>\n",
       "    </tr>\n",
       "    <tr>\n",
       "      <th>3</th>\n",
       "      <td>Wartość rzeczowych składników majątku obrotowe...</td>\n",
       "      <td>Kiedy ustala się wartość majątku obrotowego, k...</td>\n",
       "      <td>Art. 35. 1. Wartość rzeczowych składników mają...</td>\n",
       "    </tr>\n",
       "    <tr>\n",
       "      <th>4</th>\n",
       "      <td>Podlega karze pieniężnej do wysokości 1 000 00...</td>\n",
       "      <td>Jakiej karze podlega armator, który wykonuje r...</td>\n",
       "      <td>Art. 74. 1. Armator, który wykonuje rybołówstw...</td>\n",
       "    </tr>\n",
       "    <tr>\n",
       "      <th>...</th>\n",
       "      <td>...</td>\n",
       "      <td>...</td>\n",
       "      <td>...</td>\n",
       "    </tr>\n",
       "    <tr>\n",
       "      <th>571</th>\n",
       "      <td>związek rewizyjny</td>\n",
       "      <td>Jaki związek tworzą banki spółdzielcze?</td>\n",
       "      <td>Art. 35. 1. Banki spółdzielcze tworzą związek ...</td>\n",
       "    </tr>\n",
       "    <tr>\n",
       "      <th>572</th>\n",
       "      <td>Prezes Urzędu Ochrony Konkurencji i Konsumentów</td>\n",
       "      <td>Kto wydaje decyzję o uznaniu praktyki za ogran...</td>\n",
       "      <td>Art. 9. Prezes Urzędu Ochrony Konkurencji i Ko...</td>\n",
       "    </tr>\n",
       "    <tr>\n",
       "      <th>573</th>\n",
       "      <td>minister właściwy do spraw rolnictwa</td>\n",
       "      <td>Kto powołuje okręgowych inspektorów rybołówstw...</td>\n",
       "      <td>Art. 51. 1. Okręgowi inspektorzy rybołówstwa m...</td>\n",
       "    </tr>\n",
       "    <tr>\n",
       "      <th>574</th>\n",
       "      <td>1) w obrocie giełdowym - z chwilą zapłacenia c...</td>\n",
       "      <td>W jakim momencie powstaje obowiązek podatkowy?</td>\n",
       "      <td>Art. 4. Obowiązek podatkowy powstaje: 1) w obr...</td>\n",
       "    </tr>\n",
       "    <tr>\n",
       "      <th>575</th>\n",
       "      <td>z chwilą wpisu do rejestru</td>\n",
       "      <td>W jakim momencie powstaje spółka komandytowo-a...</td>\n",
       "      <td>Art. 134. §1. Spółka komandytowo-akcyjna powst...</td>\n",
       "    </tr>\n",
       "  </tbody>\n",
       "</table>\n",
       "<p>576 rows × 3 columns</p>\n",
       "</div>"
      ],
      "text/plain": [
       "                                                answer  \\\n",
       "0    Tak, podlega karze aresztu wojskowego albo poz...   \n",
       "1    Komisja przetargowa składa się z co najmniej t...   \n",
       "2    Komandytariusz odpowiada za zobowiązania spółk...   \n",
       "3    Wartość rzeczowych składników majątku obrotowe...   \n",
       "4    Podlega karze pieniężnej do wysokości 1 000 00...   \n",
       "..                                                 ...   \n",
       "571                                  związek rewizyjny   \n",
       "572    Prezes Urzędu Ochrony Konkurencji i Konsumentów   \n",
       "573               minister właściwy do spraw rolnictwa   \n",
       "574  1) w obrocie giełdowym - z chwilą zapłacenia c...   \n",
       "575                         z chwilą wpisu do rejestru   \n",
       "\n",
       "                                              question  \\\n",
       "0    Czy żołnierz, który dopuszcza się czynnej napa...   \n",
       "1           Z ilu osób składa się komisja przetargowa?   \n",
       "2    Do jakiej wysokości za zobowiązania spółki odp...   \n",
       "3    Kiedy ustala się wartość majątku obrotowego, k...   \n",
       "4    Jakiej karze podlega armator, który wykonuje r...   \n",
       "..                                                 ...   \n",
       "571            Jaki związek tworzą banki spółdzielcze?   \n",
       "572  Kto wydaje decyzję o uznaniu praktyki za ogran...   \n",
       "573  Kto powołuje okręgowych inspektorów rybołówstw...   \n",
       "574     W jakim momencie powstaje obowiązek podatkowy?   \n",
       "575  W jakim momencie powstaje spółka komandytowo-a...   \n",
       "\n",
       "                                                  text  \n",
       "0    Art. 345. § 1. Żołnierz, który dopuszcza się c...  \n",
       "1    Art. 21. 1. Członków komisji przetargowej powo...  \n",
       "2    Art. 111. Komandytariusz odpowiada za zobowiąz...  \n",
       "3    Art. 35. 1. Wartość rzeczowych składników mają...  \n",
       "4    Art. 74. 1. Armator, który wykonuje rybołówstw...  \n",
       "..                                                 ...  \n",
       "571  Art. 35. 1. Banki spółdzielcze tworzą związek ...  \n",
       "572  Art. 9. Prezes Urzędu Ochrony Konkurencji i Ko...  \n",
       "573  Art. 51. 1. Okręgowi inspektorzy rybołówstwa m...  \n",
       "574  Art. 4. Obowiązek podatkowy powstaje: 1) w obr...  \n",
       "575  Art. 134. §1. Spółka komandytowo-akcyjna powst...  \n",
       "\n",
       "[576 rows x 3 columns]"
      ]
     },
     "execution_count": 30,
     "metadata": {},
     "output_type": "execute_result"
    }
   ],
   "source": [
    "ans_quests_df = answers_df.merge(questions_df, left_on='question-id', right_on='_id', how='left')\n",
    "ans_quests_rel_df = ans_quests_df.merge(relevant_df[['question-id', 'passage-id']], left_on='question-id', right_on='question-id', how='left')\n",
    "ans_quests_rel_df = ans_quests_rel_df.rename(columns={'text': 'question'})\n",
    "ans_quests_rel_text_df = ans_quests_rel_df.merge(passages_df[['_id', 'text']], left_on='passage-id', right_on='_id', how='left')\n",
    "ans_quests_rel_text_df = ans_quests_rel_text_df.drop(columns=['score', 'question-id', '_id_x', 'passage-id', '_id_y'])\n",
    "ans_quests_rel_text_df"
   ]
  },
  {
   "cell_type": "code",
   "execution_count": 31,
   "id": "c9477861-8d07-4b72-9678-52928a5d3994",
   "metadata": {},
   "outputs": [
    {
     "data": {
      "text/plain": [
       "576"
      ]
     },
     "execution_count": 31,
     "metadata": {},
     "output_type": "execute_result"
    }
   ],
   "source": [
    "size = ans_quests_rel_text_df.shape[0]\n",
    "size"
   ]
  },
  {
   "cell_type": "code",
   "execution_count": 32,
   "id": "c9a083cd-f5aa-48a4-91c0-73c84808131c",
   "metadata": {},
   "outputs": [
    {
     "data": {
      "text/html": [
       "<div>\n",
       "<style scoped>\n",
       "    .dataframe tbody tr th:only-of-type {\n",
       "        vertical-align: middle;\n",
       "    }\n",
       "\n",
       "    .dataframe tbody tr th {\n",
       "        vertical-align: top;\n",
       "    }\n",
       "\n",
       "    .dataframe thead th {\n",
       "        text-align: right;\n",
       "    }\n",
       "</style>\n",
       "<table border=\"1\" class=\"dataframe\">\n",
       "  <thead>\n",
       "    <tr style=\"text-align: right;\">\n",
       "      <th></th>\n",
       "      <th>abstractive_answer</th>\n",
       "      <th>question_and_context</th>\n",
       "    </tr>\n",
       "  </thead>\n",
       "  <tbody>\n",
       "    <tr>\n",
       "      <th>0</th>\n",
       "      <td>tak, podlega karze aresztu wojskowego albo poz...</td>\n",
       "      <td>kontekst: Art. 345. § 1. Żołnierz, który dopus...</td>\n",
       "    </tr>\n",
       "    <tr>\n",
       "      <th>1</th>\n",
       "      <td>komisja przetargowa składa się z co najmniej t...</td>\n",
       "      <td>kontekst: Art. 21. 1. Członków komisji przetar...</td>\n",
       "    </tr>\n",
       "    <tr>\n",
       "      <th>2</th>\n",
       "      <td>komandytariusz odpowiada za zobowiązania spółk...</td>\n",
       "      <td>kontekst: Art. 111. Komandytariusz odpowiada z...</td>\n",
       "    </tr>\n",
       "    <tr>\n",
       "      <th>3</th>\n",
       "      <td>wartość rzeczowych składników majątku obrotowe...</td>\n",
       "      <td>kontekst: Art. 35. 1. Wartość rzeczowych skład...</td>\n",
       "    </tr>\n",
       "    <tr>\n",
       "      <th>4</th>\n",
       "      <td>podlega karze pieniężnej do wysokości 1 000 00...</td>\n",
       "      <td>kontekst: Art. 74. 1. Armator, który wykonuje ...</td>\n",
       "    </tr>\n",
       "    <tr>\n",
       "      <th>...</th>\n",
       "      <td>...</td>\n",
       "      <td>...</td>\n",
       "    </tr>\n",
       "    <tr>\n",
       "      <th>571</th>\n",
       "      <td>związek rewizyjny</td>\n",
       "      <td>kontekst: Art. 35. 1. Banki spółdzielcze tworz...</td>\n",
       "    </tr>\n",
       "    <tr>\n",
       "      <th>572</th>\n",
       "      <td>prezes urzędu ochrony konkurencji i konsumentów</td>\n",
       "      <td>kontekst: Art. 9. Prezes Urzędu Ochrony Konkur...</td>\n",
       "    </tr>\n",
       "    <tr>\n",
       "      <th>573</th>\n",
       "      <td>minister właściwy do spraw rolnictwa</td>\n",
       "      <td>kontekst: Art. 51. 1. Okręgowi inspektorzy ryb...</td>\n",
       "    </tr>\n",
       "    <tr>\n",
       "      <th>574</th>\n",
       "      <td>1) w obrocie giełdowym - z chwilą zapłacenia c...</td>\n",
       "      <td>kontekst: Art. 4. Obowiązek podatkowy powstaje...</td>\n",
       "    </tr>\n",
       "    <tr>\n",
       "      <th>575</th>\n",
       "      <td>z chwilą wpisu do rejestru</td>\n",
       "      <td>kontekst: Art. 134. §1. Spółka komandytowo-akc...</td>\n",
       "    </tr>\n",
       "  </tbody>\n",
       "</table>\n",
       "<p>576 rows × 2 columns</p>\n",
       "</div>"
      ],
      "text/plain": [
       "                                    abstractive_answer  \\\n",
       "0    tak, podlega karze aresztu wojskowego albo poz...   \n",
       "1    komisja przetargowa składa się z co najmniej t...   \n",
       "2    komandytariusz odpowiada za zobowiązania spółk...   \n",
       "3    wartość rzeczowych składników majątku obrotowe...   \n",
       "4    podlega karze pieniężnej do wysokości 1 000 00...   \n",
       "..                                                 ...   \n",
       "571                                  związek rewizyjny   \n",
       "572    prezes urzędu ochrony konkurencji i konsumentów   \n",
       "573               minister właściwy do spraw rolnictwa   \n",
       "574  1) w obrocie giełdowym - z chwilą zapłacenia c...   \n",
       "575                         z chwilą wpisu do rejestru   \n",
       "\n",
       "                                  question_and_context  \n",
       "0    kontekst: Art. 345. § 1. Żołnierz, który dopus...  \n",
       "1    kontekst: Art. 21. 1. Członków komisji przetar...  \n",
       "2    kontekst: Art. 111. Komandytariusz odpowiada z...  \n",
       "3    kontekst: Art. 35. 1. Wartość rzeczowych skład...  \n",
       "4    kontekst: Art. 74. 1. Armator, który wykonuje ...  \n",
       "..                                                 ...  \n",
       "571  kontekst: Art. 35. 1. Banki spółdzielcze tworz...  \n",
       "572  kontekst: Art. 9. Prezes Urzędu Ochrony Konkur...  \n",
       "573  kontekst: Art. 51. 1. Okręgowi inspektorzy ryb...  \n",
       "574  kontekst: Art. 4. Obowiązek podatkowy powstaje...  \n",
       "575  kontekst: Art. 134. §1. Spółka komandytowo-akc...  \n",
       "\n",
       "[576 rows x 2 columns]"
      ]
     },
     "execution_count": 32,
     "metadata": {},
     "output_type": "execute_result"
    }
   ],
   "source": [
    "ans_quests_rel_text_df['question_and_context'] = pd.Series(['kontekst: ' for _ in range(size)]) \\\n",
    "                                                + ans_quests_rel_text_df['text'] \\\n",
    "                                                + pd.Series([' pytanie: ' for _ in range(size)])\\\n",
    "                                                + ans_quests_rel_text_df['question']\n",
    "\n",
    "ans_quests_rel_text_df = ans_quests_rel_text_df.rename(columns={'answer': 'abstractive_answer'})\n",
    "ans_quests_rel_text_df['abstractive_answer'] = ans_quests_rel_text_df['abstractive_answer'].str.lower()\n",
    "ans_quests_rel_text_df = ans_quests_rel_text_df.drop(columns=['text', 'question'])\n",
    "ans_quests_rel_text_df"
   ]
  },
  {
   "cell_type": "code",
   "execution_count": 33,
   "id": "e6adf64e-e0ee-46c4-9f41-dcc27ff87177",
   "metadata": {},
   "outputs": [
    {
     "name": "stdout",
     "output_type": "stream",
     "text": [
      "kontekst: Art. 345. § 1. Żołnierz, który dopuszcza się czynnej napaści na przełożonego, podlega karze aresztu wojskowego albo pozbawienia wolności do lat 3. § 2. Jeżeli sprawca dopuszcza się czynnej napaści w związku z pełnieniem przez przełożonego obowiązków służbowych albo wspólnie z innymi żołnierzami lub w obecności zebranych żołnierzy, podlega karze pozbawienia wolności od 6 miesięcy do lat 8. § 3. Jeżeli sprawca czynu określonego w § 1 lub 2 używa broni, noża lub innego podobnie niebezpiecznego przedmiotu, podlega karze pozbawienia wolności od roku do lat 10. § 4. Karze przewidzianej w § 3 podlega sprawca czynu określonego w § 1 lub 2, jeżeli jego następstwem jest skutek określony w art. 156 lub 157 § 1. pytanie: Czy żołnierz, który dopuszcza się czynnej napaści na przełożonego podlega karze pozbawienia wolności?\n",
      "\n",
      "tak, podlega karze aresztu wojskowego albo pozbawienia wolności do lat 3.\n"
     ]
    }
   ],
   "source": [
    "print(ans_quests_rel_text_df.loc[0]['question_and_context'])\n",
    "print('')\n",
    "print(ans_quests_rel_text_df.loc[0]['abstractive_answer'])"
   ]
  },
  {
   "cell_type": "code",
   "execution_count": 40,
   "id": "ed800cb1-9e36-4e0b-9201-dfcb526d1ed5",
   "metadata": {},
   "outputs": [],
   "source": [
    "import evaluate\n",
    "from tqdm import tqdm\n",
    "from sklearn.metrics import f1_score\n",
    "# same as previous but in one place\n",
    "\n",
    "exact_match = evaluate.load(\"evaluate-metric/exact_match\")\n",
    "\n",
    "def calc_mean_f1_score(predictions, references):\n",
    "    MAX_L = 64\n",
    "    results = []\n",
    "    predictions_tokens = [tokenizer(prediction, max_length=MAX_L, truncation=True,)['input_ids'] for prediction in predictions]\n",
    "    references_tokens = [tokenizer(ref, max_length=MAX_L, truncation=True)['input_ids'] for ref in references]\n",
    "    for pred_t, ref_t in zip(predictions_tokens, references_tokens):\n",
    "        min_len = min(len(pred_t), len(ref_t)) # let's make such assumption in calculating f1_score\n",
    "        result = f1_score(pred_t[:min_len], ref_t[:min_len], average='micro')\n",
    "        results.append(result)\n",
    "    return sum(results)/len(results)\n",
    "\n",
    "def calc_metrics(predictions, references):\n",
    "    f1 = calc_mean_f1_score(predictions, references)\n",
    "    em = float(exact_match.compute(predictions=predictions, references=references)['exact_match'])\n",
    "    return(f1, em)\n",
    "    \n",
    "def evaluate_on_dataset(dataset_dct, debug=False, limit=None, step=None):\n",
    "    predicted_answers = []\n",
    "    reference_answers = []\n",
    "    for question, answer in tqdm(zip(dataset_dct['question_and_context'][:limit:step], \n",
    "                                 dataset_dct['abstractive_answer'][:limit:step]), \n",
    "                                 total=len(dataset_dct['question_and_context'][:limit:step])): \n",
    "        \n",
    "        inputs = tokenizer(question, return_tensors=\"pt\", max_length=512, truncation=True)\n",
    "        inputs = {key: value.to('cuda') for key, value in inputs.items()}\n",
    "        outputs = model.generate(inputs['input_ids'], max_length=64, num_beams=16, early_stopping=True)\n",
    "        predicted_answer = tokenizer.decode(outputs[0], skip_special_tokens=True) \n",
    "        # converting answer to string for easier debugging and avoiding padding [0, ...] tokens at beginning of model response\n",
    "        predicted_answers.append(predicted_answer)\n",
    "        reference_answers.append(answer) \n",
    "\n",
    "        if debug:\n",
    "            print(f\"PROMPT   : {question}\\n\")\n",
    "            print(f\"PREDICTED: {predicted_answer}\")\n",
    "            print(f\"TRUE     : {answer}\\n\\n\")\n",
    "\n",
    "    return calc_metrics(predicted_answers, reference_answers)"
   ]
  },
  {
   "cell_type": "code",
   "execution_count": 41,
   "id": "b68d7c68-48c2-4220-8887-0d7dda774b49",
   "metadata": {},
   "outputs": [
    {
     "name": "stderr",
     "output_type": "stream",
     "text": [
      "  0%|                                                    | 0/10 [00:00<?, ?it/s]"
     ]
    },
    {
     "name": "stdout",
     "output_type": "stream",
     "text": [
      "PROMPT   : kontekst: Art. 345. § 1. Żołnierz, który dopuszcza się czynnej napaści na przełożonego, podlega karze aresztu wojskowego albo pozbawienia wolności do lat 3. § 2. Jeżeli sprawca dopuszcza się czynnej napaści w związku z pełnieniem przez przełożonego obowiązków służbowych albo wspólnie z innymi żołnierzami lub w obecności zebranych żołnierzy, podlega karze pozbawienia wolności od 6 miesięcy do lat 8. § 3. Jeżeli sprawca czynu określonego w § 1 lub 2 używa broni, noża lub innego podobnie niebezpiecznego przedmiotu, podlega karze pozbawienia wolności od roku do lat 10. § 4. Karze przewidzianej w § 3 podlega sprawca czynu określonego w § 1 lub 2, jeżeli jego następstwem jest skutek określony w art. 156 lub 157 § 1. pytanie: Czy żołnierz, który dopuszcza się czynnej napaści na przełożonego podlega karze pozbawienia wolności?\n",
      "\n",
      "PREDICTED: tak\n",
      "TRUE     : tak, podlega karze aresztu wojskowego albo pozbawienia wolności do lat 3.\n",
      "\n",
      "\n"
     ]
    },
    {
     "name": "stderr",
     "output_type": "stream",
     "text": [
      " 30%|█████████████▏                              | 3/10 [00:01<00:02,  3.04it/s]"
     ]
    },
    {
     "name": "stdout",
     "output_type": "stream",
     "text": [
      "PROMPT   : kontekst: Art. 31. 1. Zwalnia się od akcyzy, jeżeli wynika to z porozumień międzynarodowych, lub zasady wzajemności, czynności podlegające opodatkowaniu akcyzą wobec instytucji Wspólnot Europejskich oraz wobec: organizacji międzynarodowych, przedstawicielstw dyplomatycznych, urzędów konsularnych oraz członków personelu tych przedstawicielstw i urzędów, a także innych osób zrównanych z nimi na podstawie ustaw, umów lub zwyczajów międzynarodowych, jeżeli nie są obywatelami polskimi i nie mają stałego miejsca pobytu na terytorium kraju. 2. Zwalnia się od akcyzy, jeżeli wynika to z porozumień międzynarodowych, czynności podlegające opodatkowaniu akcyzą, których przedmiotem są wyroby akcyzowe przeznaczone dla sił zbrojnych Państw-Stron Traktatu Północnoatlantyckiego, sił zbrojnych uczestniczących w Partnerstwie dla Pokoju oraz dla Kwatery Głównej Wielonarodowego Korpusu Północno-Wschodniego i członków jej personelu oraz dowództw sojuszniczych, w szczególności Centrum Szkolenia Sił Połączonych i członków ich personelu. 3. Zwolnień, o których mowa w ust. 2, nie stosuje się do Sił Zbrojnych Rzeczypospolitej Polskiej. 4. Zwolnienia, o których mowa w ust. 1 i 2, mogą być realizowane również przez zwrot zapłaconej kwoty akcyzy dokonywany przez wyznaczonego naczelnika urzędu celnego. 5. W przypadku zwolnienia od akcyzy realizowanego przez zwrot zapłaconej kwoty akcyzy, wyznaczony naczelnik urzędu celnego określa, w drodze decyzji, wysokość kwoty zwrotu akcyzy. 6. Minister właściwy do spraw finansów publicznych, w drodze rozporządzenia: 1) określi szczegółowy zakres oraz warunki i tryb stosowania zwolnień od akcyzy, o których mowa w ust. 1 i 2 , 2) wyznaczy naczelników urzędów celnych właściwych w sprawach zwrotu zapłaconej kwoty akcyzy – uwzględniając konieczność skutecznego funkcjonowania zwolnień od akcyzy, konieczność zapewnienia właściwej kontroli oraz konieczność zapewnienia przepływu informacji dotyczących wyrobów zwolnionych od akcyzy. pytanie: Kogo zwalnia się od akcyzy według zasady wzajemności?\n",
      "\n",
      "PREDICTED: instytucji Wspólnot Europejskich oraz wobec: organizacji międzynarodowych, przedstawicielstw dyplomatycznych, urzędów konsularnych oraz członków personelu tych przedstawicielstw i urzędów, a także innych osób zrównanych z nimi na podstawie ustaw, umów lub zwyczajów międzynarodowych\n",
      "TRUE     : według zasady wzajemności z akcyzy zwalnia się instytucje wspólnot europejskich, organizacje międzynarodowe, przedstawicielstwa dyplomatyczne, urzędy konsularne oraz członków personelu tych przedstawicielstw i urzędów, a także innych osób zrównanych z nimi na podstawie ustaw, umów lub zwyczajów międzynarodowych, jeżeli nie są obywatelami polskimi i nie mają stałego miejsca pobytu na terytorium kraju.\n",
      "\n",
      "\n",
      "PROMPT   : kontekst: Art. 31. 1. Osoby, które wybudowały z własnych środków urządzenia wodociągowe i urządzenia kanalizacyjne, mogą je przekazywać odpłatnie gminie lub przedsiębiorstwu wodociągowo-kanalizacyjnemu, na warunkach uzgodnionych w umowie. 2. Przekazywane urządzenia, o których mowa w ust. l, powinny odpowiadać warunkom technicznym określonym w odrębnych przepisach. pytanie: Jakim warunkom powinny odpowiadać przekazywane gminie urządzenia wodociągowe?\n",
      "\n",
      "PREDICTED: technicznym określonym w odrębnych przepisach\n",
      "TRUE     : przekazywane urządzenia powinny odpowiadać warunkom technicznym określonym w odrębnych przepisach.\n",
      "\n",
      "\n"
     ]
    },
    {
     "name": "stderr",
     "output_type": "stream",
     "text": [
      " 40%|█████████████████▌                          | 4/10 [00:01<00:02,  2.41it/s]"
     ]
    },
    {
     "name": "stdout",
     "output_type": "stream",
     "text": [
      "PROMPT   : kontekst: Art. 8. 1. Rejestr grup uznanych jest jawny i zawiera: 1) nazwę i adres grupy, 2) datę i numer wydania decyzji o wpisie grupy do rejestru, 3) grupę produktów objętych decyzją, 4) informacje o osobach upoważnionych do reprezentowania grupy. 2. Grupa jest obowiązana informować właściwego wojewodę o każdej zmianie danych, o których mowa w ust. 1 pkt 1 i 4. pytanie: Co zawiera rejestr grup?\n",
      "\n",
      "PREDICTED: nazwę i adres grupy, 2) datę i numer wydania decyzji o wpisie grupy do rejestru, 3) grupę produktów objętych decyzją, 4) informacje o osobach upoważnionych do reprezentowania grupy\n",
      "TRUE     : rejestr grup uznanych zawiera nazwę i adres grupy, datę i numer wydania decyzji o wpisie grupy do rejestru, grupę produktów objętych decyzją i informacje o osobach upoważnionych do reprezentowania grupy.\n",
      "\n",
      "\n",
      "PROMPT   : kontekst: Art. 209. § 1. Kto uporczywie uchyla się od wykonania ciążącego na nim z mocy ustawy lub orzeczenia sądowego obowiązku opieki przez niełożenie na utrzymanie osoby najbliższej lub innej osoby i przez to naraża ją na niemożność zaspokojenia podstawowych potrzeb życiowych, podlega grzywnie, karze ograniczenia wolności albo pozbawienia wolności do lat 2. § 2. Ściganie następuje na wniosek pokrzywdzonego, organu opieki społecznej lub właściwej instytucji. § 3. Jeżeli pokrzywdzonemu przyznano świadczenie z funduszu alimentacyjnego, ściganie odbywa się z urzędu. pytanie: Jak ściga się świadczenia w ramach funduszu alimentacyjnego?\n",
      "\n",
      "PREDICTED: z urzędu\n",
      "TRUE     : ściganie następuje na wniosek pokrzywdzonego, organu opieki społecznej lub właściwej instytucji.\n",
      "\n",
      "\n"
     ]
    },
    {
     "name": "stderr",
     "output_type": "stream",
     "text": [
      " 60%|██████████████████████████▍                 | 6/10 [00:01<00:01,  3.95it/s]"
     ]
    },
    {
     "name": "stdout",
     "output_type": "stream",
     "text": [
      "PROMPT   : kontekst: Art. 408. Po wysłuchaniu głosów stron sąd niezwłocznie przystępuje do narady. pytanie: Co robi sąd po wysłuchaniu głosów stron?\n",
      "\n",
      "PREDICTED: przystępuje do narady\n",
      "TRUE     : po wysłuchaniu głosów stron sąd niezwłocznie przystępuje do narady\n",
      "\n",
      "\n"
     ]
    },
    {
     "name": "stderr",
     "output_type": "stream",
     "text": [
      " 70%|██████████████████████████████▊             | 7/10 [00:02<00:01,  2.47it/s]"
     ]
    },
    {
     "name": "stdout",
     "output_type": "stream",
     "text": [
      "PROMPT   : kontekst: Art. 63. 1. Kto wykonuje rybołówstwo morskie statkiem rybackim z naruszeniem przepisów ustawy i aktów wykonawczych wydanych na jej podstawie oraz przepisów Wspólnej Polityki Rybackiej Unii Europejskiej, podlega, w przypadku: 1) armatora statku rybackiego o długości całkowitej równej albo większej niż 10 m - karze pieniężnej do wysokości nieprzekraczającej pięćdziesięciokrotnego przeciętnego wynagrodzenia miesięcznego w gospodarce narodowej za rok poprzedzający, ogłaszanego przez Prezesa Głównego Urzędu Statystycznego; 2) kapitana statku rybackiego o długości całkowitej równej albo większej niż 10 m - karze pieniężnej do wysokości nieprzekraczającej dwudziestokrotnego przeciętnego wynagrodzenia miesięcznego w gospodarce narodowej za rok poprzedzający, ogłaszanego przez Prezesa Głównego Urzędu Statystycznego; 3) armatora lub kapitana statku rybackiego o długości całkowitej mniejszej niż 10 m - karze pieniężnej do wysokości nieprzekraczającej dziesięciokrotnego przeciętnego wynagrodzenia miesięcznego w gospodarce narodowej za rok poprzedzający, ogłaszanego przez Prezesa Głównego Urzędu Statystycznego. 2. Kto z naruszeniem przepisów o rybołówstwie: 1) prowadzi połowy organizmów morskich w celach naukowo-badawczych albo szkoleniowych; 2) prowadzi skup lub przetwórstwo na morzu organizmów morskich; 3) prowadzi chów lub hodowlę ryb i innych organizmów morskich; 4) dokonuje zarybiania; 5) prowadzi obrót produktami rybołówstwa - podlega karze pieniężnej do wysokości nieprzekraczającej dziesięciokrotnego przeciętnego wynagrodzenia miesięcznego w gospodarce narodowej za rok poprzedzający, ogłaszanego przez Prezesa Głównego Urzędu Statystycznego. 3. Kto z naruszeniem przepisów o rybołówstwie prowadzi połowy w celach sportoworekreacyjnych, podlega karze pieniężnej do wysokości nieprzekraczającej dwukrotnego przeciętnego wynagrodzenia miesięcznego w gospodarce narodowej za rok poprzedzający, ogłaszanego przez Prezesa Głównego Urzędu Statystycznego. 4. Minister właściwy do spraw rolnictwa określi, w drodze rozporządzenia, wysokość kar pieniężnych za naruszenia, o których mowa w ust. 1-3, zróżnicowane w zależności od ich rodzaju i społecznej szkodliwości. pytanie: Jakiej karze podlega armator, który wykonuje rybołówstwo morskie w polskich obszarach morskich, z naruszeniem przepisów ustawy?\n",
      "\n",
      "PREDICTED: pieniężnej do wysokości nieprzekraczającej pięćdziesięciokrotnego przeciętnego wynagrodzenia miesięcznego w gospodarce narodowej za rok poprzedzający, ogłaszanego przez Prezesa Głównego Urzędu Statystycznego\n",
      "TRUE     : w zależności od wielkości łodzi podlega karze pieniężnej do wysokości nieprzekraczającej pięćdziesięciokrotnego przeciętnego wynagrodzenia miesięcznego w gospodarce narodowej za rok poprzedzający\n",
      "\n",
      "\n"
     ]
    },
    {
     "name": "stderr",
     "output_type": "stream",
     "text": [
      " 80%|███████████████████████████████████▏        | 8/10 [00:03<00:00,  2.38it/s]"
     ]
    },
    {
     "name": "stdout",
     "output_type": "stream",
     "text": [
      "PROMPT   : kontekst: Art. 36. 1. Armatorowi, z którego statku podczas przebywania w polskich obszarach morskich dokonano, z naruszeniem przepisów ustawy, zanieczyszczenia środowiska morskiego, w związku z eksploatacją statku lub zatopieniem w morzu odpadów i innych substancji - wymierza się karę pieniężną o równowartości do 1 000 000 jednostek obliczeniowych, zwanych Specjalnym Prawem Ciągnienia (SDR), określanych przez Międzynarodowy Fundusz Walutowy. 2. Karze, o której mowa w ust. 1, podlega armator statku o polskiej przynależności, z którego dokonano, z naruszeniem przepisów ustawy, zanieczyszczenia środowiska morskiego poza polskimi obszarami morskimi, w związku z eksploatacją statku lub zatopieniem w morzu odpadów albo innych substancji, bez wymaganego zezwolenia lub wbrew jego warunkom. pytanie: Jakiej karze podlega armator, który wykonuje rybołówstwo morskie w polskich obszarach morskich, z naruszeniem przepisów ustawy?\n",
      "\n",
      "PREDICTED: pieniężnej o równowartości do 1 000 000 jednostek obliczeniowych, zwanych Specjalnym Prawem Ciągnienia (SDR)\n",
      "TRUE     : za naruszenie w postaci zanieczyszczenia środowiska morskiego wymierza się karę pieniężną o równowartości do 1 000 000 jednostek obliczeniowych, zwanych specjalnym prawem ciągnienia (sdr), określanych przez międzynarodowy fundusz walutowy\n",
      "\n",
      "\n"
     ]
    },
    {
     "name": "stderr",
     "output_type": "stream",
     "text": [
      " 90%|███████████████████████████████████████▌    | 9/10 [00:03<00:00,  2.09it/s]"
     ]
    },
    {
     "name": "stdout",
     "output_type": "stream",
     "text": [
      "PROMPT   : kontekst: Art. 281. 1. Przewodniczącego kolegium i członków składu kolegium wyznacza Przewodniczący Wydziału Spraw Spornych. 2. W skład kolegium oprócz przewodniczącego kolegium wchodzą jako jego członkowie: jeden ekspert wyznaczony z listy ustalonej przez Prezesa Urzędu Patentowego oraz jeden przedstawiciel organizacji, o których mowa w art. 9, wyznaczony z listy przedstawicieli, uzgodnionej z Prezesem Urzędu Patentowego przez te organizacje. 3. Jeżeli wyznaczono kolegium pięcioosobowe, oprócz przewodniczącego kolegium w jego skład wchodzi po dwóch członków z każdej z list, o których mowa w ust. 2. 4. Przedstawicielem organizacji, o którym mowa w ust. 2, nie może być czynny zawodowo rzecznik patentowy. pytanie: Kto wchodzi w skład kolegium doradczego wojewody?\n",
      "\n",
      "PREDICTED: jeden ekspert wyznaczony z listy ustalonej przez Prezesa Urzędu Patentowego oraz jeden przedstawiciel organizacji, o których mowa w art. 9, wyznaczony z listy przedstawicieli, uzgodnionej z Prezesem Urzędu Patentowego przez te organizacje\n",
      "TRUE     : jeden ekspert wyznaczony z listy ustalonej przez prezesa urzędu patentowego oraz jeden przedstawiciel organizacji, o których mowa w art. 9, wyznaczony z listy przedstawicieli, uzgodnionej z prezesem urzędu patentowego przez te organizacje\n",
      "\n",
      "\n",
      "PROMPT   : kontekst: Art. 49. 1. W sprawach wymagających wiadomości specjalnych Prezes Urzędu, po wysłuchaniu wniosków stron co do liczby biegłych i ich wyboru, może wezwać jednego lub kilku biegłych w celu zasięgnięcia ich opinii. 2. Biegłym, w rozumieniu ust. 1, może być również osoba prawna wyspecjalizowana w danej dziedzinie. pytanie: Co robi sąd po wysłuchaniu głosów stron?\n",
      "\n",
      "PREDICTED: może wezwać jednego lub kilku biegłych w celu zasięgnięcia ich opinii\n",
      "TRUE     : może wezwać jednego lub kilku biegłych w celu zasięgnięcia ich opinii\n",
      "\n",
      "\n"
     ]
    },
    {
     "name": "stderr",
     "output_type": "stream",
     "text": [
      "\n",
      "00%|███████████████████████████████████████████| 10/10 [00:03<00:00,  2.54it/s]"
     ]
    }
   ],
   "source": [
    "test_dataset_dct = ans_quests_rel_text_df.to_dict(orient='list')\n",
    "f1, em = evaluate_on_dataset(test_dataset_dct, limit=50, step=5, debug=True)"
   ]
  },
  {
   "cell_type": "code",
   "execution_count": 43,
   "id": "f3d2d857-b473-4f9a-9793-85892dd83179",
   "metadata": {},
   "outputs": [
    {
     "name": "stderr",
     "output_type": "stream",
     "text": [
      "\n",
      "00%|█████████████████████████████████████████| 576/576 [01:55<00:00,  5.00it/s]"
     ]
    }
   ],
   "source": [
    "f1, em = evaluate_on_dataset(test_dataset_dct)"
   ]
  },
  {
   "cell_type": "code",
   "execution_count": 44,
   "id": "227eb524-dc86-4523-9b4f-f97939c8b7a0",
   "metadata": {},
   "outputs": [
    {
     "name": "stdout",
     "output_type": "stream",
     "text": [
      "TEST DATASET (LEGAL QUESTIONS)\n",
      "f1 score    = 0.35401868910318446\n",
      "exact match = 0.19791666666666666\n"
     ]
    }
   ],
   "source": [
    "print('TEST DATASET (LEGAL QUESTIONS)')\n",
    "print(f\"f1 score    = {f1}\")\n",
    "print(f\"exact match = {em}\")"
   ]
  },
  {
   "cell_type": "markdown",
   "id": "e4f1c6e8-5694-423e-b4a6-f60e62767ab3",
   "metadata": {},
   "source": [
    "Wyniki ze zbioru walidacyjnego dla porównania:\n",
    "\n",
    "```\n",
    "VALIDATION DATASET\n",
    "f1 score    = 0.6451048679009687\n",
    "exact match = 0.5293199167244969\n",
    "```\n",
    "\n",
    "## Komentarz:\n",
    "Jak widać wyniki uzyskane na zbiorze testowym są wyraźnie gorsze od wyników uzyskanych na zbiorze walidacyjny (29 punktów procentowych spadku w metryce f1 i 33 pp w dokładnych dopasowaniach). W wyświetlonych przykładach widać jednak, że model potrafi udzelić na pytanie poprawnej (np. dwa ostatnie pytania) lub zbliżonej do poprawnej odpowiedzi (np. pierwsze pytanie), która może jednak nie zostać zaliczona przez stosowane metryki.\n",
    "\n",
    "Na podstawie wyświetlonych przykładów można wskazać potencjalne powody tak dużej różnicy:\n",
    " - w zbiorze pytań prawnych problemem może być duża objętość promptów - fragmenty są dłuższe niż w zbiorze treningowym i walidacyjnym, co dla niezbyt dużego modelu, może stanowić problem\n",
    " - inna forma kontekstu - w kotntekście więcej jest numerów, paragrafów, ustępów, etc. Używane jest też inne, bardziej skomolikowane, formalne słownictwo, które nie było zbyt dobrze reprezentowane w zbiorze treningowym\n",
    " - bardziej rozbudowane odpowiedzi - zbiór z pytaniami prawnymi zawiera często bardziej rozbudowane odpowiedzi, często z powtórzeniem pytania, tymczasem w zbiorze, na którym model był trenowany odpowiedzi były maksymalnie któtkie i precyzyjne. Np. w przykładzie poniżej odpowiedź przewidziana przez model może być uznana za prawidłową, podczas gdy odpowiedź oczekiwana według zbioru jest od niego znacznie dłuższa:\n",
    "```\n",
    "PROMPT   : kontekst: Art. 408. Po wysłuchaniu głosów stron sąd niezwłocznie przystępuje do narady. pytanie: Co robi sąd po wysłuchaniu głosów stron?\n",
    "\n",
    "PREDICTED: przystępuje do narady\n",
    "TRUE     : po wysłuchaniu głosów stron sąd niezwłocznie przystępuje do narady\n",
    "```\n",
    "\n",
    "Podobnie w przypadku poniższego pytania - odpowiedź `tak` jest poprawna i byłaby zapewne oczekiwana w zbiorze treningowym i walidacyjnym, tymczasem zbiór pytań prawnych wymaga dodatkowego rozwinięcie (o którym nie ma mowy w pytaniu)\n",
    "```\n",
    "kontekst: ... pytanie: Czy żołnierz, który dopuszcza się czynnej napaści na przełożonego podlega karze pozbawienia wolności?\n",
    "\n",
    "PREDICTED: tak\n",
    "TRUE     : tak, podlega karze aresztu wojskowego albo pozbawienia wolności do lat 3.\n",
    "```\n",
    "\n",
    "**Dlaczego *extractive question answering*  nie sprawdza się dla języków z fleksją?**\n",
    "\n",
    "Przy zastosowaniu ekstrakcyjnego odpowiadania na pytania odpowiedzi zachowują taką samą formę, w jakiej były zapisane w kontekście, przez co mogą być niedopasowane do pytania. Utrudnia to czytanie odpowiedzi przez ludzi i może uniemożliwić przetwarzanie odpowiedzi przez zautomatyzowane systemy (które mogą na przykład zliczać wystąpienia jakiejś odpowiedzi i oczekiwać zawsze jej podstawowej formy). Podstawowa forma extractive question answering nie jest też przystosowana do udzielania odpowiedzi w stylu tak/nie, które można uzyskać z modelu abstrakcyjnego."
   ]
  }
 ],
 "metadata": {
  "kernelspec": {
   "display_name": "Python 3 (ipykernel)",
   "language": "python",
   "name": "python3"
  },
  "language_info": {
   "codemirror_mode": {
    "name": "ipython",
    "version": 3
   },
   "file_extension": ".py",
   "mimetype": "text/x-python",
   "name": "python",
   "nbconvert_exporter": "python",
   "pygments_lexer": "ipython3",
   "version": "3.12.3"
  }
 },
 "nbformat": 4,
 "nbformat_minor": 5
}
