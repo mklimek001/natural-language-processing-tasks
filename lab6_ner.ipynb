{
 "cells": [
  {
   "cell_type": "code",
   "execution_count": 1,
   "id": "5aad7281-9856-4c82-bf79-2315cb8a284f",
   "metadata": {},
   "outputs": [
    {
     "name": "stderr",
     "output_type": "stream",
     "text": [
      "/home/miklimek/Studies/NLP/env/lib/python3.10/site-packages/tqdm/auto.py:21: TqdmWarning: IProgress not found. Please update jupyter and ipywidgets. See https://ipywidgets.readthedocs.io/en/stable/user_install.html\n",
      "  from .autonotebook import tqdm as notebook_tqdm\n"
     ]
    }
   ],
   "source": [
    "from datasets import load_dataset\n",
    "import random\n",
    "\n",
    "random.seed(42)\n",
    "\n",
    "ds = load_dataset(\"clarin-knext/fiqa-pl\", \"corpus\")\n",
    "n = 1000\n",
    "ds_sample = random.sample(ds['corpus']['text'], n)"
   ]
  },
  {
   "cell_type": "code",
   "execution_count": 2,
   "id": "fc803944-94d6-47f0-b42d-fda7de956d86",
   "metadata": {},
   "outputs": [
    {
     "data": {
      "text/plain": [
       "['Jest na swoich serwerach, co oznacza, że \\u200b\\u200bjest dostępny przez Internet. A dlaczego martwisz się o odkurzanie policyjnych tablic rejestracyjnych? Boisz się, że wyczyszczą ci talerz? I dlaczego bardziej boisz się zhakowania DMV? Jeśli DMV zostanie zhakowany, nie będzie miał dostępu do informacji o Twojej karcie kredytowej pod najlepszym numerem ubezpieczenia społecznego.',\n",
       " 'Ślub to wyjątkowa okazja w życiu każdego człowieka. Nie ma innego najlepszego sposobu ubierania się na ślub niż lniana kamizelka na ślub. Zachowaj spokój i chłód na swoim weselu i zaskocz gościa i swojego partnera tym, aby nie zapomnieć o wyglądzie z mnóstwem kolorów do wyboru na lnianą kamizelkę na wesele.',\n",
       " 'Zobacz mój komentarz, aby zapoznać się z dyskusją na temat tego, dlaczego można wybrać identyczny fundusz zamiast ETF. Co do tego, dlaczego w tym przypadku ktoś miałby wybrać fundusz o wyższych kosztach... Wersja funduszu Admiral Shares (VFIAX) ma taki sam wskaźnik kosztów jak ETF, ale minimalna inwestycja wynosi 10 000 USD. Niektórzy inwestorzy mogą chcieć ostatecznie posiadać fundusz Admiral Shares, ale nie mają jeszcze 10 000 USD. Jeśli zaczną od Akcji Inwestora teraz, a następnie przekształcą się w Admiral później, ta konwersja będzie zdarzeniem niepodlegającym opodatkowaniu. Jeśli jednak zaczną od akcji ETF teraz, a następnie sprzedają je później, aby kupić fundusz, ta sprzedaż będzie zdarzeniem podlegającym opodatkowaniu. Fundusze Vanguard ETF są wolne od prowizji tylko dla klientów Vanguard korzystających z usług maklerskich Vanguard. Niektórzy inwestorzy korzystający z usług innych brokerów mogą zostać narażeni na różnego rodzaju kary za zakup funduszy ETF stron trzecich. Niektórzy uczestnicy planu emerytalnego (w Vanguard lub u innego brokera) mogą nawet nie mieć pozwolenia na zakup funduszy ETF.']"
      ]
     },
     "execution_count": 2,
     "metadata": {},
     "output_type": "execute_result"
    }
   ],
   "source": [
    "ds_sample[:3]"
   ]
  },
  {
   "cell_type": "code",
   "execution_count": 5,
   "id": "7f1980f3-5695-4bbf-88c6-6bf353b3857e",
   "metadata": {},
   "outputs": [
    {
     "name": "stdout",
     "output_type": "stream",
     "text": [
      "Collecting pl-core-news-lg==3.8.0\n",
      "  Downloading https://github.com/explosion/spacy-models/releases/download/pl_core_news_lg-3.8.0/pl_core_news_lg-3.8.0-py3-none-any.whl (573.7 MB)\n",
      "\u001b[2K     \u001b[38;2;114;156;31m━━━━━━━━━━━━━━━━━━━━━━━━━━━━━━━━━━━━━━━\u001b[0m \u001b[32m573.7/573.7 MB\u001b[0m \u001b[31m1.5 MB/s\u001b[0m eta \u001b[36m0:00:00\u001b[0mm eta \u001b[36m0:00:01\u001b[0m[36m0:00:01\u001b[0m\n",
      "\u001b[?25hInstalling collected packages: pl-core-news-lg\n",
      "Successfully installed pl-core-news-lg-3.8.0\n",
      "\u001b[38;5;2m✔ Download and installation successful\u001b[0m\n",
      "You can now load the package via spacy.load('pl_core_news_lg')\n"
     ]
    }
   ],
   "source": [
    "! python -m spacy download pl_core_news_lg"
   ]
  },
  {
   "cell_type": "code",
   "execution_count": 6,
   "id": "99524846-8451-4119-b564-2689f2e6a102",
   "metadata": {},
   "outputs": [],
   "source": [
    "import spacy\n",
    "\n",
    "nlp = spacy.load(\"pl_core_news_lg\")"
   ]
  },
  {
   "cell_type": "code",
   "execution_count": 21,
   "id": "45f3afd9-f1da-466c-85b4-34ffbaf3b3bd",
   "metadata": {},
   "outputs": [],
   "source": [
    "test_text = \"Wczoraj w Krakowie miało miejsce spotkanie prezydentów Polski i Stanów Zjednoczonych?\""
   ]
  },
  {
   "cell_type": "code",
   "execution_count": 25,
   "id": "e5d8a58c-2e60-4e45-b552-695d29903615",
   "metadata": {},
   "outputs": [
    {
     "data": {
      "text/plain": [
       "['Kraków', 'Polska', 'Stany', 'Zjednoczone']"
      ]
     },
     "execution_count": 25,
     "metadata": {},
     "output_type": "execute_result"
    }
   ],
   "source": [
    "def find_potential_ners(nlp, text):\n",
    "    potential_ners = []\n",
    "    text_nlp = nlp(text)\n",
    "    sentences = list(text_nlp.sents)\n",
    "    for sentence in sentences:\n",
    "        lemmas = [token.lemma_ for token in sentence]\n",
    "        for lemma in lemmas[1:]:\n",
    "            if lemma[0].isupper():\n",
    "                potential_ners.append(lemma)\n",
    "\n",
    "    return potential_ners\n",
    "\n",
    "find_potential_ners(nlp, test_text)"
   ]
  },
  {
   "cell_type": "code",
   "execution_count": 40,
   "id": "3f860c0b-63f7-42cc-a47b-d62abc518969",
   "metadata": {},
   "outputs": [
    {
     "name": "stdout",
     "output_type": "stream",
     "text": [
      "total: 3825\n",
      "\n",
      "\n",
      "USA: 103\n",
      "Twój: 57\n",
      "ETF: 57\n",
      "IRA: 52\n",
      "Stany: 41\n",
      "Roth: 39\n",
      "IRS: 37\n",
      "Ciebie: 36\n",
      "Zjednoczone: 33\n",
      "Trump: 30\n",
      "B: 29\n",
      "Kalifornia: 29\n",
      "Indie: 27\n",
      "GBP: 24\n",
      "BCE: 24\n",
      "Google: 23\n",
      "Massachusetts: 23\n",
      "Amazon: 20\n",
      "LTA: 20\n",
      "A: 19\n",
      "K: 18\n",
      "Twojej: 18\n",
      "Twojego: 18\n",
      "LLC: 18\n",
      "IV: 17\n",
      "Apple: 16\n",
      "Brytania: 15\n",
      "HSA: 15\n",
      "Corp: 14\n",
      "Internet: 13\n",
      "Ameryka: 13\n",
      "C: 13\n",
      "Wielki: 13\n",
      "API: 13\n",
      "S: 13\n",
      "SWIFT: 13\n",
      "HST: 13\n",
      "Vanguard: 12\n",
      "Twoich: 12\n",
      "GST: 12\n",
      "Facebook: 11\n",
      "S&P: 11\n",
      "PM: 11\n",
      "Najlepsze: 11\n",
      "ISA: 11\n",
      "CPA: 10\n",
      "P: 10\n",
      "S&P500: 10\n",
      "IT: 10\n",
      "Kanada: 10\n"
     ]
    }
   ],
   "source": [
    "from collections import Counter\n",
    "\n",
    "all_found_ners = []\n",
    "\n",
    "for text in ds_sample:\n",
    "    all_found_ners.extend(find_potential_ners(nlp, text))\n",
    "\n",
    "print(f\"total: {len(all_found_ners)}\\n\\n\")\n",
    "\n",
    "freqs = Counter(all_found_ners)\n",
    "for phrase, num in freqs.most_common(50):\n",
    "    print(f\"{phrase}: {num}\")\n"
   ]
  },
  {
   "cell_type": "code",
   "execution_count": 43,
   "id": "0bc302eb-7d8d-41f3-b4b7-18e8cdd62dfc",
   "metadata": {},
   "outputs": [
    {
     "name": "stdout",
     "output_type": "stream",
     "text": [
      "Kraków - placeName\n",
      "Polska - placeName\n",
      "Stany Zjednoczone - placeName\n"
     ]
    }
   ],
   "source": [
    "def find_spacy_ners(nlp, text):\n",
    "    text_nlp = nlp(text)\n",
    "    lemmatized_text = ' '.join([token.lemma_ for token in text_nlp])\n",
    "    lemma_text_nlp = nlp(lemmatized_text)\n",
    "    ners = lemma_text_nlp.ents\n",
    "    return list(ners)\n",
    "\n",
    "spacy_test_ners = find_spacy_ners(nlp, test_text)\n",
    "for ner in spacy_test_ners:\n",
    "    print(f\"{ner.text} - {ner.label_}\")"
   ]
  },
  {
   "cell_type": "code",
   "execution_count": 35,
   "id": "eeaeab3c-9d57-44d4-9340-04e37e470f9e",
   "metadata": {},
   "outputs": [
    {
     "name": "stdout",
     "output_type": "stream",
     "text": [
      "('date', 'geogName', 'orgName', 'persName', 'placeName', 'time')\n"
     ]
    }
   ],
   "source": [
    "ner = nlp.get_pipe(\"ner\")\n",
    "entity_labels = ner.labels\n",
    "print(entity_labels)"
   ]
  },
  {
   "cell_type": "code",
   "execution_count": 44,
   "id": "1785ca7d-5715-4a76-98d3-a9a3c07efdc9",
   "metadata": {},
   "outputs": [
    {
     "name": "stdout",
     "output_type": "stream",
     "text": [
      "total: 2391\n"
     ]
    }
   ],
   "source": [
    "all_found_spacy_ners = []\n",
    "\n",
    "for text in ds_sample:\n",
    "    all_found_spacy_ners.extend(find_spacy_ners(nlp, text))\n",
    "\n",
    "print(f\"total: {len(all_found_spacy_ners)}\")"
   ]
  },
  {
   "cell_type": "code",
   "execution_count": 48,
   "id": "c4babea8-2ffa-4122-8b82-d12ca04ca89b",
   "metadata": {},
   "outputs": [
    {
     "name": "stdout",
     "output_type": "stream",
     "text": [
      "\n",
      "_______ date _______\n",
      "      total: 196\n",
      "\n",
      "2007 rok: 6\n",
      "2012 rok: 6\n",
      "2013 rok: 5\n",
      "2014 rok: 5\n",
      "rok 80 .: 5\n",
      "15 kwiecień: 5\n",
      "2008 rok: 4\n",
      "2013: 4\n",
      "2000 rok: 4\n",
      "2009 rok: 4\n",
      "\n",
      "_______ geogName _______\n",
      "      total: 55\n",
      "\n",
      "europejski: 6\n",
      "Europa: 3\n",
      "Wall Street: 3\n",
      "Ziemia: 3\n",
      "BillMeLater: 2\n",
      "Alaska: 2\n",
      "Reddit: 2\n",
      "FDIC: 2\n",
      "Forex: 2\n",
      "Texas Hold ' Em: 1\n",
      "\n",
      "_______ orgName _______\n",
      "      total: 933\n",
      "\n",
      "IRS: 41\n",
      "IRA: 39\n",
      "ETF: 28\n",
      "Google: 21\n",
      "Amazon: 20\n",
      "LTA: 20\n",
      "Apple: 17\n",
      "Trump: 17\n",
      "Roth IRA: 12\n",
      "Facebook: 12\n",
      "\n",
      "_______ persName _______\n",
      "      total: 538\n",
      "\n",
      "Roth: 25\n",
      "Trump: 9\n",
      "Buffett: 8\n",
      "Romney: 8\n",
      "Gruber: 7\n",
      "Obamy: 6\n",
      "Wal - Mart: 6\n",
      "Clinton: 5\n",
      "Obama: 5\n",
      "giera: 5\n",
      "\n",
      "_______ placeName _______\n",
      "      total: 650\n",
      "\n",
      "USA: 102\n",
      "amerykański: 57\n",
      "Stany Zjednoczone: 33\n",
      "Kalifornia: 30\n",
      "Indie: 27\n",
      "Massachusetts: 23\n",
      "Ameryka: 14\n",
      "kanadyjski: 12\n",
      "Stany: 10\n",
      "Kanada: 10\n",
      "\n",
      "_______ time _______\n",
      "      total: 19\n",
      "\n",
      "65: 6\n",
      "8 rano: 3\n",
      "01: 2\n",
      "4 .: 2\n",
      "50: 2\n",
      "12:00 w: 1\n",
      "godzina .: 1\n",
      "14 .: 1\n",
      "00: 1\n"
     ]
    }
   ],
   "source": [
    "counts = {}\n",
    "\n",
    "for entity_type in entity_labels:\n",
    "    found_of_type = [ner.text for ner in all_found_spacy_ners if ner.label_ == entity_type]\n",
    "    counts[entity_type] = len(found_of_type)\n",
    "    freqs = Counter(found_of_type)\n",
    "    print(f\"\\n_______ {entity_type} _______\")\n",
    "    print(f\"      total: {counts[entity_type]}\\n\")\n",
    "    for phrase, num in freqs.most_common(10):\n",
    "        print(f\"{phrase}: {num}\")\n"
   ]
  },
  {
   "cell_type": "code",
   "execution_count": 53,
   "id": "8eda5278-9fc6-4dd5-89fe-82849091a609",
   "metadata": {},
   "outputs": [
    {
     "data": {
      "image/png": "[encoded data removed]",
      "text/plain": [
       "<Figure size 640x480 with 1 Axes>"
      ]
     },
     "metadata": {},
     "output_type": "display_data"
    }
   ],
   "source": [
    "import matplotlib.pyplot as plt\n",
    "\n",
    "plt.bar(counts.keys(), counts.values())\n",
    "plt.xlabel('NER type')\n",
    "plt.ylabel('Count')\n",
    "plt.title('Spacy NER types histogram')\n",
    "plt.show()"
   ]
  },
  {
   "cell_type": "code",
   "execution_count": 57,
   "id": "fa344beb-5e10-4606-932c-8a6bd7ac6853",
   "metadata": {},
   "outputs": [
    {
     "name": "stdout",
     "output_type": "stream",
     "text": [
      "USA - placeName: 102\n",
      "amerykański - placeName: 57\n",
      "IRS - orgName: 41\n",
      "IRA - orgName: 39\n",
      "Stany Zjednoczone - placeName: 33\n",
      "Kalifornia - placeName: 30\n",
      "ETF - orgName: 28\n",
      "Indie - placeName: 27\n",
      "Roth - persName: 25\n",
      "Massachusetts - placeName: 23\n",
      "Google - orgName: 21\n",
      "Amazon - orgName: 20\n",
      "LTA - orgName: 20\n",
      "Apple - orgName: 17\n",
      "Trump - orgName: 17\n",
      "Ameryka - placeName: 14\n",
      "Roth IRA - orgName: 12\n",
      "Facebook - orgName: 12\n",
      "kanadyjski - placeName: 12\n",
      "LLC - orgName: 12\n",
      "BCE - orgName: 12\n",
      "Uber - orgName: 10\n",
      "SEC - orgName: 10\n",
      "Fed - orgName: 10\n",
      "Stany - placeName: 10\n",
      "Kanada - placeName: 10\n",
      "Yelp - orgName: 10\n",
      "Microsoft - orgName: 9\n",
      "Wielki Brytania - placeName: 9\n",
      "Amerykanin - placeName: 9\n",
      "Trump - persName: 9\n",
      "HSA - orgName: 8\n",
      "Buffett - persName: 8\n",
      "Romney - persName: 8\n",
      "Vanguard - orgName: 7\n",
      "Whole Foods - orgName: 7\n",
      "GBP - orgName: 7\n",
      "angielski - placeName: 7\n",
      "Gruber - persName: 7\n",
      "Oregon - placeName: 7\n",
      "S - Corp - orgName: 7\n",
      "Accenture - orgName: 7\n",
      "FICA - placeName: 6\n",
      "2007 rok - date: 6\n",
      "europejski - geogName: 6\n",
      "Obamy - persName: 6\n",
      "2012 rok - date: 6\n",
      "65 - time: 6\n",
      "UE - orgName: 6\n",
      "FSA - orgName: 6\n"
     ]
    }
   ],
   "source": [
    "total_counts = Counter([(phrase.text, phrase.label_) for phrase in all_found_spacy_ners])\n",
    "\n",
    "for phrase, num in total_counts.most_common(50):\n",
    "    print(f\"{phrase[0]} - {phrase[1]}: {num}\")"
   ]
  },
  {
   "cell_type": "code",
   "execution_count": 67,
   "id": "687b88c0-d889-4478-9c01-453533a4fa46",
   "metadata": {},
   "outputs": [],
   "source": [
    "def find_sentences_with_two_ners(nlp, texts, n=10):\n",
    "    proper_texts = []\n",
    "    for text in texts:\n",
    "        text_nlp = nlp(text)\n",
    "        sentences = list(text_nlp.sents)\n",
    "        for sentence in sentences:\n",
    "            ners = find_spacy_ners(nlp, sentence.text)\n",
    "            if len(set([ner.label_ for ner in ners])) > 1:\n",
    "                proper_texts.append((sentence.text, ners))\n",
    "\n",
    "                if len(proper_texts) >= n:\n",
    "                    return proper_texts\n",
    "                    \n",
    "    return proper_texts"
   ]
  },
  {
   "cell_type": "code",
   "execution_count": 68,
   "id": "8e84019f-3410-4f35-9599-456f1883b98a",
   "metadata": {},
   "outputs": [],
   "source": [
    "multi_ner_text = find_sentences_with_two_ners(nlp, ds_sample, 10)"
   ]
  },
  {
   "cell_type": "code",
   "execution_count": 69,
   "id": "8867d062-9a7f-47f3-8e18-6e11309d915e",
   "metadata": {},
   "outputs": [
    {
     "name": "stdout",
     "output_type": "stream",
     "text": [
      "Wersja funduszu Admiral Shares (VFIAX) ma taki sam wskaźnik kosztów jak ETF, ale minimalna inwestycja wynosi 10 000 USD. - [Admiral Shares, VFIAX]\n",
      "Oto cytat z Bogleheads Guide to Investing: Fundusze indeksowe osiągają wyniki lepsze niż około 80 procent wszystkich aktywnie zarządzanych funduszy w długim okresie czasu. - [Bogleheads Guide, Investing]\n",
      "Programy do rozważenia (lista nie jest wyczerpująca): * University of Michigan: Inżynieria finansowa * Carnegie Mellon: Finanse obliczeniowe * NYU: Finanse matematyczne (chyba) * U of Toronto: Finanse matematyczne * Berkeley: Inżynieria finansowa * Columbia: Inżynieria finansowa Niektóre uniwersytety nazywają to również finansami ilościowymi. - [University of Michigan, Toronto, Berkeley, Columbia]\n",
      "Zakupy w Safeway, sklepie Albertsona lub podobnym są brzydkie, niewygodne, zimne i śmierdzące. - [Safeway, Albertsona]\n",
      "> Co sprawia, że ​​myślisz, że Whole Foods jest w jakikolwiek sposób BARDZIEJ zwodnicza niż Walmart, Publix, Costco itp.? - [Whole Foods, Walmart, Publix, Costco]\n",
      "„Kryzys finansowy naprawdę rozpoczął się w 2008 r., kiedy Bear Stearns zaczął upadek w marcu. - [2008 rok, Bear Stearns, marzec]\n",
      "Lien Tục đến MUC Jimmy không Còn 1 xu Dinh Túi nhưng Bù Li n Mn M Cá nhan Jimmy và Jimmy Grupa phục vụ Cung đồng Trước khi phục vụ cho bản niż Minh => Có Czw xem là Hanh động - [Lien Tục, MUC Jimmy, Jimmy và, Jimmy, Cung đồng Trước, Minh]\n",
      "Cá nhân Tri an i Jim - trong khi Jimmy ko giúp anh Hưng chiến thắng được = - [Tri an i, Jim, Jimmy]\n",
      "Cam kết Cua Jimmy và các thành Viên Cua Jimmy Group là luđồn n Đầu tư Tai chinh, không bao giờ phục vụ cho những đơn vị làm ăn gian dui nhằm lùa Nhà đầu tư vào các piosenka CO Bạc để t Tiền mua C! - [Cua Jimmy, Viên Cua Jimmy Group Là luđồn n Đầu tư Tai]\n",
      "01 i chociaż nie żałuję, że kupiłem, przypuszczam, że żałuję, że kupiłem za 38.01, kiedy mogłem dostać się w latach 20-tych. - [38 ., 01]\n"
     ]
    }
   ],
   "source": [
    "for text, ners in multi_ner_text:\n",
    "    print(f\"{text} - {ners}\")"
   ]
  },
  {
   "cell_type": "code",
   "execution_count": 71,
   "id": "08b8f7ab-592e-4af1-a24c-6a4f4e5fe1c4",
   "metadata": {},
   "outputs": [
    {
     "data": {
      "text/html": [
       "<span class=\"tex2jax_ignore\"><div class=\"entities\" style=\"line-height: 2.5; direction: ltr\">Wersja funduszu \n",
       "<mark class=\"entity\" style=\"background: #ddd; padding: 0.45em 0.6em; margin: 0 0.25em; line-height: 1; border-radius: 0.35em;\">\n",
       "    Admiral Shares\n",
       "    <span style=\"font-size: 0.8em; font-weight: bold; line-height: 1; border-radius: 0.35em; vertical-align: middle; margin-left: 0.5rem\">orgName</span>\n",
       "</mark>\n",
       " (\n",
       "<mark class=\"entity\" style=\"background: #ddd; padding: 0.45em 0.6em; margin: 0 0.25em; line-height: 1; border-radius: 0.35em;\">\n",
       "    VFIAX\n",
       "    <span style=\"font-size: 0.8em; font-weight: bold; line-height: 1; border-radius: 0.35em; vertical-align: middle; margin-left: 0.5rem\">placeName</span>\n",
       "</mark>\n",
       ") ma taki sam wskaźnik kosztów jak \n",
       "<mark class=\"entity\" style=\"background: #ddd; padding: 0.45em 0.6em; margin: 0 0.25em; line-height: 1; border-radius: 0.35em;\">\n",
       "    ETF\n",
       "    <span style=\"font-size: 0.8em; font-weight: bold; line-height: 1; border-radius: 0.35em; vertical-align: middle; margin-left: 0.5rem\">orgName</span>\n",
       "</mark>\n",
       ", ale minimalna inwestycja wynosi 10 000 USD.</div></span>"
      ],
      "text/plain": [
       "<IPython.core.display.HTML object>"
      ]
     },
     "metadata": {},
     "output_type": "display_data"
    },
    {
     "name": "stdout",
     "output_type": "stream",
     "text": [
      "\n",
      "\n"
     ]
    },
    {
     "data": {
      "text/html": [
       "<span class=\"tex2jax_ignore\"><div class=\"entities\" style=\"line-height: 2.5; direction: ltr\">Oto cytat z \n",
       "<mark class=\"entity\" style=\"background: #ddd; padding: 0.45em 0.6em; margin: 0 0.25em; line-height: 1; border-radius: 0.35em;\">\n",
       "    Bogleheads Guide\n",
       "    <span style=\"font-size: 0.8em; font-weight: bold; line-height: 1; border-radius: 0.35em; vertical-align: middle; margin-left: 0.5rem\">persName</span>\n",
       "</mark>\n",
       " to \n",
       "<mark class=\"entity\" style=\"background: #ddd; padding: 0.45em 0.6em; margin: 0 0.25em; line-height: 1; border-radius: 0.35em;\">\n",
       "    Investing\n",
       "    <span style=\"font-size: 0.8em; font-weight: bold; line-height: 1; border-radius: 0.35em; vertical-align: middle; margin-left: 0.5rem\">orgName</span>\n",
       "</mark>\n",
       ": Fundusze indeksowe osiągają wyniki lepsze niż około 80 procent wszystkich aktywnie zarządzanych funduszy w długim okresie czasu.</div></span>"
      ],
      "text/plain": [
       "<IPython.core.display.HTML object>"
      ]
     },
     "metadata": {},
     "output_type": "display_data"
    },
    {
     "name": "stdout",
     "output_type": "stream",
     "text": [
      "\n",
      "\n"
     ]
    },
    {
     "data": {
      "text/html": [
       "<span class=\"tex2jax_ignore\"><div class=\"entities\" style=\"line-height: 2.5; direction: ltr\">Programy do rozważenia (lista nie jest wyczerpująca): * \n",
       "<mark class=\"entity\" style=\"background: #ddd; padding: 0.45em 0.6em; margin: 0 0.25em; line-height: 1; border-radius: 0.35em;\">\n",
       "    University of Michigan\n",
       "    <span style=\"font-size: 0.8em; font-weight: bold; line-height: 1; border-radius: 0.35em; vertical-align: middle; margin-left: 0.5rem\">orgName</span>\n",
       "</mark>\n",
       ": Inżynieria finansowa * Carnegie Mellon: Finanse obliczeniowe * NYU: Finanse matematyczne (chyba) * U of \n",
       "<mark class=\"entity\" style=\"background: #ddd; padding: 0.45em 0.6em; margin: 0 0.25em; line-height: 1; border-radius: 0.35em;\">\n",
       "    Toronto\n",
       "    <span style=\"font-size: 0.8em; font-weight: bold; line-height: 1; border-radius: 0.35em; vertical-align: middle; margin-left: 0.5rem\">placeName</span>\n",
       "</mark>\n",
       ": Finanse matematyczne * \n",
       "<mark class=\"entity\" style=\"background: #ddd; padding: 0.45em 0.6em; margin: 0 0.25em; line-height: 1; border-radius: 0.35em;\">\n",
       "    Berkeley\n",
       "    <span style=\"font-size: 0.8em; font-weight: bold; line-height: 1; border-radius: 0.35em; vertical-align: middle; margin-left: 0.5rem\">placeName</span>\n",
       "</mark>\n",
       ": Inżynieria finansowa * \n",
       "<mark class=\"entity\" style=\"background: #ddd; padding: 0.45em 0.6em; margin: 0 0.25em; line-height: 1; border-radius: 0.35em;\">\n",
       "    Columbia\n",
       "    <span style=\"font-size: 0.8em; font-weight: bold; line-height: 1; border-radius: 0.35em; vertical-align: middle; margin-left: 0.5rem\">placeName</span>\n",
       "</mark>\n",
       ": Inżynieria finansowa Niektóre uniwersytety nazywają to również finansami ilościowymi.</div></span>"
      ],
      "text/plain": [
       "<IPython.core.display.HTML object>"
      ]
     },
     "metadata": {},
     "output_type": "display_data"
    },
    {
     "name": "stdout",
     "output_type": "stream",
     "text": [
      "\n",
      "\n"
     ]
    },
    {
     "data": {
      "text/html": [
       "<span class=\"tex2jax_ignore\"><div class=\"entities\" style=\"line-height: 2.5; direction: ltr\">Zakupy w \n",
       "<mark class=\"entity\" style=\"background: #ddd; padding: 0.45em 0.6em; margin: 0 0.25em; line-height: 1; border-radius: 0.35em;\">\n",
       "    Safeway\n",
       "    <span style=\"font-size: 0.8em; font-weight: bold; line-height: 1; border-radius: 0.35em; vertical-align: middle; margin-left: 0.5rem\">placeName</span>\n",
       "</mark>\n",
       ", sklepie \n",
       "<mark class=\"entity\" style=\"background: #ddd; padding: 0.45em 0.6em; margin: 0 0.25em; line-height: 1; border-radius: 0.35em;\">\n",
       "    Albertsona\n",
       "    <span style=\"font-size: 0.8em; font-weight: bold; line-height: 1; border-radius: 0.35em; vertical-align: middle; margin-left: 0.5rem\">persName</span>\n",
       "</mark>\n",
       " lub podobnym są brzydkie, niewygodne, zimne i śmierdzące.</div></span>"
      ],
      "text/plain": [
       "<IPython.core.display.HTML object>"
      ]
     },
     "metadata": {},
     "output_type": "display_data"
    },
    {
     "name": "stdout",
     "output_type": "stream",
     "text": [
      "\n",
      "\n"
     ]
    },
    {
     "data": {
      "text/html": [
       "<span class=\"tex2jax_ignore\"><div class=\"entities\" style=\"line-height: 2.5; direction: ltr\">&gt; Co sprawia, że ​​myślisz, że \n",
       "<mark class=\"entity\" style=\"background: #ddd; padding: 0.45em 0.6em; margin: 0 0.25em; line-height: 1; border-radius: 0.35em;\">\n",
       "    Whole Foods\n",
       "    <span style=\"font-size: 0.8em; font-weight: bold; line-height: 1; border-radius: 0.35em; vertical-align: middle; margin-left: 0.5rem\">orgName</span>\n",
       "</mark>\n",
       " jest w jakikolwiek sposób BARDZIEJ zwodnicza niż \n",
       "<mark class=\"entity\" style=\"background: #ddd; padding: 0.45em 0.6em; margin: 0 0.25em; line-height: 1; border-radius: 0.35em;\">\n",
       "    Walmart\n",
       "    <span style=\"font-size: 0.8em; font-weight: bold; line-height: 1; border-radius: 0.35em; vertical-align: middle; margin-left: 0.5rem\">orgName</span>\n",
       "</mark>\n",
       ", \n",
       "<mark class=\"entity\" style=\"background: #ddd; padding: 0.45em 0.6em; margin: 0 0.25em; line-height: 1; border-radius: 0.35em;\">\n",
       "    Publix\n",
       "    <span style=\"font-size: 0.8em; font-weight: bold; line-height: 1; border-radius: 0.35em; vertical-align: middle; margin-left: 0.5rem\">persName</span>\n",
       "</mark>\n",
       ", \n",
       "<mark class=\"entity\" style=\"background: #ddd; padding: 0.45em 0.6em; margin: 0 0.25em; line-height: 1; border-radius: 0.35em;\">\n",
       "    Costco\n",
       "    <span style=\"font-size: 0.8em; font-weight: bold; line-height: 1; border-radius: 0.35em; vertical-align: middle; margin-left: 0.5rem\">persName</span>\n",
       "</mark>\n",
       " itp.?</div></span>"
      ],
      "text/plain": [
       "<IPython.core.display.HTML object>"
      ]
     },
     "metadata": {},
     "output_type": "display_data"
    },
    {
     "name": "stdout",
     "output_type": "stream",
     "text": [
      "\n",
      "\n"
     ]
    },
    {
     "data": {
      "text/html": [
       "<span class=\"tex2jax_ignore\"><div class=\"entities\" style=\"line-height: 2.5; direction: ltr\">„Kryzys finansowy naprawdę rozpoczął się w \n",
       "<mark class=\"entity\" style=\"background: #bfe1d9; padding: 0.45em 0.6em; margin: 0 0.25em; line-height: 1; border-radius: 0.35em;\">\n",
       "    2008 r.\n",
       "    <span style=\"font-size: 0.8em; font-weight: bold; line-height: 1; border-radius: 0.35em; vertical-align: middle; margin-left: 0.5rem\">date</span>\n",
       "</mark>\n",
       ", kiedy \n",
       "<mark class=\"entity\" style=\"background: #ddd; padding: 0.45em 0.6em; margin: 0 0.25em; line-height: 1; border-radius: 0.35em;\">\n",
       "    Bear Stearns\n",
       "    <span style=\"font-size: 0.8em; font-weight: bold; line-height: 1; border-radius: 0.35em; vertical-align: middle; margin-left: 0.5rem\">persName</span>\n",
       "</mark>\n",
       " zaczął upadek w \n",
       "<mark class=\"entity\" style=\"background: #bfe1d9; padding: 0.45em 0.6em; margin: 0 0.25em; line-height: 1; border-radius: 0.35em;\">\n",
       "    marcu\n",
       "    <span style=\"font-size: 0.8em; font-weight: bold; line-height: 1; border-radius: 0.35em; vertical-align: middle; margin-left: 0.5rem\">date</span>\n",
       "</mark>\n",
       ".</div></span>"
      ],
      "text/plain": [
       "<IPython.core.display.HTML object>"
      ]
     },
     "metadata": {},
     "output_type": "display_data"
    },
    {
     "name": "stdout",
     "output_type": "stream",
     "text": [
      "\n",
      "\n"
     ]
    },
    {
     "data": {
      "text/html": [
       "<span class=\"tex2jax_ignore\"><div class=\"entities\" style=\"line-height: 2.5; direction: ltr\">\n",
       "<mark class=\"entity\" style=\"background: #ddd; padding: 0.45em 0.6em; margin: 0 0.25em; line-height: 1; border-radius: 0.35em;\">\n",
       "    Lien Tục\n",
       "    <span style=\"font-size: 0.8em; font-weight: bold; line-height: 1; border-radius: 0.35em; vertical-align: middle; margin-left: 0.5rem\">persName</span>\n",
       "</mark>\n",
       " đến \n",
       "<mark class=\"entity\" style=\"background: #ddd; padding: 0.45em 0.6em; margin: 0 0.25em; line-height: 1; border-radius: 0.35em;\">\n",
       "    MUC Jimmy\n",
       "    <span style=\"font-size: 0.8em; font-weight: bold; line-height: 1; border-radius: 0.35em; vertical-align: middle; margin-left: 0.5rem\">persName</span>\n",
       "</mark>\n",
       " không Còn 1 xu \n",
       "<mark class=\"entity\" style=\"background: #ddd; padding: 0.45em 0.6em; margin: 0 0.25em; line-height: 1; border-radius: 0.35em;\">\n",
       "    Dinh Túi\n",
       "    <span style=\"font-size: 0.8em; font-weight: bold; line-height: 1; border-radius: 0.35em; vertical-align: middle; margin-left: 0.5rem\">persName</span>\n",
       "</mark>\n",
       " nhưng Bù Li n Mn M Cá nhan \n",
       "<mark class=\"entity\" style=\"background: #ddd; padding: 0.45em 0.6em; margin: 0 0.25em; line-height: 1; border-radius: 0.35em;\">\n",
       "    Jimmy và\n",
       "    <span style=\"font-size: 0.8em; font-weight: bold; line-height: 1; border-radius: 0.35em; vertical-align: middle; margin-left: 0.5rem\">persName</span>\n",
       "</mark>\n",
       " \n",
       "<mark class=\"entity\" style=\"background: #ddd; padding: 0.45em 0.6em; margin: 0 0.25em; line-height: 1; border-radius: 0.35em;\">\n",
       "    Jimmy Grupa phục vụ\n",
       "    <span style=\"font-size: 0.8em; font-weight: bold; line-height: 1; border-radius: 0.35em; vertical-align: middle; margin-left: 0.5rem\">orgName</span>\n",
       "</mark>\n",
       " Cung đồng Trước khi phục vụ cho bản niż \n",
       "<mark class=\"entity\" style=\"background: #ddd; padding: 0.45em 0.6em; margin: 0 0.25em; line-height: 1; border-radius: 0.35em;\">\n",
       "    Minh\n",
       "    <span style=\"font-size: 0.8em; font-weight: bold; line-height: 1; border-radius: 0.35em; vertical-align: middle; margin-left: 0.5rem\">placeName</span>\n",
       "</mark>\n",
       " =&gt; Có Czw xem là Hanh động</div></span>"
      ],
      "text/plain": [
       "<IPython.core.display.HTML object>"
      ]
     },
     "metadata": {},
     "output_type": "display_data"
    },
    {
     "name": "stdout",
     "output_type": "stream",
     "text": [
      "\n",
      "\n"
     ]
    },
    {
     "data": {
      "text/html": [
       "<span class=\"tex2jax_ignore\"><div class=\"entities\" style=\"line-height: 2.5; direction: ltr\">Cá nhân \n",
       "<mark class=\"entity\" style=\"background: #ddd; padding: 0.45em 0.6em; margin: 0 0.25em; line-height: 1; border-radius: 0.35em;\">\n",
       "    Tri an i\n",
       "    <span style=\"font-size: 0.8em; font-weight: bold; line-height: 1; border-radius: 0.35em; vertical-align: middle; margin-left: 0.5rem\">geogName</span>\n",
       "</mark>\n",
       " \n",
       "<mark class=\"entity\" style=\"background: #ddd; padding: 0.45em 0.6em; margin: 0 0.25em; line-height: 1; border-radius: 0.35em;\">\n",
       "    Jim\n",
       "    <span style=\"font-size: 0.8em; font-weight: bold; line-height: 1; border-radius: 0.35em; vertical-align: middle; margin-left: 0.5rem\">persName</span>\n",
       "</mark>\n",
       " - trong khi \n",
       "<mark class=\"entity\" style=\"background: #ddd; padding: 0.45em 0.6em; margin: 0 0.25em; line-height: 1; border-radius: 0.35em;\">\n",
       "    Jimmy\n",
       "    <span style=\"font-size: 0.8em; font-weight: bold; line-height: 1; border-radius: 0.35em; vertical-align: middle; margin-left: 0.5rem\">persName</span>\n",
       "</mark>\n",
       " ko giúp anh Hưng chiến thắng được =</div></span>"
      ],
      "text/plain": [
       "<IPython.core.display.HTML object>"
      ]
     },
     "metadata": {},
     "output_type": "display_data"
    },
    {
     "name": "stdout",
     "output_type": "stream",
     "text": [
      "\n",
      "\n"
     ]
    },
    {
     "data": {
      "text/html": [
       "<span class=\"tex2jax_ignore\"><div class=\"entities\" style=\"line-height: 2.5; direction: ltr\">Cam kết \n",
       "<mark class=\"entity\" style=\"background: #ddd; padding: 0.45em 0.6em; margin: 0 0.25em; line-height: 1; border-radius: 0.35em;\">\n",
       "    Cua Jimmy\n",
       "    <span style=\"font-size: 0.8em; font-weight: bold; line-height: 1; border-radius: 0.35em; vertical-align: middle; margin-left: 0.5rem\">persName</span>\n",
       "</mark>\n",
       " và các thành \n",
       "<mark class=\"entity\" style=\"background: #ddd; padding: 0.45em 0.6em; margin: 0 0.25em; line-height: 1; border-radius: 0.35em;\">\n",
       "    Viên Cua Jimmy Group là luđồn n Đầu tư Tai\n",
       "    <span style=\"font-size: 0.8em; font-weight: bold; line-height: 1; border-radius: 0.35em; vertical-align: middle; margin-left: 0.5rem\">orgName</span>\n",
       "</mark>\n",
       " chinh, không bao giờ phục vụ cho những đơn vị làm ăn gian dui nhằm lùa Nhà đầu tư vào các piosenka CO Bạc để t Tiền mua C!</div></span>"
      ],
      "text/plain": [
       "<IPython.core.display.HTML object>"
      ]
     },
     "metadata": {},
     "output_type": "display_data"
    },
    {
     "name": "stdout",
     "output_type": "stream",
     "text": [
      "\n",
      "\n"
     ]
    },
    {
     "data": {
      "text/html": [
       "<span class=\"tex2jax_ignore\"><div class=\"entities\" style=\"line-height: 2.5; direction: ltr\">01 i chociaż nie żałuję, że kupiłem, przypuszczam, że żałuję, że kupiłem za \n",
       "<mark class=\"entity\" style=\"background: #bfe1d9; padding: 0.45em 0.6em; margin: 0 0.25em; line-height: 1; border-radius: 0.35em;\">\n",
       "    38.\n",
       "    <span style=\"font-size: 0.8em; font-weight: bold; line-height: 1; border-radius: 0.35em; vertical-align: middle; margin-left: 0.5rem\">date</span>\n",
       "</mark>\n",
       "\n",
       "<mark class=\"entity\" style=\"background: #bfe1d9; padding: 0.45em 0.6em; margin: 0 0.25em; line-height: 1; border-radius: 0.35em;\">\n",
       "    01\n",
       "    <span style=\"font-size: 0.8em; font-weight: bold; line-height: 1; border-radius: 0.35em; vertical-align: middle; margin-left: 0.5rem\">time</span>\n",
       "</mark>\n",
       ", kiedy mogłem dostać się w latach 20-tych.</div></span>"
      ],
      "text/plain": [
       "<IPython.core.display.HTML object>"
      ]
     },
     "metadata": {},
     "output_type": "display_data"
    },
    {
     "name": "stdout",
     "output_type": "stream",
     "text": [
      "\n",
      "\n"
     ]
    }
   ],
   "source": [
    "from spacy import displacy\n",
    "\n",
    "for text, ners in multi_ner_text:\n",
    "    doc = nlp(text)\n",
    "    displacy.render(doc, style=\"ent\", jupyter=True)\n",
    "    print(\"\\n\")\n"
   ]
  },
  {
   "cell_type": "markdown",
   "id": "53be3b07-b7ed-4b13-b2e5-ddf848d3d543",
   "metadata": {},
   "source": [
    "## Wnioski i odpowiedzi na pytania\n",
    "\n",
    "Lepiej działa metoda rozpoznawania NER z wykorzystaniem Spacy – ekstrakcja takich wyrazów tylko na podstawie dużych liter ma wiele wad. Oprócz wyrazów, które mogą być traktowane jako pewien rodzaj NER (np. USA, Roth, Kalifornia, Google), metoda opierająca się na dużych literach znajduje również słowa, które encjami na pewno nie są – np. słowa, które w listach i mailach grzecznościowo piszemy z wielkiej litery (np. Ciebie, Twój Twoich), skróty (IT, ETF), czy nawet pojedyncze litery (B, A, K). Niektóre encje są rozdzielone (np. Stany i Zjednoczone, Wielki i Brytania). Dodatkowo nie uwzględniamy encji, które mogą znaleźć się na początku zdania.\n",
    "\n",
    "Metoda oparta na NER działa zdecydowanie lepie i eliminuje wymienione wcześniej wady – „Stany Zjednoczone” traktowane jako całość, brak zwrotów grzecznościowych. Dodatkowo przypisuje również do każdego zwrotu odpowiednie kategorie. Za wady można uznać pewną niedokładność (np. „65” rozpoznawane jako czas) oraz ograniczoną ilość kategorii (dla języka polskiego 6). Dodatkowo Spacy nie jest w stanie połączyć sformułowań o takim samym znaczeniu (np. USA i Stany Zjednoczone).\n",
    "Na podstawie najczęstszych dopasowani najlepiej wypadającymi kategoriami są `placeName`, `date` `orgName`. Zazwyczaj poprawnie dopasowywane są również kategorie `geogName`, `persName`, choć zdarzają się pojedyncze pomyłki („Reddit” jako nazwa geograficzna, czy „Wal – Mart” jako osoba). Zdecydowanie najgorzej Spacy radzi sobie z dopasowywaniem czasu (`time`), gdzie wyłapuje pojedyncze cyfry (np. „65” czy słowa „godzina”).\n",
    "\n",
    "Do rozpoznawania wyrażeń o takim samym znaczeniu wykorzystać można byłoby rozbudowany słownik synonimów (stworzony w podobny sposób jak dla ElasticSearch). Z takim zagadnieniem mógłby sobie również dobrze poradzić model językowy, który posiadałby szerszą wiedzę o świecie.\n",
    "\n",
    "Zagadnieniem, w którym NER mógłby być cennym udogodnieniem, jest na pewno przeglądanie dokumentów historycznych. Dzięki NER możliwe byłoby np. łatwe znalezienie w nich dat, miejscowości i nazwisk, co mogłoby pomóc np. w śledzeniu tras przemarszu wojsk. Dodatkowo dzięki zastosowaniu NER w innych językach możliwe byłoby dość łatwe określenie przydatności dokumentów w określonych badaniah (np. wykorzystując NER w do języka rosyjskiego sprawdzamy, czy w danym tekście po rosyjsku występują interesujące nas osoby czy miejsca, a jeśli takie znajdziemy zajmujemy się tłumaczeniem).\n"
   ]
  },
  {
   "cell_type": "code",
   "execution_count": 79,
   "id": "9486cb0b-420e-4f9a-9a40-bbd0e87c062c",
   "metadata": {},
   "outputs": [
    {
     "data": {
      "text/html": [
       "<span class=\"tex2jax_ignore\"><div class=\"entities\" style=\"line-height: 2.5; direction: ltr\">\n",
       "<mark class=\"entity\" style=\"background: #ddd; padding: 0.45em 0.6em; margin: 0 0.25em; line-height: 1; border-radius: 0.35em;\">\n",
       "    W.\n",
       "    <span style=\"font-size: 0.8em; font-weight: bold; line-height: 1; border-radius: 0.35em; vertical-align: middle; margin-left: 0.5rem\">persName</span>\n",
       "</mark>\n",
       " \n",
       "<mark class=\"entity\" style=\"background: #ddd; padding: 0.45em 0.6em; margin: 0 0.25em; line-height: 1; border-radius: 0.35em;\">\n",
       "    Milodanowicz\n",
       "    <span style=\"font-size: 0.8em; font-weight: bold; line-height: 1; border-radius: 0.35em; vertical-align: middle; margin-left: 0.5rem\">persName</span>\n",
       "</mark>\n",
       " podaje: \n",
       "<mark class=\"entity\" style=\"background: #bfe1d9; padding: 0.45em 0.6em; margin: 0 0.25em; line-height: 1; border-radius: 0.35em;\">\n",
       "    25 listopada 1914 roku\n",
       "    <span style=\"font-size: 0.8em; font-weight: bold; line-height: 1; border-radius: 0.35em; vertical-align: middle; margin-left: 0.5rem\">date</span>\n",
       "</mark>\n",
       " 127. \n",
       "<mark class=\"entity\" style=\"background: #ddd; padding: 0.45em 0.6em; margin: 0 0.25em; line-height: 1; border-radius: 0.35em;\">\n",
       "    Pułk Piechoty Putywelskiej\n",
       "    <span style=\"font-size: 0.8em; font-weight: bold; line-height: 1; border-radius: 0.35em; vertical-align: middle; margin-left: 0.5rem\">orgName</span>\n",
       "</mark>\n",
       "                 wraz z 2. dywizjonem (bez 6. baterii) 32. \n",
       "<mark class=\"entity\" style=\"background: #ddd; padding: 0.45em 0.6em; margin: 0 0.25em; line-height: 1; border-radius: 0.35em;\">\n",
       "    Brygady Artylerii\n",
       "    <span style=\"font-size: 0.8em; font-weight: bold; line-height: 1; border-radius: 0.35em; vertical-align: middle; margin-left: 0.5rem\">orgName</span>\n",
       "</mark>\n",
       " poruszał się główną szosą \n",
       "<mark class=\"entity\" style=\"background: #ddd; padding: 0.45em 0.6em; margin: 0 0.25em; line-height: 1; border-radius: 0.35em;\">\n",
       "    Tarnów\n",
       "    <span style=\"font-size: 0.8em; font-weight: bold; line-height: 1; border-radius: 0.35em; vertical-align: middle; margin-left: 0.5rem\">placeName</span>\n",
       "</mark>\n",
       " - \n",
       "<mark class=\"entity\" style=\"background: #ddd; padding: 0.45em 0.6em; margin: 0 0.25em; line-height: 1; border-radius: 0.35em;\">\n",
       "    Kraków\n",
       "    <span style=\"font-size: 0.8em; font-weight: bold; line-height: 1; border-radius: 0.35em; vertical-align: middle; margin-left: 0.5rem\">placeName</span>\n",
       "</mark>\n",
       ".                 Dzień był słoneczny. Na południe od \n",
       "<mark class=\"entity\" style=\"background: #ddd; padding: 0.45em 0.6em; margin: 0 0.25em; line-height: 1; border-radius: 0.35em;\">\n",
       "    Bochni\n",
       "    <span style=\"font-size: 0.8em; font-weight: bold; line-height: 1; border-radius: 0.35em; vertical-align: middle; margin-left: 0.5rem\">placeName</span>\n",
       "</mark>\n",
       " wyraźnie widoczne były wzgórza, stanowiące oczywistą pozycję przeciwnika.                 Z tych wzgórz nasza kolumna była, rzecz jasna, widoczna jak na dłoni,                 co wywoływało nieprzyjemne uczucie możliwości znalezienia się pod ogniem w marszu.                 Niemniej jednak, całkiem pomyślnie minęliśmy wieś \n",
       "<mark class=\"entity\" style=\"background: #ddd; padding: 0.45em 0.6em; margin: 0 0.25em; line-height: 1; border-radius: 0.35em;\">\n",
       "    Rzezawa\n",
       "    <span style=\"font-size: 0.8em; font-weight: bold; line-height: 1; border-radius: 0.35em; vertical-align: middle; margin-left: 0.5rem\">placeName</span>\n",
       "</mark>\n",
       " i zrównaliśmy się z miejscowością \n",
       "<mark class=\"entity\" style=\"background: #ddd; padding: 0.45em 0.6em; margin: 0 0.25em; line-height: 1; border-radius: 0.35em;\">\n",
       "    Krzeszów\n",
       "    <span style=\"font-size: 0.8em; font-weight: bold; line-height: 1; border-radius: 0.35em; vertical-align: middle; margin-left: 0.5rem\">placeName</span>\n",
       "</mark>\n",
       ".                 Dowódca pułku, pułkownik \n",
       "<mark class=\"entity\" style=\"background: #ddd; padding: 0.45em 0.6em; margin: 0 0.25em; line-height: 1; border-radius: 0.35em;\">\n",
       "    Chrosticki\n",
       "    <span style=\"font-size: 0.8em; font-weight: bold; line-height: 1; border-radius: 0.35em; vertical-align: middle; margin-left: 0.5rem\">persName</span>\n",
       "</mark>\n",
       ", zażądał, abyśmy podjechali bliżej do przeciwnika.</div></span>"
      ],
      "text/plain": [
       "<IPython.core.display.HTML object>"
      ]
     },
     "metadata": {},
     "output_type": "display_data"
    }
   ],
   "source": [
    "archive_text = \"W. Milodanowicz podaje: 25 listopada 1914 roku 127. Pułk Piechoty Putywelskiej \\\n",
    "                wraz z 2. dywizjonem (bez 6. baterii) 32. Brygady Artylerii poruszał się główną szosą Tarnów - Kraków. \\\n",
    "                Dzień był słoneczny. Na południe od Bochni wyraźnie widoczne były wzgórza, stanowiące oczywistą pozycję przeciwnika. \\\n",
    "                Z tych wzgórz nasza kolumna była, rzecz jasna, widoczna jak na dłoni, \\\n",
    "                co wywoływało nieprzyjemne uczucie możliwości znalezienia się pod ogniem w marszu. \\\n",
    "                Niemniej jednak, całkiem pomyślnie minęliśmy wieś Rzezawa i zrównaliśmy się z miejscowością Krzeszów. \\\n",
    "                Dowódca pułku, pułkownik Chrosticki, zażądał, abyśmy podjechali bliżej do przeciwnika.\"\n",
    "\n",
    "doc = nlp(archive_text)\n",
    "displacy.render(doc, style=\"ent\", jupyter=True)"
   ]
  },
  {
   "cell_type": "code",
   "execution_count": null,
   "id": "bb810875-6162-4e6f-a8f8-2623f6442828",
   "metadata": {},
   "outputs": [],
   "source": []
  }
 ],
 "metadata": {
  "kernelspec": {
   "display_name": "Python 3 (ipykernel)",
   "language": "python",
   "name": "python3"
  },
  "language_info": {
   "codemirror_mode": {
    "name": "ipython",
    "version": 3
   },
   "file_extension": ".py",
   "mimetype": "text/x-python",
   "name": "python",
   "nbconvert_exporter": "python",
   "pygments_lexer": "ipython3",
   "version": "3.10.12"
  }
 },
 "nbformat": 4,
 "nbformat_minor": 5
}
