{
 "cells": [
  {
   "cell_type": "markdown",
   "id": "f516a2a1",
   "metadata": {},
   "source": [
    "## Regex for date and time"
   ]
  },
  {
   "cell_type": "code",
   "execution_count": 2,
   "id": "99f80c6b",
   "metadata": {},
   "outputs": [],
   "source": [
    "from datasets import load_dataset\n",
    "\n",
    "ds = load_dataset(\"clarin-knext/fiqa-pl\", \"corpus\")"
   ]
  },
  {
   "cell_type": "code",
   "execution_count": 1,
   "id": "db0ed8fd",
   "metadata": {},
   "outputs": [],
   "source": [
    "import regex\n",
    "import re"
   ]
  },
  {
   "cell_type": "code",
   "execution_count": 4,
   "id": "1673cf3d",
   "metadata": {},
   "outputs": [
    {
     "data": {
      "text/plain": [
       "['Nie mówię, że nie podoba mi się też pomysł szkolenia w miejscu pracy, ale nie możesz oczekiwać, że firma to zrobi. Szkolenie pracowników to nie ich praca – oni tworzą oprogramowanie. Być może systemy edukacyjne w Stanach Zjednoczonych (lub ich studenci) powinny trochę martwić się o zdobycie umiejętności rynkowych w zamian za ich ogromne inwestycje w edukację, zamiast wychodzić z tysiącami zadłużonych studentów i narzekać, że nie są do niczego wykwalifikowani.',\n",
       " 'Tak więc nic nie zapobiega fałszywym ocenom poza dodatkową kontrolą ze strony rynku/inwestorów, ale istnieją pewne nowsze kontrole, które uniemożliwiają instytucjom korzystanie z nich. W ramach DFA banki nie mogą już polegać wyłącznie na ratingach kredytowych jako należytej staranności przy zakupie instrumentu finansowego, więc to jest plus. Intencją jest to, że jeśli instytucje finansowe wykonują swoją własną pracę, to *być może* dojdą do wniosku, że określony CDO jest śmieciem, czy nie. Edycja: wprowadzenie',\n",
       " 'Nigdy nie możesz korzystać z FSA dla indywidualnych składek na ubezpieczenie zdrowotne. Co więcej, sponsorzy planu FSA mogą ograniczyć to, co chcą zwrócić. Chociaż nie możesz użyć FSA zdrowia do składek, wcześniej można było użyć planu kafeteryjnego 125 do opłacania składek, ale musiały to być oddzielne wybory od FSA zdrowia. Jednak zgodnie z N. 2013-54 nawet korzystanie z planu kafeteryjnego do opłacania indywidualnych składek jest skutecznie zabronione.',\n",
       " 'Samsung stworzył LCD i inne technologie płaskiego ekranu, takie jak OLED. kilka lat temu każdy płaski ekran pochodził z fabryk Samsunga i był wymieniany. Myślę, że ekran 21 Hanns, na który teraz patrzę, to Samsung i ma zaledwie kilka lat. Samsung wydaje się być dobrą firmą.']"
      ]
     },
     "execution_count": 4,
     "metadata": {},
     "output_type": "execute_result"
    }
   ],
   "source": [
    "ds['corpus']['text'][:4]"
   ]
  },
  {
   "cell_type": "code",
   "execution_count": 5,
   "id": "3918e05e",
   "metadata": {},
   "outputs": [
    {
     "data": {
      "text/plain": [
       "57638"
      ]
     },
     "execution_count": 5,
     "metadata": {},
     "output_type": "execute_result"
    }
   ],
   "source": [
    "len(ds['corpus']['text'])"
   ]
  },
  {
   "cell_type": "code",
   "execution_count": 149,
   "id": "d3311a20",
   "metadata": {},
   "outputs": [
    {
     "name": "stdout",
     "output_type": "stream",
     "text": [
      "6  []  ['1 czerw', '1 sierp', '1 sierp']\n",
      "49  ['17:57', '17:57']  []\n",
      "75  []  ['2 kwie', '30 kwie']\n",
      "105  []  ['1 grud', '1 grud']\n",
      "137  ['6:17']  []\n",
      "165  ['20:00', '17:00']  []\n",
      "178  []  ['4 maj', '2 mar', '18 lip', '23 czerw', '17 październik', '15 lut', '18 grud', '6 wrze', '16 wrze', '28 lut', '29 wrze', '4 grud', '7 mar', '11 grud', '5 październik', '18 mar', '9 stycz', '8 lip', '7 mar', '22 lip', '25 październik', '22 lip', '2 listopad', '20 październik', '16 kwie', '29 grud', '29 grud', '8 listopad', '27 maj', '29 listopad', '8 czerw', '12 wrze', '25 stycz', '8 maj', '19 stycz', '30 październik', '5 lut', '18 stycz', '25 kwie', '30 maj', '18 wrze', '11 sierp', '23 stycz', '9 maj', '17 wrze', '10 październik', '15 grud', '25 mar', '15 grud', '11 listopad', '85 grud', '1 czerw', '15 grud', '2 listopad', '27 listopad', '21 mar', '27 lip', '27 mar', '5 kwie', '22 lut', '31 sierp', '30 sierp', '26 wrze', '30 sierp', '29 stycz', '29 listopad', '21 mar', '24 kwie']\n",
      "191  ['22:00']  []\n",
      "229  []  ['29 wrze']\n",
      "264  ['12:00']  []\n",
      "442  []  ['12 sierp']\n",
      "569  []  ['6 maj']\n",
      "659  ['17:30']  []\n",
      "682  []  ['19 stycz']\n",
      "742  []  ['2 listopad', '21 listopad', '19 maj', '17 lut']\n",
      "754  []  ['15 kwie', '15 kwie']\n",
      "802  []  ['29 październik']\n",
      "858  []  ['14 październik', '20 październik']\n",
      "880  []  ['30 czerw']\n",
      "959  []  ['1 lip', '30 czerw']\n"
     ]
    }
   ],
   "source": [
    "time_regex = r'(\\b(\\d{1,2}):\\d{2}\\b)' # what with 50:50?\n",
    "time_regex = r'(\\b([012]?\\d):\\d{1,2}\\b)' # counterexample 26:0\n",
    "time_regex = r'(\\b([01]?\\d|[2][0-4]):([0-5]\\d|\\d)\\b)' \n",
    "# can be 1:1 considered as proper hour? lets assume no\n",
    "time_regex = r'(\\b([01]?\\d|[2][0-4]):[0-5]\\d\\b)'\n",
    "# is 24 proper hour? lets assume so\n",
    "\n",
    "date_regex = r'(\\d{1,2}\\s(stycz|lut|mar|kwie|maj|czerw|lip|sierp|wrze|październik|listopad|grud))' \n",
    "# what with 99 stycz or 30 lut?\n",
    "\n",
    "for i, text in enumerate(ds['corpus']['text'][:1000]):\n",
    "    if (time_match := regex.findall(time_regex, text)) or (date_match := re.findall(date_regex, text)):\n",
    "        #print(f\"{i}  {time_match}  {date_match}\")\n",
    "        print(f\"{i}  {[tm[0] for tm in time_match]}  {[dm[0] for dm in date_match]}\")\n"
   ]
  },
  {
   "cell_type": "code",
   "execution_count": 150,
   "id": "a2396b23",
   "metadata": {},
   "outputs": [
    {
     "name": "stdout",
     "output_type": "stream",
     "text": [
      "{0: 41, 1: 28, 2: 16, 3: 13, 4: 22, 5: 14, 6: 15, 7: 7, 8: 16, 9: 27, 10: 8, 11: 16, 12: 14, 13: 17, 14: 16, 15: 26, 16: 26, 17: 34, 18: 16, 19: 19, 20: 18, 21: 7, 22: 19, 23: 14, 24: 1}\n",
      "{'stycz': 215, 'lut': 82, 'mar': 119, 'kwie': 201, 'maj': 96, 'czerw': 104, 'lip': 104, 'sierp': 111, 'wrze': 122, 'październik': 101, 'listopad': 56, 'grud': 182}\n"
     ]
    }
   ],
   "source": [
    "time_dict = {i:0 for i in range(24)}\n",
    "date_dict = {month:0 for month in \"stycz|lut|mar|kwie|maj|czerw|lip|sierp|wrze|październik|listopad|grud\".split('|')}\n",
    "\n",
    "for i, text in enumerate(ds['corpus']['text']):\n",
    "    if time_match := regex.findall(time_regex, text):\n",
    "        for tm in time_match:\n",
    "            time_dict[int(tm[1])] = time_dict.get(int(tm[1]), 0) + 1\n",
    "    if date_match := re.findall(date_regex, text):\n",
    "        for dm in date_match:\n",
    "            date_dict[dm[1]] = date_dict.get(dm[1], 0) + 1\n",
    "    \n",
    "print(time_dict)\n",
    "print(date_dict)"
   ]
  },
  {
   "cell_type": "code",
   "execution_count": 151,
   "id": "dc3c2b73",
   "metadata": {},
   "outputs": [
    {
     "name": "stdout",
     "output_type": "stream",
     "text": [
      "{\n",
      "    \"0\": 41,\n",
      "    \"1\": 28,\n",
      "    \"2\": 16,\n",
      "    \"3\": 13,\n",
      "    \"4\": 22,\n",
      "    \"5\": 14,\n",
      "    \"6\": 15,\n",
      "    \"7\": 7,\n",
      "    \"8\": 16,\n",
      "    \"9\": 27,\n",
      "    \"10\": 8,\n",
      "    \"11\": 16,\n",
      "    \"12\": 14,\n",
      "    \"13\": 17,\n",
      "    \"14\": 16,\n",
      "    \"15\": 26,\n",
      "    \"16\": 26,\n",
      "    \"17\": 34,\n",
      "    \"18\": 16,\n",
      "    \"19\": 19,\n",
      "    \"20\": 18,\n",
      "    \"21\": 7,\n",
      "    \"22\": 19,\n",
      "    \"23\": 14,\n",
      "    \"24\": 1\n",
      "}\n"
     ]
    }
   ],
   "source": [
    "import json\n",
    "\n",
    "print(json.dumps(time_dict, indent=4))"
   ]
  },
  {
   "cell_type": "code",
   "execution_count": 152,
   "id": "bcdab73a",
   "metadata": {},
   "outputs": [
    {
     "name": "stdout",
     "output_type": "stream",
     "text": [
      "{\n",
      "    \"stycz\": 215,\n",
      "    \"lut\": 82,\n",
      "    \"mar\": 119,\n",
      "    \"kwie\": 201,\n",
      "    \"maj\": 96,\n",
      "    \"czerw\": 104,\n",
      "    \"lip\": 104,\n",
      "    \"sierp\": 111,\n",
      "    \"wrze\": 122,\n",
      "    \"październik\": 101,\n",
      "    \"listopad\": 56,\n",
      "    \"grud\": 182\n",
      "}\n"
     ]
    }
   ],
   "source": [
    "print(json.dumps(date_dict, indent=4, ensure_ascii=False))"
   ]
  },
  {
   "cell_type": "code",
   "execution_count": 153,
   "id": "4b79ad6a",
   "metadata": {},
   "outputs": [
    {
     "data": {
      "image/png": "[encoded data removed]",
      "text/plain": [
       "<Figure size 1400x800 with 1 Axes>"
      ]
     },
     "metadata": {},
     "output_type": "display_data"
    }
   ],
   "source": [
    "import matplotlib.pyplot as plt\n",
    "\n",
    "data = date_dict\n",
    "\n",
    "items = list(data.keys())\n",
    "counts = list(data.values())\n",
    "\n",
    "plt.figure(figsize=(14, 8))\n",
    "plt.bar(items, counts)\n",
    "plt.grid(axis='y', linestyle='--', alpha=0.7)\n",
    "\n",
    "for i, count in enumerate(counts):\n",
    "    plt.text(i, count + 3, str(count), ha='center')\n",
    "\n",
    "plt.xlabel('Month')\n",
    "plt.ylabel('Count')\n",
    "plt.title('Date regex matching by month')\n",
    "\n",
    "plt.show()"
   ]
  },
  {
   "cell_type": "code",
   "execution_count": 154,
   "id": "e144b6ca",
   "metadata": {},
   "outputs": [
    {
     "data": {
      "image/png": "[encoded data removed]",
      "text/plain": [
       "<Figure size 1400x800 with 1 Axes>"
      ]
     },
     "metadata": {},
     "output_type": "display_data"
    }
   ],
   "source": [
    "data = time_dict\n",
    "\n",
    "items = list(data.keys())\n",
    "counts = list(data.values())\n",
    "\n",
    "plt.figure(figsize=(14, 8))\n",
    "plt.bar(items, counts)\n",
    "plt.grid(axis='y', linestyle='--', alpha=0.7)\n",
    "\n",
    "for i, count in enumerate(counts):\n",
    "    plt.text(i, count + 0.5, str(count), ha='center')\n",
    "\n",
    "plt.xlabel('Hour')\n",
    "plt.ylabel('Count')\n",
    "plt.title('Time regex matching by hour')\n",
    "\n",
    "plt.show()"
   ]
  },
  {
   "cell_type": "markdown",
   "id": "ae7c529d",
   "metadata": {},
   "source": [
    "## Kwiecień matching"
   ]
  },
  {
   "cell_type": "code",
   "execution_count": 157,
   "id": "4c9bd504",
   "metadata": {},
   "outputs": [],
   "source": [
    "april_regex = r'kwie(cień|tni(a|e|u|o|ó|\\b))'\n",
    "april_regex_with_num = r'(?<=\\d\\s)(kwie(cień|tni(a|e|u|o|ó|\\b)))'\n",
    "april_regex_wo_num = r'(?<!\\d\\s)(kwie(cień|tni(a|e|u|o|ó|\\b)))'\n",
    "\n",
    "april_matches = 0\n",
    "april_with_num = 0\n",
    "april_wo_num = 0\n",
    "\n",
    "for i, text in enumerate(ds['corpus']['text']):\n",
    "    april_matches += len(regex.findall(april_regex, text))\n",
    "    april_with_num += len(regex.findall(april_regex_with_num, text))\n",
    "    april_wo_num += len(regex.findall(april_regex_wo_num, text))\n",
    "    "
   ]
  },
  {
   "cell_type": "code",
   "execution_count": 166,
   "id": "761e668d",
   "metadata": {},
   "outputs": [
    {
     "name": "stdout",
     "output_type": "stream",
     "text": [
      "april_matches = 359\n",
      "april_with_num = 201\n",
      "april_wo_num = 158\n",
      "\n",
      "201 + 158 = 359\n"
     ]
    }
   ],
   "source": [
    "print(f'{april_matches = }\\n{april_with_num = }\\n{april_wo_num = }')\n",
    "assert(april_with_num + april_wo_num == april_matches)\n",
    "print(f'\\n{april_with_num} + {april_wo_num} = {april_matches}')"
   ]
  },
  {
   "cell_type": "markdown",
   "id": "1d65cb4b",
   "metadata": {},
   "source": [
    "## Play with LLM"
   ]
  },
  {
   "cell_type": "markdown",
   "id": "e6f88294",
   "metadata": {},
   "source": [
    "### [Google Gemini](https://gemini.google.com/app)"
   ]
  },
  {
   "cell_type": "markdown",
   "id": "97376793",
   "metadata": {},
   "source": [
    "prompt:\n",
    "```\n",
    "Devise two regular expressions:\n",
    "- extracting times, e.g. recognizing 20:30 as an instance of a time.\n",
    "- extracting dates, e.g. recognizing 20 września as an instance of a date.\n",
    "```"
   ]
  },
  {
   "cell_type": "code",
   "execution_count": 167,
   "id": "2872037e",
   "metadata": {},
   "outputs": [],
   "source": [
    "time_regex_by_gemini = r'(0[0-9]|1[0-9]|2[0-3]):[0-5][0-9]'\n",
    "# ok but can be simplified, \\d vs [0-9]\n",
    "date_regex_by_gemini = r'([1-9]|1[0-9]|2[0-9]|3[0-1])\\s(stycznia|lutego|marca|kwietnia|maja|czerwca|lipca|sierpnia|września|października|listopada|grudnia)'\n",
    "# what with different forms of month names? \n",
    "# day date more precise but still it will match '31 lutego' etc."
   ]
  },
  {
   "cell_type": "markdown",
   "id": "b916b165",
   "metadata": {},
   "source": [
    "prompt:\n",
    "```\n",
    "Create 3 regex:\n",
    "1. should match each occurrences of kwiecień word in any inflectional form\n",
    "2. as in 1, but preceded by a number and a space.\n",
    "3. as in 1 but not preceded by a number and a space.\n",
    "```"
   ]
  },
  {
   "cell_type": "code",
   "execution_count": 170,
   "id": "f3211f40",
   "metadata": {},
   "outputs": [],
   "source": [
    "april_regex_by_gemini = r'kwiecień|kwietnia|kwietniom|kwietniu|kwietnie|kwietni'\n",
    "april_regex_with_num_by_gemini = r'\\d\\skwiecień|\\d\\skwietnia|\\d\\skwietniom|\\d\\skwietniu|\\d\\skwietnie|\\d\\skwietni'\n",
    "april_regex_wo_num_by_gemini = r'^(?!\\d\\s)(kwiecień|kwietnia|kwietniom|kwietniu|kwietnie|kwietni)'\n",
    "# exactly as is forbidden"
   ]
  },
  {
   "cell_type": "markdown",
   "id": "fcef6604",
   "metadata": {},
   "source": [
    "prompt:\n",
    "```\n",
    "Same task as earlier but use a compact form for the query. \n",
    "You are not allowed to join all forms of the word by alternative.\n",
    "```"
   ]
  },
  {
   "cell_type": "code",
   "execution_count": 172,
   "id": "1e696f21",
   "metadata": {},
   "outputs": [],
   "source": [
    "april_regex_by_gemini = r'kwiecień(ia|om|u|e|ni)'\n",
    "april_regex_with_num_by_gemini = r'kwiecień(ia|om|u|e|ni)'\n",
    "april_regex_wo_num_by_gemini = r'^(?!\\d\\s)kwiecień(ia|om|u|e|ni)'\n",
    "# polish grammar is definitely not what Gemini is good at"
   ]
  },
  {
   "cell_type": "markdown",
   "id": "a5678626",
   "metadata": {},
   "source": [
    "### [Chat GPT by OpenAI (version 4o)](https://chatgpt.com/)"
   ]
  },
  {
   "cell_type": "markdown",
   "id": "8c82518d",
   "metadata": {},
   "source": [
    "prompt:\n",
    "```\n",
    "Create 3 regex:\n",
    "1. should match each occurrences of kwiecień word in any inflectional form\n",
    "2. as in 1, but preceded by a number and a space.\n",
    "3. as in 1 but not preceded by a number and a space.\n",
    "```"
   ]
  },
  {
   "cell_type": "code",
   "execution_count": 3,
   "id": "aad13d5c",
   "metadata": {},
   "outputs": [],
   "source": [
    "april_regex_by_gpt4o = r'\\bkwiec(i[eęńń]ń|tni(a|owi|em|u))\\b'  \n",
    "# 'kwiecińń', 'kwiectnia' - YES, but 'kwietnia' - NO\n",
    "april_regex_with_num_by_gpt4o = r'\\b\\d+\\s+kwiec(i[eęńń]ń|tni(a|owi|em|u))\\b'\n",
    "april_regex_wo_num_by_gpt4o = r'(?<!\\b\\d+\\s)kwiec(i[eęńń]ń|tni(a|owi|em|u))\\b'\n",
    "# ChatGPT did his job a little better than Gemini, but just a very little. "
   ]
  },
  {
   "cell_type": "code",
   "execution_count": 6,
   "id": "d6470a36",
   "metadata": {},
   "outputs": [
    {
     "name": "stdout",
     "output_type": "stream",
     "text": [
      "april_matches = 14\n",
      "april_with_num = 0\n",
      "april_wo_num = 14\n",
      "\n",
      "0 + 14 = 14\n"
     ]
    }
   ],
   "source": [
    "april_matches = 0\n",
    "april_with_num = 0\n",
    "april_wo_num = 0\n",
    "\n",
    "for i, text in enumerate(ds['corpus']['text']):\n",
    "    april_matches += len(regex.findall(april_regex_by_gpt4o, text))\n",
    "    april_with_num += len(regex.findall(april_regex_with_num_by_gpt4o, text))\n",
    "    april_wo_num += len(regex.findall(april_regex_wo_num_by_gpt4o, text))\n",
    "    \n",
    "print(f'{april_matches = }\\n{april_with_num = }\\n{april_wo_num = }')\n",
    "assert(april_with_num + april_wo_num == april_matches)\n",
    "print(f'\\n{april_with_num} + {april_wo_num} = {april_matches}')\n",
    "    "
   ]
  },
  {
   "cell_type": "markdown",
   "id": "513f47d4",
   "metadata": {},
   "source": [
    "## Wnioski\n",
    "- regex nie są zbyt dobry w dopasowywaniu dat - tylko uwzględnianie miesięcy wpisanych w słownie wymaga skonstruowania dość długiego wyrażenia regularnego, a chcąc dodać do tego zapis miesięcy cyframi (arabskimi lub rzymskimi) dochodzą dodatkowe komplikacje. Do tego daty w zależności od kraju są zapisywane inaczej (kolejność miesiąca i dnia w dacie). Dopuszczone są też zróżnicowane separatory.\n",
    "- znacznie lepiej regex sprawdzają się w dopasowywaniu godzin. Godziny posiadają ustandaryzowany format, do którego regex może się stosunkowo łatwo dopasować.\n",
    "- Dobrze napisany regex powinien bezbłędnie dopasowywać się do wszystkich wyrażeń i można mieć pewność, że będzie działał dobrze, W przypadku bardziej skomplikowanych wyrażeń łatwo jednak o przeoczenia. Nietrudno dopuścić do sytuacji, w której nie uwzględnimy jakiegoś przypadku i regex nie będzie znajdował wszystkich dopasowań, lub wręcz przeciwnie, będzie dopasowywał się do rzeczy, które nie są pożądane - aby zminimalizować ryzyko niepożądanych dopasowań trzeba tworzyć jak najbardziej szczegółowe wyrażenia regularne, np. dodając znaki granicy słowa itd.\n",
    "- Gemini nie radzi sobie zbyt dobrze z odmianą czasowników po polsku i nie jest w stanie stworzyć odpowiedniego regexu. Chat GPT w wersji 4o poradził sobie odrobinę lepiej, ale wyniki wciąż pozostają dalekie od oczekiwań. Żaden z nich nie uwzględnia w swoich odpowiedziach odmiany 'kwietnia' w liczbie mnogiej (chociaż w przypadku nazwy miesiąca zastosowanie takiej formy jest raczej marginalne)"
   ]
  },
  {
   "cell_type": "code",
   "execution_count": null,
   "id": "19cb7294",
   "metadata": {},
   "outputs": [],
   "source": []
  }
 ],
 "metadata": {
  "kernelspec": {
   "display_name": "tf",
   "language": "python",
   "name": "tf"
  },
  "language_info": {
   "codemirror_mode": {
    "name": "ipython",
    "version": 3
   },
   "file_extension": ".py",
   "mimetype": "text/x-python",
   "name": "python",
   "nbconvert_exporter": "python",
   "pygments_lexer": "ipython3",
   "version": "3.9.16"
  }
 },
 "nbformat": 4,
 "nbformat_minor": 5
}
