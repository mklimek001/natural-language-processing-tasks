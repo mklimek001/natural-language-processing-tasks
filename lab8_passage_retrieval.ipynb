{
 "cells": [
  {
   "cell_type": "code",
   "execution_count": 2,
   "id": "7a33c01c-2e5a-4c46-8af5-d53fa85532d9",
   "metadata": {},
   "outputs": [],
   "source": [
    "from haystack.document_stores import FAISSDocumentStore, InMemoryDocumentStore\n",
    "from haystack.nodes import EmbeddingRetriever\n",
    "from haystack.pipelines import DocumentSearchPipeline"
   ]
  },
  {
   "cell_type": "code",
   "execution_count": null,
   "id": "a0c1cda2-87d2-4311-89eb-aaf8987a63c9",
   "metadata": {},
   "outputs": [],
   "source": [
    "# to make all haystack code works Python 3.10 was used \n",
    "# (there was some errors with faiss installation with Python 3.12)\n",
    "# to avoid package building errors 'numpy<2' was installed"
   ]
  },
  {
   "cell_type": "code",
   "execution_count": 3,
   "id": "c40b1565-c2f5-4982-9a65-b3ee41d91dfc",
   "metadata": {},
   "outputs": [],
   "source": [
    "from datasets import load_dataset\n",
    "\n",
    "ds_qa = load_dataset(\"clarin-knext/fiqa-pl-qrels\")\n",
    "ds_corpus = load_dataset(\"clarin-knext/fiqa-pl\", \"corpus\")\n",
    "ds_queries = load_dataset(\"clarin-knext/fiqa-pl\", \"queries\")"
   ]
  },
  {
   "cell_type": "code",
   "execution_count": 4,
   "id": "12725528-d816-44eb-83c9-22d7ef3e6b45",
   "metadata": {},
   "outputs": [
    {
     "name": "stdout",
     "output_type": "stream",
     "text": [
      "DatasetDict({\n",
      "    corpus: Dataset({\n",
      "        features: ['_id', 'title', 'text'],\n",
      "        num_rows: 57638\n",
      "    })\n",
      "})\n"
     ]
    }
   ],
   "source": [
    "print(ds_corpus)"
   ]
  },
  {
   "cell_type": "code",
   "execution_count": 5,
   "id": "c2da1897-4caa-4655-ac6a-53391839c6ea",
   "metadata": {},
   "outputs": [
    {
     "data": {
      "text/plain": [
       "{'_id': ['3', '31', '56'],\n",
       " 'title': ['', '', ''],\n",
       " 'text': ['Nie mówię, że nie podoba mi się też pomysł szkolenia w miejscu pracy, ale nie możesz oczekiwać, że firma to zrobi. Szkolenie pracowników to nie ich praca – oni tworzą oprogramowanie. Być może systemy edukacyjne w Stanach Zjednoczonych (lub ich studenci) powinny trochę martwić się o zdobycie umiejętności rynkowych w zamian za ich ogromne inwestycje w edukację, zamiast wychodzić z tysiącami zadłużonych studentów i narzekać, że nie są do niczego wykwalifikowani.',\n",
       "  'Tak więc nic nie zapobiega fałszywym ocenom poza dodatkową kontrolą ze strony rynku/inwestorów, ale istnieją pewne nowsze kontrole, które uniemożliwiają instytucjom korzystanie z nich. W ramach DFA banki nie mogą już polegać wyłącznie na ratingach kredytowych jako należytej staranności przy zakupie instrumentu finansowego, więc to jest plus. Intencją jest to, że jeśli instytucje finansowe wykonują swoją własną pracę, to *być może* dojdą do wniosku, że określony CDO jest śmieciem, czy nie. Edycja: wprowadzenie',\n",
       "  'Nigdy nie możesz korzystać z FSA dla indywidualnych składek na ubezpieczenie zdrowotne. Co więcej, sponsorzy planu FSA mogą ograniczyć to, co chcą zwrócić. Chociaż nie możesz użyć FSA zdrowia do składek, wcześniej można było użyć planu kafeteryjnego 125 do opłacania składek, ale musiały to być oddzielne wybory od FSA zdrowia. Jednak zgodnie z N. 2013-54 nawet korzystanie z planu kafeteryjnego do opłacania indywidualnych składek jest skutecznie zabronione.']}"
      ]
     },
     "execution_count": 5,
     "metadata": {},
     "output_type": "execute_result"
    }
   ],
   "source": [
    "ds_corpus['corpus'][:3]"
   ]
  },
  {
   "cell_type": "code",
   "execution_count": 6,
   "id": "eb4cd23d-35d6-4c76-b60d-02461097b9d5",
   "metadata": {},
   "outputs": [
    {
     "name": "stdout",
     "output_type": "stream",
     "text": [
      "3 : Nie mówię, że nie podoba mi się też pomysł szkolenia w miejscu pracy, ale nie możesz oczekiwać, że firma to zrobi. Szkolenie pracowników to nie ich praca – oni tworzą oprogramowanie. Być może systemy edukacyjne w Stanach Zjednoczonych (lub ich studenci) powinny trochę martwić się o zdobycie umiejętności rynkowych w zamian za ich ogromne inwestycje w edukację, zamiast wychodzić z tysiącami zadłużonych studentów i narzekać, że nie są do niczego wykwalifikowani.\n",
      "31 : Tak więc nic nie zapobiega fałszywym ocenom poza dodatkową kontrolą ze strony rynku/inwestorów, ale istnieją pewne nowsze kontrole, które uniemożliwiają instytucjom korzystanie z nich. W ramach DFA banki nie mogą już polegać wyłącznie na ratingach kredytowych jako należytej staranności przy zakupie instrumentu finansowego, więc to jest plus. Intencją jest to, że jeśli instytucje finansowe wykonują swoją własną pracę, to *być może* dojdą do wniosku, że określony CDO jest śmieciem, czy nie. Edycja: wprowadzenie\n",
      "56 : Nigdy nie możesz korzystać z FSA dla indywidualnych składek na ubezpieczenie zdrowotne. Co więcej, sponsorzy planu FSA mogą ograniczyć to, co chcą zwrócić. Chociaż nie możesz użyć FSA zdrowia do składek, wcześniej można było użyć planu kafeteryjnego 125 do opłacania składek, ale musiały to być oddzielne wybory od FSA zdrowia. Jednak zgodnie z N. 2013-54 nawet korzystanie z planu kafeteryjnego do opłacania indywidualnych składek jest skutecznie zabronione.\n",
      "59 : Samsung stworzył LCD i inne technologie płaskiego ekranu, takie jak OLED. kilka lat temu każdy płaski ekran pochodził z fabryk Samsunga i był wymieniany. Myślę, że ekran 21 Hanns, na który teraz patrzę, to Samsung i ma zaledwie kilka lat. Samsung wydaje się być dobrą firmą.\n",
      "63 : Oto wymagania SEC: Federalne przepisy dotyczące papierów wartościowych definiują termin inwestora akredytowanego w zasadzie 501 Regulacji D jako: bank, firma ubezpieczeniowa, zarejestrowana firma inwestycyjna, firma zajmująca się rozwojem działalności lub firma inwestycyjna dla małych firm; program świadczeń pracowniczych w rozumieniu ustawy o zabezpieczeniach emerytalnych pracowników, jeżeli decyzje inwestycyjne podejmuje bank, towarzystwo ubezpieczeniowe lub zarejestrowany doradca inwestycyjny lub jeżeli suma aktywów programu przekracza 5 mln USD; organizacja charytatywna, korporacja lub spółka partnerska z majątkiem przekraczającym 5 milionów USD; dyrektor, dyrektor wykonawczy lub komplementariusz firmy sprzedającej papiery wartościowe; przedsiębiorstwo, w którym wszyscy właściciele akcji są akredytowanymi inwestorami; osoba fizyczna, która posiada indywidualną wartość netto lub wspólną wartość netto z małżonkiem tej osoby, która w momencie zakupu przekracza 1 milion USD, z wyłączeniem wartości głównego miejsca zamieszkania takiej osoby; osoba fizyczna z dochodem przekraczającym 200 000 USD w każdym z dwóch ostatnich lat lub łączny dochód z małżonkiem przekraczający 300 000 USD w tych latach i uzasadnione oczekiwanie takiego samego poziomu dochodów w bieżącym roku; lub fundusz powierniczy z aktywami przekraczającymi 5 milionów USD, niezałożony w celu nabycia oferowanych papierów wartościowych, którego zakupów dokonuje wyrafinowana osoba. Brak wymagań dotyczących obywatelstwa/miejsca zamieszkania.\n"
     ]
    }
   ],
   "source": [
    "n = 5\n",
    "for sample in ds_corpus['corpus']:\n",
    "    n -= 1\n",
    "    if n < 0:\n",
    "        break\n",
    "    print(f\"{sample['_id']} : {sample['text']}\")"
   ]
  },
  {
   "cell_type": "code",
   "execution_count": 7,
   "id": "bff713ce-7cef-47e8-8973-9de4fb1f5a95",
   "metadata": {},
   "outputs": [],
   "source": [
    "documents = [{\"content\": sample['text'], \"meta\": {\"_id\": sample['_id']}} for sample in ds_corpus['corpus']]"
   ]
  },
  {
   "cell_type": "code",
   "execution_count": 8,
   "id": "d4b7600f-4a4c-4e51-b896-cb721c272ede",
   "metadata": {},
   "outputs": [
    {
     "data": {
      "text/plain": [
       "[{'content': 'Nie mówię, że nie podoba mi się też pomysł szkolenia w miejscu pracy, ale nie możesz oczekiwać, że firma to zrobi. Szkolenie pracowników to nie ich praca – oni tworzą oprogramowanie. Być może systemy edukacyjne w Stanach Zjednoczonych (lub ich studenci) powinny trochę martwić się o zdobycie umiejętności rynkowych w zamian za ich ogromne inwestycje w edukację, zamiast wychodzić z tysiącami zadłużonych studentów i narzekać, że nie są do niczego wykwalifikowani.',\n",
       "  'meta': {'_id': '3'}},\n",
       " {'content': 'Tak więc nic nie zapobiega fałszywym ocenom poza dodatkową kontrolą ze strony rynku/inwestorów, ale istnieją pewne nowsze kontrole, które uniemożliwiają instytucjom korzystanie z nich. W ramach DFA banki nie mogą już polegać wyłącznie na ratingach kredytowych jako należytej staranności przy zakupie instrumentu finansowego, więc to jest plus. Intencją jest to, że jeśli instytucje finansowe wykonują swoją własną pracę, to *być może* dojdą do wniosku, że określony CDO jest śmieciem, czy nie. Edycja: wprowadzenie',\n",
       "  'meta': {'_id': '31'}},\n",
       " {'content': 'Nigdy nie możesz korzystać z FSA dla indywidualnych składek na ubezpieczenie zdrowotne. Co więcej, sponsorzy planu FSA mogą ograniczyć to, co chcą zwrócić. Chociaż nie możesz użyć FSA zdrowia do składek, wcześniej można było użyć planu kafeteryjnego 125 do opłacania składek, ale musiały to być oddzielne wybory od FSA zdrowia. Jednak zgodnie z N. 2013-54 nawet korzystanie z planu kafeteryjnego do opłacania indywidualnych składek jest skutecznie zabronione.',\n",
       "  'meta': {'_id': '56'}}]"
      ]
     },
     "execution_count": 8,
     "metadata": {},
     "output_type": "execute_result"
    }
   ],
   "source": [
    "documents[:3]"
   ]
  },
  {
   "cell_type": "code",
   "execution_count": 16,
   "id": "98b85fd7-bcbf-45dd-8934-d62bc89ead31",
   "metadata": {},
   "outputs": [],
   "source": [
    "document_store = FAISSDocumentStore(\n",
    "        faiss_index_factory_str=\"Flat\",\n",
    "        embedding_dim=768, # according to https://huggingface.co/intfloat/multilingual-e5-base\n",
    "        similarity=\"cosine\"\n",
    "    )"
   ]
  },
  {
   "cell_type": "code",
   "execution_count": 17,
   "id": "8a381ae4-40e5-46b0-bd00-3e105f0cf00d",
   "metadata": {},
   "outputs": [],
   "source": [
    "retriever = EmbeddingRetriever(\n",
    "    document_store=document_store,\n",
    "    embedding_model=\"intfloat/multilingual-e5-base\",\n",
    "    model_format=\"sentence_transformers\",\n",
    "    use_gpu=True\n",
    ")"
   ]
  },
  {
   "cell_type": "code",
   "execution_count": 18,
   "id": "334bf9b8-ecff-437b-a91d-47c495b4513c",
   "metadata": {},
   "outputs": [
    {
     "name": "stderr",
     "output_type": "stream",
     "text": [
      "Writing Documents: 60000it [00:52, 1143.19it/s]                                                                                    \n"
     ]
    }
   ],
   "source": [
    "document_store.write_documents(documents)"
   ]
  },
  {
   "cell_type": "code",
   "execution_count": null,
   "id": "72dad669-1043-4ace-8553-85db70d6bfab",
   "metadata": {},
   "outputs": [],
   "source": [
    "document_store.update_embeddings(retriever)"
   ]
  },
  {
   "cell_type": "code",
   "execution_count": 20,
   "id": "05f6c1e9-b194-4879-be9c-76db61d41cf5",
   "metadata": {},
   "outputs": [],
   "source": [
    "search_pipeline = DocumentSearchPipeline(retriever)"
   ]
  },
  {
   "cell_type": "code",
   "execution_count": 21,
   "id": "8126a2ce-2424-42fd-81d8-b115ebc847e9",
   "metadata": {},
   "outputs": [
    {
     "name": "stdout",
     "output_type": "stream",
     "text": [
      "sample_question = 'Co jest uważane za wydatek służbowy w podróży służbowej?'\n",
      "\n"
     ]
    },
    {
     "name": "stderr",
     "output_type": "stream",
     "text": [
      "Batches: 100%|███████████████████████████████████████████████████████████████████████████████████████| 1/1 [00:00<00:00, 28.77it/s]\n"
     ]
    },
    {
     "data": {
      "text/plain": [
       "{'documents': [<Document: {'content': '„To zależy od tego, jaki jest „„prawdziwy” powód wyjazdu. Jeśli zdecydujesz się odliczyć wyjazd jako wydatek służbowy, to podczas audytu zostaniesz zapytany, dlaczego musiałeś tam pojechać. Jeśli nic nie zostało osiągnięte przez podróż (tj. pracowałeś w hotelu, nie spotkałeś się z żadnymi klientami, nie odwiedzałeś żadnych targów itp.), więc wydatek raczej nie będzie dozwolony. Tak, w podróży służbowej możesz zwiedzać, jeśli chcesz (choć możesz t odliczyć wszelkie wydatki związane ze zwiedzaniem, takie jak wstęp do atrakcji turystycznej), ale jeśli pracujesz tylko na wakacjach, sama podróż nie podlega odliczeniu, ponieważ podróżowanie nie przynosiło żadnych korzyści biznesowych”.', 'content_type': 'text', 'score': 0.9389107525348663, 'meta': {'_id': '531578', 'vector_id': '22558'}, 'id_hash_keys': ['content'], 'embedding': None, 'id': '6e254abf22a5f68f736dd471f7f30120'}>,\n",
       "  <Document: {'content': 'Jedzenie prawie nigdy nie jest uzasadnionym wydatkiem. Powód jest prosty – gdybyś nie prowadził biznesu, też musiałbyś jeść. Ad 1. Nie rozumiem, dlaczego podróż w takim przypadku nie byłaby uzasadnionym wydatkiem, ponieważ jedynym powodem wyjazdu są względy biznesowe. Ad 2. Mało prawdopodobne, ponieważ istnieje dwoistość celu. Więc chociaż część może być biznesowa, czerpiesz również osobiste korzyści z wizyty (kawa / ciastka itp.), więc generalnie jest to nie. Ad 3. Nie, chociaż można żądać rozrywki pracowników (w sensownym zakresie), to nie działa przy zabawianiu klientów. Ad 4. \\u200b\\u200bJeśli jakakolwiek część podróży jest przeznaczona na wypoczynek, nie możesz tego uznać za wydatek biznesowy, przepraszam! Jeśli istnieje jakakolwiek dwoistość użycia, to nie jest to wydatek biznesowy. A jedzenie, jak zawsze, nie wchodzi w grę.', 'content_type': 'text', 'score': 0.9194448292255402, 'meta': {'_id': '216077', 'vector_id': '48350'}, 'id_hash_keys': ['content'], 'embedding': None, 'id': 'd9b427ebe10ac3549f3d67ee3e8893dd'}>,\n",
       "  <Document: {'content': 'Większość prywatnych firm nie płaci swoim pracownikom za podróże służbowe lub pierwszą klasą. Wiesz dlaczego? W większości przypadków jest to trzy do czterech razy więcej niż koszt autokaru. A każdy dolar wydany na błahe rzeczy, takie jak bilety pierwszej klasy, schodzi na dalszy plan. Urzędnicy służby cywilnej nie mają prawa być w pierwszej klasie, zero wymówek. To pieniądze podatników, które można lepiej wykorzystać gdzie indziej.', 'content_type': 'text', 'score': 0.9194363653659821, 'meta': {'_id': '565407', 'vector_id': '16750'}, 'id_hash_keys': ['content'], 'embedding': None, 'id': '55824e86ef758663ed002c89fa2a10c4'}>],\n",
       " 'root_node': 'Query',\n",
       " 'params': {'Retriever': {'top_k': 3}},\n",
       " 'query': 'Co jest uważane za wydatek służbowy w podróży służbowej?',\n",
       " 'node_id': 'Retriever'}"
      ]
     },
     "execution_count": 21,
     "metadata": {},
     "output_type": "execute_result"
    }
   ],
   "source": [
    "sample_question = ds_queries['queries'][0]['text']\n",
    "print(f\"{sample_question = }\\n\")\n",
    "\n",
    "results = search_pipeline.run(query=sample_question, params={\"Retriever\": {\"top_k\": 3}})\n",
    "results"
   ]
  },
  {
   "cell_type": "code",
   "execution_count": null,
   "id": "dbb01a49-aa8c-4ae3-9ffb-63171f3c38e0",
   "metadata": {},
   "outputs": [],
   "source": [
    "# results seems to be reasonable"
   ]
  },
  {
   "cell_type": "code",
   "execution_count": 22,
   "id": "0bbcb38a-7b22-4eff-a955-11b495fa4925",
   "metadata": {},
   "outputs": [
    {
     "data": {
      "text/plain": [
       "'531578'"
      ]
     },
     "execution_count": 22,
     "metadata": {},
     "output_type": "execute_result"
    }
   ],
   "source": [
    "results['documents'][0].meta['_id']"
   ]
  },
  {
   "cell_type": "code",
   "execution_count": 23,
   "id": "c6351694-a284-4dfb-bd11-48db0b31b96c",
   "metadata": {},
   "outputs": [
    {
     "data": {
      "text/plain": [
       "'„To zależy od tego, jaki jest „„prawdziwy” powód wyjazdu. Jeśli zdecydujesz się odliczyć wyjazd jako wydatek służbowy, to podczas audytu zostaniesz zapytany, dlaczego musiałeś tam pojechać. Jeśli nic nie zostało osiągnięte przez podróż (tj. pracowałeś w hotelu, nie spotkałeś się z żadnymi klientami, nie odwiedzałeś żadnych targów itp.), więc wydatek raczej nie będzie dozwolony. Tak, w podróży służbowej możesz zwiedzać, jeśli chcesz (choć możesz t odliczyć wszelkie wydatki związane ze zwiedzaniem, takie jak wstęp do atrakcji turystycznej), ale jeśli pracujesz tylko na wakacjach, sama podróż nie podlega odliczeniu, ponieważ podróżowanie nie przynosiło żadnych korzyści biznesowych”.'"
      ]
     },
     "execution_count": 23,
     "metadata": {},
     "output_type": "execute_result"
    }
   ],
   "source": [
    "results['documents'][0].content"
   ]
  },
  {
   "cell_type": "code",
   "execution_count": 9,
   "id": "fa557ad4-8dcc-4f52-a669-d07cf0cc8277",
   "metadata": {},
   "outputs": [],
   "source": [
    "simplified_dict = {q_id: [] for q_id in set(ds_qa[\"test\"]['query-id'])}\n",
    "simplified_query_test_only = {}\n",
    "\n",
    "for i in range(len(ds_qa[\"test\"])):\n",
    "    qa = ds_qa[\"test\"][i]\n",
    "    simplified_dict[qa[\"query-id\"]].append(qa[\"corpus-id\"])\n",
    "\n",
    "for i in range(len(ds_queries['queries'])):\n",
    "    if int(q_id := ds_queries['queries'][i]['_id']) in simplified_dict:\n",
    "        simplified_query_test_only[int(q_id)] = ds_queries['queries'][i]['text']"
   ]
  },
  {
   "cell_type": "code",
   "execution_count": 10,
   "id": "39eadf06-d042-4886-9d01-4ae699f47af0",
   "metadata": {},
   "outputs": [
    {
     "data": {
      "text/plain": [
       "['Gdzie powinienem zaparkować mój fundusz na deszczowy dzień / awaryjny?',\n",
       " 'Względy podatkowe związane ze sprzedażą rodzinie nieruchomości poniżej szacunkowej wartości?',\n",
       " 'Czy Delta może być wykorzystana do obliczenia premii opcyjnej przy określonym celu?',\n",
       " 'Podstawowa strategia handlu algorytmicznego',\n",
       " 'Co oznacza dla firmy wysoka marża operacyjna, ale niewielkie, ale dodatnie ROE?']"
      ]
     },
     "execution_count": 10,
     "metadata": {},
     "output_type": "execute_result"
    }
   ],
   "source": [
    "list(simplified_query_test_only.values())[:5]"
   ]
  },
  {
   "cell_type": "code",
   "execution_count": 36,
   "id": "ed471646-2d1d-4599-9bf0-e672f0854b51",
   "metadata": {},
   "outputs": [
    {
     "name": "stderr",
     "output_type": "stream",
     "text": [
      "Batches: 100%|███████████████████████████████████████████████████████████████████████████████████████| 1/1 [00:00<00:00, 12.62it/s]\n"
     ]
    },
    {
     "name": "stdout",
     "output_type": "stream",
     "text": [
      "\n",
      "\n",
      "Query: Gdzie powinienem zaparkować mój fundusz na deszczowy dzień / awaryjny?\n",
      "\n",
      "376148 : Obligacje niekoniecznie są bezpieczniejsze niż na giełdzie. Ostatecznie nie ma czegoś takiego jak fundusz inwestycyjny niskiego ryzyka. Chcesz czegoś, co pozwoli Ci stosunkowo szybko uzyskać pieniądze. Innymi słowy, płyty CD (ponieważ możesz wybrać określony czas na zawiązanie pieniędzy), konto rynku pieniężnego lub po prostu zwykłe stare konto oszczędnościowe. Zasadniczo chcesz dopasować inflację i mieć łatwy dostęp do pieniędzy. Wszelkie inne zwroty poza tym są sosem, ale nie przejmuj się tym zbytnio. Zobacz też: Gdzie mogę zaparkować mój fundusz na deszczowy dzień / awaryjny? Konta oszczędnościowe nie generują dużego zainteresowania. Gdzie powinienem zaparkować mój fundusz na deszczowy dzień / awaryjny? (Score: 0.9544209837913513)\n",
      "406219 : Sugerowałbym lokalną kasę kredytową lub lokalny bank dla bezpieczeństwa i płynności. Płynność jest prawdopodobnie najważniejszą kwestią dla funduszu awaryjnego. (Score: 0.9498338997364044)\n",
      "323686 : Zależy to od tego, jak szybko myślisz, że będziesz potrzebować awaryjnej gotówki: jeśli spodziewasz się, że wpadniesz w problemy, w których potrzebujesz gotówki od razu (np. żyjesz od wypłaty do wypłaty, a twój samochód często się psuje), włóż ją do czeku lub konto rynku pieniężnego. Jeśli uważasz, że nagłe wypadki nie będą wymagały natychmiastowego dostępu do gotówki (np. bezrobocie), włóż ją na konto oszczędnościowe lub CD. Jeśli na twoich kontach jest dużo pieniędzy, które nie są używane, a chcesz mieć większą siatkę bezpieczeństwa, rozważ zainwestowanie ich. Chociaż generalnie lepszym pomysłem jest spłata długów w tym momencie. Myślę, że najlepszym pomysłem jest podzielenie funduszu awaryjnego między czeki i oszczędności. Może 20% sprawdzania i 80% oszczędności. W ten sposób masz pod ręką dodatkową gotówkę, gdy jej potrzebujesz, podczas gdy większość Twoich pieniędzy rośnie w oszczędności. (Score: 0.9439123570919037)\n",
      "386305 : Dziękuję za twoją usługę. Moja pierwsza sugestia, ponieważ twój samochód jest planowany na najbliższą przyszłość, to zachować tę kwotę w oszczędnościach i po prostu zapłacić gotówką. Istnieje wiele atrakcyjnych ofert, które zachęcą Cię do sfinansowania pojazdu, ale tak naprawdę nie ma przekonującego powodu, aby to zrobić, biorąc pod uwagę oszczędności, które masz. Po drugie, zachowałbym dodatkową porcję oszczędności jako fundusz awaryjny na deszczowe dni. Ile zależy głównie od tego, z czym czujesz się komfortowo. Liczba możliwych sytuacji awaryjnych, które mogą wystąpić, jest ograniczona, a twoje wydatki są ograniczone, co jest normalne w twoim wieku. Fundusz ten może być przeznaczony na coś takiego jak podróż w nagłych wypadkach dla chorego członka rodziny, pokrycie odliczenia za wypadek samochodowy, jakiekolwiek nieprzewidziane zdarzenie, które może się wydarzyć (stąd nazwa fundusz awaryjny). To, z jakimi inwestycjami jesteś zadowolony, będzie zależeć od tolerancji ryzyka. Podczas gdy w wojsku indywidualne akcje, które są agresywne, ryzykowne inwestycje mogą nie być dobrym pomysłem ze względu na wymaganą przez nie dodatkową uwagę i nie można naprawdę pilnować portfela podczas wdrażania, ale istnieje wiele dobrych tanich lub bezkosztowych funduszy inwestycyjnych lub funduszy ETF, które można mógł się dostać. Chciałbym założyć cykliczny zakup z ustaloną kwotą w dolarach miesięcznie, dzięki czemu będziesz regularnie gromadzić każdą opcję, w którą inwestujesz, nawet jeśli zostaniesz wdrożony. Wybór funduszu lub funduszu ETF będzie zależeć od twoich celów i tolerancji ryzyka, ale możesz bardzo łatwo wybrać kilka ze względu na różnorodność. Powodzenia i jeszcze raz dziękuję za twoją usługę. (Score: 0.9436317682266235)\n",
      "400503 : Myślę, że fundusz awaryjny powinien być na bardziej płynnym koncie (takim jak regularne oszczędzanie lub rynek pieniężny), dzięki czemu możesz wypłacić pieniądze w dowolnym momencie, podczas gdy regularne oszczędzanie może być związane z długoterminowym kontem CD, obligacjami lub rachunkiem inwestycyjnym. (Score: 0.9415716528892517)\n",
      "\n",
      "\n",
      "Query: Względy podatkowe związane ze sprzedażą rodzinie nieruchomości poniżej szacunkowej wartości?\n",
      "\n",
      "565868 : Moje pytanie brzmi... jak określa się tę nową wartość? Czy odbiega od oszacowanej wartości podatkowej? Wartości rzeczoznawców podatkowych opierają się na szerokich średnich i nie są zbyt przydatne w określaniu rzeczywistej wartości domu. Najbardziej możliwą do obrony wyceną poza sprzedażą jest profesjonalna wycena, agenci nieruchomości mogą, ale nie muszą, podawać rozsądne szacunki, ale ich opinie są mniej wartościowe niż opinie profesjonalnego rzeczoznawcy. Dodatkowo, agenci mający nadzieję, że wylądujesz jako klient (nawet jeśli powiesz im, że nie próbujesz sprzedać) mogą być zmotywowani do przeszacowania. W wielu przypadkach wystarczy kilka opinii agentów, ale jeśli jest jakaś spór, lepsza będzie profesjonalna ocena. Czy przed śmiercią powinieneś poprosić niezależnego rzeczoznawcę o oszacowanie wartości nieruchomości i dołączyć tę ocenę wartości nieruchomości do testamentu lub czegoś podobnego? Rynek nieruchomości podlega zbyt dużym wahaniom, aby w większości przypadków przeprowadzenie wyceny przed śmiercią było praktycznym podejściem. Mógłbyś poczynić przygotowania tak, aby po Twojej śmierci została zaplanowana ocena. Oto dobre źródło na ten temat: Szacowanie wartości nieruchomości dziedziczonej (Score: 0.9364297986030579)\n",
      "61623 : Musisz określić jurysdykcję podatkową, kiedy zostanie wykonana następna wycena podatkowa. W niektórych przypadkach wycena jest przeprowadzana co rok, dwa lub trzy lata. W innych przypadkach odbywa się to również przy sprzedaży nieruchomości. Informacje te powinny znaleźć się na stronie powiatowego urzędu skarbowego. Będą również mieli informacje o tym, jak się odwołać. Większość jurysdykcji ma sposób sprawdzania nie tylko stawek, ale także wartości danej nieruchomości. Będziesz także zainteresowany ustaleniem, czy wartość podatkowa nieruchomości jest niższa ze względu na przepisy lokalne/stanowe, które ograniczają wzrost wartości z jednej oceny do drugiej. Sprzedaż nieruchomości może wywołać nadrabianie zaległości. Możliwe, że obniżona wartość domu została już uwzględniona w ocenie. Możliwe też, że nie. Należy pamiętać, że podatki w niektórych jurysdykcjach mogą być bardziej skomplikowane, ponieważ istnieje również składnik miasto/miasto/hrabstwo, a w niektórych miejscach również inne pozycje na rachunku podatkowym, takie jak zarządzanie wodą deszczową, szkoły, opryskiwanie szkodnikami. Te inne przedmioty mogą być oparte na wartości, powierzchni działki lub ryczałtowej kwocie. Powinieneś uzyskać lokalną opinię na temat prawdopodobieństwa skutecznego odwołania i tego, jaką korektę możesz uzyskać. W zależności od daty sprzedaży i terminu płatności podatków, możesz być zmuszony do płacenia wyższej stawki podatkowej przez pewien czas, aż do następnej ponownej oceny lub następnego okna odwoławczego. Uwaga: fakt, że jest on licytowany może oznaczać, że to, co płacisz za dom, może być nieistotne, ponieważ organy podatkowe mogły ustalić, że motywacja do szybkiej sprzedaży mogła obniżyć jego wartość. Ten rodzaj sprzedaży nie wpłynie na wartość innych domów i nie może być podstawą do ustalenia wartości innych nieruchomości. (Score: 0.9335998594760895)\n",
      "409266 : „Podobnie jak przejęcie jest mniej niż optymalne dla banków, sprzedaż podatkowa ma wady dla hrabstwa. Minimalna siła robocza potrzebna do przetworzenia przejęcia i sprzedaży, a w wielu przypadkach wartość, za którą można sprzedać nieruchomość, wynosi prawdopodobnie mniej niż należne podatki. Problem polega na tym, że jest to sprzeczne z hasłem „osobistej odpowiedzialności\", które wielu bankierów rozpowszechnia od początku kryzysu finansowego. Odejście właściciela domu od moralnej porażki jest moralną porażką. odwrócony kredyt hipoteczny, ale kiedy bank robi to samo z rachunkiem podatkowym, jest to prosta decyzja biznesowa”. (Score: 0.9318277835845947)\n",
      "59795 : Ponieważ jest to bardzo specyficzny przypadek, proszę zasięgnąć porady CA. Nie powinno Cię to dużo kosztować i ułatwiać. Sprzedaż gruntów rolnych podlega opodatkowaniu pod pewnymi warunkami i zwolniona z podatku w innych przypadkach. Sprzedaż gruntów rolnych podlega opodatkowaniu podatkiem od zysków kapitałowych. Ale istnieją pewne zwolnienia na mocy sekcji 54B, z zastrzeżeniem następujących warunków: Jeśli zostaniesz uznany za podlegający opodatkowaniu, możesz skorzystać z indeksacji, tj. ceny, za którą dostał dziadek [data, w której odziedziczył ją zgodnie z indeksacją] i zapłacić 10% na różnicy. Jeśli cena nie jest znana, możesz przyjąć określoną przez rząd stawkę. Ponieważ na koncie twojego ojca jest duży depozyt, mogą pojawić się pytania dotyczące podatków i wymagają odpowiedzi. Technicznie rzecz biorąc, nie ma obowiązku podatkowego, nawet jeśli dziadek przekaże pieniądze ojcu. Więcej szczegółów na http://www.telegraphindia.com/1130401/jsp/business/story_16733007.jsp i http://www.incometaxindia.gov.in/publications/4_compute_your_capital_gains/chapter2.asp (Score: 0.9310335218906403)\n",
      "218622 : „Kiedy dom jest sprzedawany na aukcji przejęcia, bank sprzedający zwykle nie daje gwarancji, które zapewnia zwykły sprzedawca domu. Ponadto poprzedni właściciel mógł zaniedbać nieruchomość i/lub złośliwie ją uszkodzić. Nieruchomości należące do banku są często zaniedbywane i/lub wandalizowane.Banki są zwykle zbyt krótkowzroczne, aby właściwie sprzedawać posiadane nieruchomości i nie potrafią ułatwić kupna nieruchomości.W związku z tym wyprzedaże mają zazwyczaj miejsce po znacznie niższej cenie. poniżej „uczciwej wartości rynkowej” sprzedaży między kompetentnymi gospodarstwami domowymi. Często zdarza się, że dom wart 125 000 USD (nawet na rynku w depresji) jest sprzedawany za jedyne 100 000 USD w ramach krótkiej sprzedaży lub przejęcia. Możliwe, że ta nieruchomość została sprzedana z jeszcze większym rabatem.Możliwe również, że biegły podatkowy (nieumyślnie) porównuje zniszczoną nieruchomość z dobrze utrzymanymi nieruchomościami, które mają bardzo drogie funkcje, bez pełnego dostosowania się do nieruchomości warunki i funkcje. W drugim scenariuszu właściciel nieruchomości może zwrócić się do rzeczoznawcy podatkowego o ponowne rozpatrzenie wyceny. Zazwyczaj taka prośba nazywana jest „odwołaniem”.”. (Score: 0.9307796955108643)\n",
      "\n",
      "\n",
      "Query: Czy Delta może być wykorzystana do obliczenia premii opcyjnej przy określonym celu?\n",
      "\n",
      "416286 : Tak więc nie zawsze tak jest, ale w podanym przykładzie opcja jest najprawdopodobniej w pieniądzu lub w pobliżu pieniądza, ponieważ delta wynosi prawie 1 - wskazując, że ruch instrumentu bazowego o 1 USD powoduje ruch opcji o 0,92 USD - stanie się to, gdy wygaśnięcie jest bardzo dalekie lub opcja jest w pieniądzu. W miarę zbliżania się wygaśnięcia, ruchy instrumentu bazowego stają się bardziej wyraźne w opcjach, ponieważ prawdopodobieństwo zmiany ceny akcji z obecnej pozycji jest mniejsze. Gdy prawdopodobieństwo zmiany ceny akcji spada, delta opcji na pieniądze zbliża się do 100, by ostatecznie osiągnąć 100 w momencie wygaśnięcia. Innym sposobem na określenie tego jest to, że premia na opcjach pieniężnych kurczy się w miarę zbliżania się wygaśnięcia, a wartość wewnętrzna opcji rośnie jako procent całkowitej wartości, tak że ruchy ceny akcji bazowych mają większy wpływ na cenę opcji - stąd większa delta. Ponownie, jeśli opcja jest niedostępna, tak nie jest. (Score: 0.9303389489650726)\n",
      "548688 : Cóż, tak – domyślnie przyjąłeś wiele założeń (np. że opcja wbudowana ma dłuższą dojrzałość). Ważną rzeczą do rozważenia jest to, kiedy ta opcja się opłaca; premia będzie oczywiście dostosowana. Jako konkretny przykład rozważmy opcję na akcje. Opcja zewnętrzna ma uderzenie 110, opcja wewnętrzna ma uderzenie 100 (spot = forward = 100). Wtedy wewnętrzne uderzenie opłaca się, gdy spot_T > 100, ale opcja zewnętrzna ma tam zerową wartość; ogólna opcja wypłaca się tylko wtedy, gdy spot_T > 110, redukując strukturę do opcji kupna z wykonaniem 110. (Score: 0.9302940368652344)\n",
      "482238 : Nie wymieniasz żadnych konkretnych liczb, więc odpowiem ogólnikowo. Powiedzmy, że kupuję dzisiaj opcję kupna i skracam akcje bazowe z deltą. Wartość będzie wartością opcji, którą kupiłeś, pomniejszoną o wartość akcji, której brakuje. (Twoja premia nie jest uwzględniona w wartości, ponieważ jest to koszt utopiony, ale jest odzwierciedlona w Twoim zysku/stracie) Powiedzmy, że wychodzę i dostosowuję swój portfel, więc nadal mam delta krótki w pozycji bazowej. Nadal jest to wartość twoich opcji, pomniejszona o wartość instrumentu bazowego, na którym jesteś krótki. Jakie jest moje PnL w tym okresie? Wartość końcowa Twojego portfela pomniejszona o to, co zapłaciłeś za tę wartość, a mianowicie pieniądze, które otrzymałeś, skracając instrumenty bazowe, pomniejszone o premię, jaką zapłaciłeś za opcję. (Score: 0.9265566170215607)\n",
      "196001 : Tak, masz rację. Zmiana ceny jest mniej znacząca, ponieważ instrument jest dalej od ceny instrumentu bazowego. Ponieważ delta porusza się mniej, gamma jest znacznie mniejsza. Gamma ma się do delty, tak jak przyspieszenie do prędkości. Prędkość to ruch w stosunku do X, a przyspieszenie to tempo zmian prędkości. Delta to ruch względem S, a gamma to tempo zmian delty. Delta zmienia się szybko, gdy jest w pobliżu pieniędzy, co jest innym sposobem na powiedzenie, że gamma jest wyższa. Delta to zmiana ceny opcji w stosunku do zmiany ceny akcji. Jeśli cena wykonania jest zbliżona do ceny rynkowej, szanse na wejście lub wyjście z pieniędzy mogą się zmieniać bardzo szybko - nawet wielokrotnie w tę i z powrotem. Gamma to tempo zmian delty, więc te nagłe wahania cen są z definicji gamma. Jest to do pewnego stopnia trochę przyziemne, a nawet oczywiste. Jest to jednak przydatna heurystyka do analizowania cen i ruchu, a także do skupiania uwagi analityków na różnych aspektach cenowych. Masz rację. Jeśli delta jest stała (zero „prędkości” dla zmiany ceny), to gamma wynosi zero (zero „przyspieszenia”). (Score: 0.9262247383594513)\n",
      "270345 : Hedging delta to nie to samo, co bycie neutralnym delta, to, co właśnie opisałeś, to bycie neutralnym delta. Istnieją powody, dla których sprzedawca detaliczny powinien być świadomy delty przy wyborze opcji. (Score: 0.9253021478652954)\n",
      "\n",
      "\n",
      "Query: Podstawowa strategia handlu algorytmicznego\n",
      "\n",
      "216588 : To naprawdę optymistyczny pogląd na handel algorytmiczny i ML. ML jest dobry w rozpoznawaniu wzorców i znajdowaniu nowych wzorców (znajdowaniu alfa), a nie w ocenie źródeł. Algorytmy są zaprogramowane tak, aby tylko próbować poprawić zwroty w ramach określonej tolerancji ryzyka; nie obchodzi go, czy informacje są fałszywe, czy nie. Jeśli już, to wypada ludziom (ilościom), którzy projektują te algorytmy, aby wykorzystywali fałszywe dane i cieszyli się darmowym obiadem kosztem głupich inwestorów detalicznych. (Score: 0.931566596031189)\n",
      "301849 : większość pok. Jeśli mam strategię handlu algorytmicznego, którą chcę sptball, lub pytanie o to, jak wykorzystać nieefektywność cen zwrotów netto między cenami West Texas Intermediate i Brent w oparciu o jakąś zmianę stawek wysyłki, chciałbym opublikować tutaj. Kiedy chcę nowej pracy, pójdę do r/financialcareers. (Score: 0.928094893693924)\n",
      "446629 : Handel algorytmiczny zasadniczo opiera się na fakcie, że cena będzie się wahać w niewielkich ilościach w krótkich okresach czasu, co oznacza, że ​​zmienność jest wysoka w danym przedziale czasowym. Wraz ze wzrostem ram czasowych spada wydajność handlu algorytmicznego, a właściwe strategie inwestycyjne, takie jak due diligence, przeglądy akcji i analiza techniczna, stają się bardziej wydajnymi metodami. Algorytmy stają się mniej efektywne wraz ze wzrostem ram czasowych ze względu na wygładzający efekt zmienności w czasie. Napisanie algorytmu, który mógłby przewidywać przyszłe długoterminowe ceny, byłoby niemożliwym wyczynem, ponieważ wraz ze skalowaniem ram czasowych występuje znacznie mniej wahań cen i trendów (zmienność wygładza się), a zatem nie ma żadnego punktu odniesienia dla formuł. Algorytm po prostu nie miałby sensu dla pozycji długoterminowej. Komputer nie może przewidzieć, powiedzmy, następnego kwartału, wyrzucenia prezesa, wykupu czy czegokolwiek innego, co mogłoby wpłynąć na cenę papieru wartościowego, nie mówiąc już o psychologii, która za tym wszystkim stoi. Odwrotnie, badanie fundamentów firmy tylko po to, aby bankować z dziennym wahaniem 0,25%, nie byłoby efektywne. Korzyści podatkowe czy nie, to najbardziej efektywne metody, które są preferowane dla danej skali czasowej handlu. (Score: 0.9278665482997894)\n",
      "510680 : To algorytmy ustalające ceny, które działają w amoku. Na stronie, do której się łączysz, kliknij link „2 nowe z 49 991,11 USD”, a zobaczysz, że (w momencie pisania tego tekstu) jest dwóch sprzedawców oferujących ten przedmiot za 49991,11 USD (plus wysyłka 16,37 USD) i 49999,99 USD. Oczywiście nie są to „prawdziwe” ceny, a jednak są do siebie podejrzanie zbliżone. Ten wpis na blogu szczegółowo omawia to zjawisko. Zasadniczo co najwyżej jeden z tych sprzedawców ma ten produkt w magazynie, ale aby zwiększyć ruch i sprzedaż, obaj i tak oferują go na sprzedaż. Gdyby ktoś faktycznie zamówił go od tego, kto go nie ma, musiałby go najpierw kupić - od kogoś innego oferującego go na sprzedaż... który ustala ceny w oparciu o szersze ceny rynkowe. Można powiedzieć, jak może rozwinąć się szalona spirala cen. (Score: 0.9277500510215759)\n",
      "231098 : * W latach 70-tych, 80-tych i wczesnych 90-tych byli brokerzy w prążki, którzy przyjmowali zamówienia przez telefon od ludzi, którzy chcieli kupować i sprzedawać. Mieli ogromną przewagę konkurencyjną nad resztą rynku ze względu na brak przejrzystości w księdze zamówień na rynku. Dlatego za każdym razem, gdy chciałeś handlować, dałeś się wkręcić, tzn. rynki były mniej wydajne, ponieważ koszt transakcji był wysoki. Koszt transakcji to = spread bid-ask + ile wkręcają Cię wtajemniczeni na rynku. * W latach 90-tych i wczesnych 00-tych istniały zautomatyzowane systemy transakcyjne, które pozwalały ludziom przeprowadzać transakcje bezpośrednio za pomocą komputerów, czyli Algorithmic Trading. Rynki były bardziej wydajne, ponieważ spready stały się bardziej wąskie, ponieważ więcej osób mogło wejść na rynek na tej platformie (np. [Lightspeed](http://lightspeed.com)). Zdolność wtajemniczonych w rynek do zepsucia ogólnego rynku została zmniejszona, ponieważ wyłączny dostęp do księgi zamówień rynku został ograniczony. Oczywiście niektóre operacje handlu algorytmicznego miały ogromną przewagę nad konkurencją, ponieważ miały świetne systemy i wspaniałych ludzi. Jednak nie mówiono o tym, ponieważ ci, którzy się o tym nie znają, zabijali i trzymali język za zębami. * Następnie, od połowy do późnych lat 00., miał miejsce wspólny handel algorytmiczny na bardzo szybkich systemach, czyli HFT, naturalna ewolucja handlu algorytmicznego. Teraz wtajemniczeni rynku (= ludzie z wystarczającymi zasobami, aby uruchomić kolokowane maszyny i inżynier/handlowcy do zarządzania nimi) powiększyli swoją przewagę konkurencyjną, odkrywając księgę zamówień rynku (ponieważ są w stanie zobaczyć zamówienia w ułamku sekundy i następnie postępuj zgodnie z tymi rozkazami). Jednak aby cofnąć tę naturalną wydajność na rynkach, trzeba by stworzyć pewien zestaw reguł, aby wyrównać szanse. Jak to zrobić? ** Wariant 1) Podatek od transakcji spowodowałby jedynie zmniejszenie wydajności rynków poprzez zwiększenie kosztów kupna i sprzedaży. Ogólnie rzecz zła, ponieważ zniechęca traderów (do wkładania pieniędzy w akcje), co oczywiście wspiera rynki kapitałowe. ** Opcja 2) Utwórz reguły, aby zapewnić, że każdy widzi te same informacje w tym samym czasie, a następnie zezwól każdemu na użycie dowolnej technologii, która chce działać na tych informacjach, aby wygrać najbardziej efektywne operacje handlowe. ** Opcja 3) Stwórz sztuczne środowisko, w którym nikt nie będzie miał przewagi: upewnij się, że każdy widzi te same informacje w tym samym czasie, upewnij się, że wszyscy mają tę samą technologię i upewnij się, że ludzie zarządzający systemami mają dokładnie taką samą to samo doświadczenie i inteligencja itp. Oczywiście nr 2 jest tym, jak to działa i jest to podstawa merytokratyczna, która stanowi podstawę kapitalizmu. Nie rozumiem, dlaczego ludzie mają z tym problem. (Score: 0.9264699816703796)\n",
      "\n",
      "\n",
      "Query: Co oznacza dla firmy wysoka marża operacyjna, ale niewielkie, ale dodatnie ROE?\n",
      "\n",
      "113585 : Marża operacyjna dotyczy zdolności firmy do osiągania zysku przewyższającego koszty prowadzenia firmy i generowania sprzedaży. Podczas gdy ROE to ile pieniędzy firma zarabia w stosunku do kapitału własnego. Byłbym skłonny założyć, że jeśli firma ma małe ROE, to ma też dość duży wskaźnik P/E (cena do zarobków). Byłoby to spowodowane licytacją akcji spółki w stosunku do jej zarobków i niekoniecznie musi być to coś złego. Ludzie oczekują, że wysoka marża operacyjna pomoże zwiększyć przychody w przyszłości i są gotowi zapłacić wyższą cenę teraz, gdy nadejdzie ten dzień. (Score: 0.9599681198596954)\n",
      "371515 : Marża operacyjna nie będzie się równać z ROE. Jeśli firma ma nawet niewielką marżę na dużych obrotach i ma porównywalnie niższy kapitał własny, to ROE będzie znacznie wyższe. Tylko jeden wskaźnik nie może analizować firmy. Potrzebujesz pełnego zestawu wskaźników i liczb. (Score: 0.9536909461021423)\n",
      "549181 : Zwrot z kapitału (ROE) firmy to jej dochód netto podzielony przez kapitał własny. Kapitał własny stanowi różnicę między sumą aktywów a sumą pasywów i nie jest zależny od ceny akcji. Aby mieć ROE powyżej 100%, trzeba mieć dochód większy niż kapitał własny. Może się to zdarzyć z różnych powodów, ale jednym ze sposobów na osiągnięcie wysokiego ROE jest niewielka wartość kapitału własnego (dzielnika), co może mieć miejsce, jeśli przeszłe straty spowodowały erozję kapitału firmy (pierwotnie zainwestowanych środków pieniężnych i zatrzymanych zysków). Jeśli kapitał własny stałby się niewielką wartością, dochód przez pewien okres może ją przekroczyć, a więc ROE wyniesie ponad 100%. Marża operacyjna nie jest ściśle powiązana z ROE. Chociaż dochód operacyjny jest powiązany z dochodem netto, aby obliczyć marżę, należy podzielić przez sprzedaż, która jest całkowicie niezwiązana z kapitałem własnym. Nie można więc oczekiwać związku z ROE. Marża operacyjna zależy przede wszystkim od warunków rynkowych i może być znacząco różna w różnych branżach. (Score: 0.9436016380786896)\n",
      "37032 : Małe firmy mogą mieć perspektywy rozwoju. Duże firmy mogą nie mieć tak wielu. Tak więc spójrz na ROE firm według quatile, aby określić, które firmy mają lepszy wzrost. (Score: 0.9327195584774017)\n",
      "274156 : To rodzaj sumy cen akcji, ale większe firmy są ważone bardziej. (Score: 0.9310063123703003)\n"
     ]
    }
   ],
   "source": [
    "queries = list(simplified_query_test_only.values())[:5]\n",
    "\n",
    "multi_results = search_pipeline.run_batch(queries=queries, params={\"Retriever\": {\"top_k\": 5}})\n",
    "\n",
    "for query, result in zip(queries, multi_results['documents']):\n",
    "    print(f\"\\n\\nQuery: {query}\\n\")\n",
    "    for text in result:\n",
    "        print(f\"{text.meta['_id']} : {text.content} (Score: {text.score})\")"
   ]
  },
  {
   "cell_type": "code",
   "execution_count": 11,
   "id": "d86b6755-ad6d-4243-adae-bbc8de8742ec",
   "metadata": {},
   "outputs": [],
   "source": [
    "import numpy as np\n",
    "\n",
    "def ndcg5(hits_ids, relevant_ids):\n",
    "    ideal_dcg = 0\n",
    "    dcg = 0\n",
    "    \n",
    "    for i in range(5):\n",
    "        if hits_ids[i] in relevant_ids:   \n",
    "            dcg += 1/np.log2(i+2)\n",
    "\n",
    "    for i in range(len(relevant_ids)):\n",
    "        ideal_dcg += 1/np.log2(i+2)\n",
    "\n",
    "    return dcg/ideal_dcg\n"
   ]
  },
  {
   "cell_type": "code",
   "execution_count": 12,
   "id": "90faf12f-8fb9-4197-8e21-89fd346356fa",
   "metadata": {},
   "outputs": [],
   "source": [
    "def calc_ndcg(queries_dct):\n",
    "    ndcgs = []\n",
    "    K = 5\n",
    "\n",
    "    queries = list(simplified_query_test_only.values())\n",
    "    queries_ids = list(simplified_query_test_only.keys())\n",
    "    results = search_pipeline.run_batch(queries=queries, params={\"Retriever\": {\"top_k\": K}})\n",
    "    for query_id, result in zip(queries_ids, results[\"documents\"]):\n",
    "        relevant_ids = simplified_dict[query_id]\n",
    "        hit_ids = [int(text.meta['_id']) for text in result]\n",
    "        ndcgs.append(ndcg5(hit_ids, relevant_ids))\n",
    "\n",
    "    return np.mean(ndcgs)"
   ]
  },
  {
   "cell_type": "code",
   "execution_count": 50,
   "id": "a67a4e7e-1f81-426a-b443-040d344dbe7d",
   "metadata": {},
   "outputs": [
    {
     "data": {
      "text/plain": [
       "648"
      ]
     },
     "execution_count": 50,
     "metadata": {},
     "output_type": "execute_result"
    }
   ],
   "source": [
    "len(list(simplified_query_test_only.keys()))"
   ]
  },
  {
   "cell_type": "code",
   "execution_count": 51,
   "id": "2a52a5ef-0074-4898-8081-df6d0bfb410d",
   "metadata": {},
   "outputs": [
    {
     "name": "stderr",
     "output_type": "stream",
     "text": [
      "Batches: 100%|█████████████████████████████████████████████████████████████████████████████████████| 21/21 [00:05<00:00,  3.93it/s]\n"
     ]
    },
    {
     "name": "stdout",
     "output_type": "stream",
     "text": [
      "ndcg with dense text representations (multilingual-e5-base model) - 0.20606707793100607\n"
     ]
    }
   ],
   "source": [
    "mean_ndcg = calc_ndcg(simplified_query_test_only)\n",
    "print(f\"ndcg with dense text representations (multilingual-e5-base model) - {mean_ndcg}\")"
   ]
  },
  {
   "cell_type": "markdown",
   "id": "c76350d1-4b41-4c70-8391-fc5811dbd54c",
   "metadata": {},
   "source": [
    "## Podsumowanie\n",
    "\n",
    "Uzyskane ndcg@5 na pozimie 0.206 jest najwyższym wynikiem w tej metryce, jaki udało się uzyskać. Najwyższy wynik NDCG@5 jaki udało się uzyskać z wykorzystaniem samego ElasticSearch to 0.182 - połączeie ES z dodatkowym transformerem do rerankingu dawało jeszcze gorszy wynik, na poziomie zaledwie 0.121. Chociaż NDCG@5 na poziomie około 20% trudno uznać za zadowalające, jest to wynik widocznie lepszy od innych testowanych rozwiązań. Kosztowene obliczeniowo i zajumjące więcej czasu było tylko początkowe obliczenie embedingów dla tekstów dodanych do bazy. Późniejsze uzyskanie odpowiedzi dla zbioru testowego korpusu fiqa (648 pozycji) nie zajęło wiele czasu - wbudowane w framework haystach narzędzia umożliwiły wykonanie wszystkich obliczeń w zaledwie 5 sekund (z wykorzystaniem CPU) - znacznie krócej niż w przypadku rerankingu, porównywanie z ES. \n",
    "\n",
    "Inne plusy zastosowania gęstych reprezentacji:\n",
    " - z wykorzystaniem frameworka Haystack stosunkowo łatwo przygotować działający pipeline - wystarczy kilkadziesiąt linijek kodu i podstawowa znajomość modelu\n",
    " - możliwość testowania różnych dostępnych modeli, metryk podobieństwa etc.\n",
    " - dość szybkie działanie (po policzeniu embedingów)\n",
    " - wsparcie dla GPU, które przyspiesza tworzenie osadzeń, nawet przy użyciu większych modeli (chociaż zadażały się problemy i framework z niewiadomych przyczyn używał tylko CPU)\n",
    "\n",
    "Minusy dense representation:\n",
    " - konieczność tworzenia od nowa bazy przy zmianie modelu, metryki lub innego parametru\n",
    " - niezbyt dobre w przypadku korpusów, których zwartość jest nieustannie zmieniana - usuwanie i dodawanie nowych tekstów wymaga obliczania nowych embedingów\n",
    " - instalacja i konfiguracja Haystack dość problematyczna (problemy z wersjami wymaganych przez Haystack pakietów z PyPI, konieczność dobrania odpowiedniej wersji Pythona (z Pythonem 3.10 działa, na Pythonie 3.12 nie udało się zainstalować wszystkich komponentów frameworka, wspomniane problemy z poprawnym wykorzystaniem GPU)"
   ]
  },
  {
   "cell_type": "code",
   "execution_count": null,
   "id": "afee97df-c532-4a12-8300-d40e35888aac",
   "metadata": {
    "scrolled": true
   },
   "outputs": [],
   "source": [
    "# Check how it will preform with bigger model\n",
    "\n",
    "document_store = FAISSDocumentStore(\n",
    "    faiss_index_factory_str=\"Flat\", \n",
    "    embedding_dim=1024, # dim for bigger model\n",
    "    similarity=\"dot_product\" # metric changed to dot_product\n",
    ")\n",
    "\n",
    "retriever = EmbeddingRetriever(\n",
    "    document_store=document_store,\n",
    "    embedding_model=\"intfloat/multilingual-e5-large\",\n",
    "    model_format=\"sentence_transformers\",\n",
    "    use_gpu=True\n",
    ")\n",
    "\n",
    "document_store.write_documents(documents)\n",
    "document_store.update_embeddings(retriever)\n",
    "search_pipeline = DocumentSearchPipeline(retriever)"
   ]
  },
  {
   "cell_type": "code",
   "execution_count": 14,
   "id": "2bc1cff7-8744-402d-a187-a2d0189dafe1",
   "metadata": {},
   "outputs": [
    {
     "name": "stderr",
     "output_type": "stream",
     "text": [
      "Batches: 100%|████████████████████████████████████████████████████████████████████████████████████████████████████████████████████████████████████████████████████████████████████████████████████████████████████████████████| 21/21 [00:01<00:00, 12.20it/s]\n"
     ]
    },
    {
     "name": "stdout",
     "output_type": "stream",
     "text": [
      "ndcg with dense text representations (multilingual-e5-large, dot_product similarity) - 0.27399091592656594\n"
     ]
    }
   ],
   "source": [
    "mean_ndcg = calc_ndcg(simplified_query_test_only)\n",
    "print(f\"ndcg with dense text representations (multilingual-e5-large, dot_product similarity) - {mean_ndcg}\")"
   ]
  },
  {
   "cell_type": "markdown",
   "id": "5b0bc05b-23de-48b4-bddb-3929323d6e8b",
   "metadata": {},
   "source": [
    "## Komentarz do dodatkowego testu\n",
    "\n",
    "Zmiana modelu na E5 Large oraz metryki podobieństwa na dot_product przyniosła wyraźną poprawę działania modelu - uzyskane NDCG@5 na poziomie 0.273 jest wyraźnie wyższe niż wyniki uzyskiwane przez inne rozwiązania wykorzystywane w czasie ćwiczeń z tym zagadnieniem i zbiorem danych.\n",
    "\n",
    "Przy zastosowaniu większego modelu do uzyskania wyników udało się poprawnie wykorzystać GPU (konfiguracja środowiska i używany sprzęt bez zmian), co sprawiło, że wszystkie 648 próbek ze zbioru testowego zostało przetworzonych w około sekundę - wyraźnie szybciej niż w przypadku mniejszego modelu na CPU. Również przetworzenie korpusu trwało wyraźnie krócej (30 minut vs około 2,5 h dla E5 base na CPU)"
   ]
  },
  {
   "cell_type": "code",
   "execution_count": null,
   "id": "e06fbc63-ef3c-4e0b-9299-9abb9ac8928e",
   "metadata": {},
   "outputs": [],
   "source": []
  }
 ],
 "metadata": {
  "kernelspec": {
   "display_name": "Python 3 (ipykernel)",
   "language": "python",
   "name": "python3"
  },
  "language_info": {
   "codemirror_mode": {
    "name": "ipython",
    "version": 3
   },
   "file_extension": ".py",
   "mimetype": "text/x-python",
   "name": "python",
   "nbconvert_exporter": "python",
   "pygments_lexer": "ipython3",
   "version": "3.12.3"
  }
 },
 "nbformat": 4,
 "nbformat_minor": 5
}
