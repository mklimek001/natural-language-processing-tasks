{
 "cells": [
  {
   "cell_type": "code",
   "execution_count": null,
   "id": "ce037122-935e-40c7-a80d-5782542aef61",
   "metadata": {},
   "outputs": [],
   "source": [
    "! pip install elasticsearch"
   ]
  },
  {
   "cell_type": "code",
   "execution_count": 1,
   "id": "a231bf9d-c08c-4c92-a18d-aa897d3daafe",
   "metadata": {},
   "outputs": [],
   "source": [
    "def print_dict(some_dict: dict) -> None:\n",
    "    # For easier printing dict configs as jsons\n",
    "    print(json.dumps(some_dict, indent=4, ensure_ascii=False))"
   ]
  },
  {
   "cell_type": "code",
   "execution_count": 2,
   "id": "8911bc72-7a7d-4461-889c-a1c242737fd4",
   "metadata": {},
   "outputs": [],
   "source": [
    "synonyms = [[\"styczeń\", \"sty\", \"I\"],\n",
    "            [\"luty\", \"lut\", \"II\"],\n",
    "            [\"marzec\", \"mar\", \"III\"],\n",
    "            [\"kwiecień\", \"kwi\", \"IV\"],\n",
    "            [\"maj\", \"V\"],\n",
    "            [\"czerwiec\", \"cze\", \"VI\"],\n",
    "            [\"lipiec\", \"lip\", \"VII\"],\n",
    "            [\"sierpień\", \"sie\", \"VIII\"],\n",
    "            [\"wrzesień\", \"wrz\", \"IX\"],\n",
    "            [\"październik\", \"paź\", \"X\"],\n",
    "            [\"listopad\", \"lis\", \"XI\"],\n",
    "            [\"grudzień\", \"gru\", \"XII\"]]"
   ]
  },
  {
   "cell_type": "code",
   "execution_count": 3,
   "id": "d14d92e8-067b-4bc3-8f72-7f514f9b0c2f",
   "metadata": {},
   "outputs": [],
   "source": [
    "synonyms_sep_list = []\n",
    "\n",
    "with open(\"synonyms.txt\", \"w\", encoding=\"utf-8\") as file:\n",
    "    for row in synonyms:\n",
    "        line = \", \".join(row)\n",
    "        file.write(line + \"\\n\")\n",
    "        synonyms_sep_list.append(line)"
   ]
  },
  {
   "cell_type": "code",
   "execution_count": 4,
   "id": "6717051c-0d27-4e18-bdd0-5168ae9d3ab8",
   "metadata": {},
   "outputs": [
    {
     "name": "stdout",
     "output_type": "stream",
     "text": [
      "styczeń, sty, I\n",
      "luty, lut, II\n",
      "marzec, mar, III\n",
      "kwiecień, kwi, IV\n",
      "maj, V\n",
      "czerwiec, cze, VI\n",
      "lipiec, lip, VII\n",
      "sierpień, sie, VIII\n",
      "wrzesień, wrz, IX\n",
      "październik, paź, X\n",
      "listopad, lis, XI\n",
      "grudzień, gru, XII\n"
     ]
    }
   ],
   "source": [
    "for line in synonyms_sep_list:\n",
    "    print(line)"
   ]
  },
  {
   "cell_type": "code",
   "execution_count": 5,
   "id": "e3b20bd4-9456-4379-aad8-a157f141cd90",
   "metadata": {},
   "outputs": [],
   "source": [
    "from elasticsearch import Elasticsearch\n",
    "\n",
    "es = Elasticsearch(\n",
    "    hosts=[\"http://localhost:9200\"],\n",
    "    request_timeout=60  #bigger timeout, because some problems with default one\n",
    ")\n"
   ]
  },
  {
   "cell_type": "code",
   "execution_count": 6,
   "id": "3f2823ac-57d9-4339-8c4d-31843cfabce7",
   "metadata": {},
   "outputs": [],
   "source": [
    "analyzers_config = {\n",
    "    \"settings\": {\n",
    "        \"analysis\": {\n",
    "            \"filter\": {\n",
    "                \"month_synonym_filter\": {\n",
    "                    \"type\": \"synonym\",\n",
    "                    \"synonyms\": synonyms_sep_list \n",
    "                }\n",
    "            },\n",
    "            \"analyzer\": {\n",
    "                \"morfologik_synonyms_analyzer\": {\n",
    "                    \"type\": \"custom\",\n",
    "                    \"tokenizer\": \"standard\",\n",
    "                    \"filter\": [\n",
    "                        \"lowercase\", # hope that lowercase before synonyms filter is more reasonable than after\n",
    "                        \"month_synonym_filter\",\n",
    "                        \"morfologik_stem\",\n",
    "                        \"lowercase\"\n",
    "                    ]\n",
    "                },\n",
    "                \"morfologik_only_analyzer\": {\n",
    "                    \"type\": \"custom\",\n",
    "                    \"tokenizer\": \"standard\",\n",
    "                    \"filter\": [\n",
    "                        \"lowercase\",\n",
    "                        \"morfologik_stem\",\n",
    "                        \"lowercase\"\n",
    "                    ]\n",
    "                }\n",
    "            }\n",
    "        }\n",
    "    }\n",
    "}"
   ]
  },
  {
   "cell_type": "code",
   "execution_count": 7,
   "id": "37583880-8e8e-444e-9294-fae64792468f",
   "metadata": {},
   "outputs": [],
   "source": [
    "analyzers_config[\"mappings\"] = {\"properties\": {\n",
    "                                   \"fiqa_with_synonyms\": {\n",
    "                                        \"type\": \"text\",\n",
    "                                        \"analyzer\": \"morfologik_synonyms_analyzer\"\n",
    "                                    },\n",
    "                                    \"fiqa_without_synonyms\": {\n",
    "                                        \"type\": \"text\",\n",
    "                                        \"analyzer\": \"morfologik_only_analyzer\"\n",
    "                                    }\n",
    "                                }}\n"
   ]
  },
  {
   "cell_type": "code",
   "execution_count": 8,
   "id": "00986e2d-f8ac-4bd7-b0a2-702fc58cc378",
   "metadata": {},
   "outputs": [
    {
     "name": "stdout",
     "output_type": "stream",
     "text": [
      "{\n",
      "    \"settings\": {\n",
      "        \"analysis\": {\n",
      "            \"filter\": {\n",
      "                \"month_synonym_filter\": {\n",
      "                    \"type\": \"synonym\",\n",
      "                    \"synonyms\": [\n",
      "                        \"styczeń, sty, I\",\n",
      "                        \"luty, lut, II\",\n",
      "                        \"marzec, mar, III\",\n",
      "                        \"kwiecień, kwi, IV\",\n",
      "                        \"maj, V\",\n",
      "                        \"czerwiec, cze, VI\",\n",
      "                        \"lipiec, lip, VII\",\n",
      "                        \"sierpień, sie, VIII\",\n",
      "                        \"wrzesień, wrz, IX\",\n",
      "                        \"październik, paź, X\",\n",
      "                        \"listopad, lis, XI\",\n",
      "                        \"grudzień, gru, XII\"\n",
      "                    ]\n",
      "                }\n",
      "            },\n",
      "            \"analyzer\": {\n",
      "                \"morfologik_synonyms_analyzer\": {\n",
      "                    \"type\": \"custom\",\n",
      "                    \"tokenizer\": \"standard\",\n",
      "                    \"filter\": [\n",
      "                        \"lowercase\",\n",
      "                        \"month_synonym_filter\",\n",
      "                        \"morfologik_stem\",\n",
      "                        \"lowercase\"\n",
      "                    ]\n",
      "                },\n",
      "                \"morfologik_only_analyzer\": {\n",
      "                    \"type\": \"custom\",\n",
      "                    \"tokenizer\": \"standard\",\n",
      "                    \"filter\": [\n",
      "                        \"lowercase\",\n",
      "                        \"morfologik_stem\",\n",
      "                        \"lowercase\"\n",
      "                    ]\n",
      "                }\n",
      "            }\n",
      "        }\n",
      "    },\n",
      "    \"mappings\": {\n",
      "        \"properties\": {\n",
      "            \"fiqa_with_synonyms\": {\n",
      "                \"type\": \"text\",\n",
      "                \"analyzer\": \"morfologik_synonyms_analyzer\"\n",
      "            },\n",
      "            \"fiqa_without_synonyms\": {\n",
      "                \"type\": \"text\",\n",
      "                \"analyzer\": \"morfologik_only_analyzer\"\n",
      "            }\n",
      "        }\n",
      "    }\n",
      "}\n"
     ]
    }
   ],
   "source": [
    "import json\n",
    "\n",
    "print_dict(analyzers_config)"
   ]
  },
  {
   "cell_type": "code",
   "execution_count": null,
   "id": "b9e6a387-1919-4c58-a91d-6249438a9f8e",
   "metadata": {},
   "outputs": [],
   "source": [
    "from datasets import load_dataset\n",
    "\n",
    "ds = load_dataset(\"clarin-knext/fiqa-pl\", \"corpus\")"
   ]
  },
  {
   "cell_type": "code",
   "execution_count": 10,
   "id": "254a7caa-13ef-4115-9d3a-e491f26509be",
   "metadata": {},
   "outputs": [
    {
     "data": {
      "text/plain": [
       "{'_id': '3',\n",
       " 'title': '',\n",
       " 'text': 'Nie mówię, że nie podoba mi się też pomysł szkolenia w miejscu pracy, ale nie możesz oczekiwać, że firma to zrobi. Szkolenie pracowników to nie ich praca – oni tworzą oprogramowanie. Być może systemy edukacyjne w Stanach Zjednoczonych (lub ich studenci) powinny trochę martwić się o zdobycie umiejętności rynkowych w zamian za ich ogromne inwestycje w edukację, zamiast wychodzić z tysiącami zadłużonych studentów i narzekać, że nie są do niczego wykwalifikowani.'}"
      ]
     },
     "execution_count": 10,
     "metadata": {},
     "output_type": "execute_result"
    }
   ],
   "source": [
    "ds['corpus'][0]"
   ]
  },
  {
   "cell_type": "code",
   "execution_count": 11,
   "id": "74bf4aaf-e248-4227-bfd0-b141f8ab89f9",
   "metadata": {},
   "outputs": [
    {
     "data": {
      "text/plain": [
       "57638"
      ]
     },
     "execution_count": 11,
     "metadata": {},
     "output_type": "execute_result"
    }
   ],
   "source": [
    "len(ds['corpus']['text'])"
   ]
  },
  {
   "cell_type": "code",
   "execution_count": 12,
   "id": "a8d1dd20-e744-41d5-88a6-073f171bd659",
   "metadata": {},
   "outputs": [
    {
     "name": "stdout",
     "output_type": "stream",
     "text": [
      "index fiqa_index already exists\n"
     ]
    },
    {
     "data": {
      "text/plain": [
       "ObjectApiResponse({'acknowledged': True, 'shards_acknowledged': True, 'index': 'fiqa_index'})"
      ]
     },
     "execution_count": 12,
     "metadata": {},
     "output_type": "execute_result"
    }
   ],
   "source": [
    "index_name = 'fiqa_index'\n",
    "\n",
    "if es.indices.exists(index=index_name): #to deal with existing index after some failure\n",
    "    print(f\"index {index_name} already exists\")\n",
    "    es.indices.delete(index=index_name)\n",
    "\n",
    "es.indices.create(index=index_name, body=analyzers_config)"
   ]
  },
  {
   "cell_type": "code",
   "execution_count": 13,
   "id": "1f5f0255-9d41-4979-85fc-8513bc922e6a",
   "metadata": {},
   "outputs": [
    {
     "name": "stdout",
     "output_type": "stream",
     "text": [
      "{'fiqa_index': {'settings': {'index': {'routing': {'allocation': {'include': {'_tier_preference': 'data_content'}}}, 'number_of_shards': '1', 'provided_name': 'fiqa_index', 'creation_date': '1730361445875', 'analysis': {'filter': {'month_synonym_filter': {'type': 'synonym', 'synonyms': ['styczeń, sty, I', 'luty, lut, II', 'marzec, mar, III', 'kwiecień, kwi, IV', 'maj, V', 'czerwiec, cze, VI', 'lipiec, lip, VII', 'sierpień, sie, VIII', 'wrzesień, wrz, IX', 'październik, paź, X', 'listopad, lis, XI', 'grudzień, gru, XII']}}, 'analyzer': {'morfologik_synonyms_analyzer': {'filter': ['lowercase', 'month_synonym_filter', 'morfologik_stem', 'lowercase'], 'type': 'custom', 'tokenizer': 'standard'}, 'morfologik_only_analyzer': {'filter': ['lowercase', 'morfologik_stem', 'lowercase'], 'type': 'custom', 'tokenizer': 'standard'}}}, 'number_of_replicas': '1', 'uuid': 'PklKhHN0Tf-e6rVwtbmnFQ', 'version': {'created': '8512000'}}}}}\n"
     ]
    }
   ],
   "source": [
    "settings = es.indices.get_settings(index=index_name)\n",
    "print(settings)"
   ]
  },
  {
   "cell_type": "code",
   "execution_count": 14,
   "id": "c0c34b4f-d2b1-41c7-9535-c2062bbd6c15",
   "metadata": {},
   "outputs": [
    {
     "name": "stdout",
     "output_type": "stream",
     "text": [
      "{'fiqa_index': {'mappings': {'properties': {'fiqa_with_synonyms': {'type': 'text', 'analyzer': 'morfologik_synonyms_analyzer'}, 'fiqa_without_synonyms': {'type': 'text', 'analyzer': 'morfologik_only_analyzer'}}}}}\n"
     ]
    }
   ],
   "source": [
    "mappings = es.indices.get_mapping(index=index_name)\n",
    "print(mappings)"
   ]
  },
  {
   "cell_type": "code",
   "execution_count": 15,
   "id": "7c173d38-fc9f-4e5b-a1f0-b5d76736ddfc",
   "metadata": {},
   "outputs": [],
   "source": [
    "documents_to_add = [\n",
    "    {\n",
    "        \"_index\": index_name, \n",
    "        \"_source\": {\n",
    "            \"fiqa_with_synonyms\": text,\n",
    "            \"fiqa_without_synonyms\": text\n",
    "        }\n",
    "    }\n",
    "    for text in ds['corpus']['text']\n",
    "]"
   ]
  },
  {
   "cell_type": "code",
   "execution_count": 16,
   "id": "75576462-5cbd-46fa-8c62-fd90c1f94011",
   "metadata": {},
   "outputs": [
    {
     "name": "stdout",
     "output_type": "stream",
     "text": [
      "57638\n",
      "{\n",
      "    \"_index\": \"fiqa_index\",\n",
      "    \"_source\": {\n",
      "        \"fiqa_with_synonyms\": \"Nie mówię, że nie podoba mi się też pomysł szkolenia w miejscu pracy, ale nie możesz oczekiwać, że firma to zrobi. Szkolenie pracowników to nie ich praca – oni tworzą oprogramowanie. Być może systemy edukacyjne w Stanach Zjednoczonych (lub ich studenci) powinny trochę martwić się o zdobycie umiejętności rynkowych w zamian za ich ogromne inwestycje w edukację, zamiast wychodzić z tysiącami zadłużonych studentów i narzekać, że nie są do niczego wykwalifikowani.\",\n",
      "        \"fiqa_without_synonyms\": \"Nie mówię, że nie podoba mi się też pomysł szkolenia w miejscu pracy, ale nie możesz oczekiwać, że firma to zrobi. Szkolenie pracowników to nie ich praca – oni tworzą oprogramowanie. Być może systemy edukacyjne w Stanach Zjednoczonych (lub ich studenci) powinny trochę martwić się o zdobycie umiejętności rynkowych w zamian za ich ogromne inwestycje w edukację, zamiast wychodzić z tysiącami zadłużonych studentów i narzekać, że nie są do niczego wykwalifikowani.\"\n",
      "    }\n",
      "}\n"
     ]
    }
   ],
   "source": [
    "print(len(documents_to_add))\n",
    "print_dict(documents_to_add[0])"
   ]
  },
  {
   "cell_type": "code",
   "execution_count": 17,
   "id": "126aaab5-633c-452d-8055-6fe285306ba8",
   "metadata": {},
   "outputs": [
    {
     "name": "stdout",
     "output_type": "stream",
     "text": [
      "5000 texts added succesfully.\n",
      "5000 texts added succesfully.\n",
      "5000 texts added succesfully.\n",
      "5000 texts added succesfully.\n",
      "5000 texts added succesfully.\n",
      "5000 texts added succesfully.\n",
      "5000 texts added succesfully.\n",
      "5000 texts added succesfully.\n",
      "5000 texts added succesfully.\n",
      "5000 texts added succesfully.\n",
      "5000 texts added succesfully.\n",
      "2638 texts added succesfully.\n"
     ]
    }
   ],
   "source": [
    "from elasticsearch import helpers\n",
    "\n",
    "def batch_data(documents, batch_size=5000):\n",
    "    for i in range(0, len(documents), batch_size):\n",
    "        yield documents[i:i + batch_size]\n",
    "\n",
    "for batch in batch_data(documents_to_add):\n",
    "    success, failed = helpers.bulk(es, batch, raise_on_error=False,  ignore_status=[400, 404], timeout=\"120s\")\n",
    "    print(f\"{success} texts added succesfully.\")\n"
   ]
  },
  {
   "cell_type": "code",
   "execution_count": 18,
   "id": "3cf4fcbc-7543-4ebe-a9a2-0ea112009b05",
   "metadata": {},
   "outputs": [
    {
     "name": "stdout",
     "output_type": "stream",
     "text": [
      "Total documents in 'fiqa_index': 57638\n"
     ]
    }
   ],
   "source": [
    "count_response = es.count(index=index_name)\n",
    "document_count = count_response['count']\n",
    "\n",
    "# to check if all documents added succesfully\n",
    "print(f\"Total documents in '{index_name}': {document_count}\") "
   ]
  },
  {
   "cell_type": "code",
   "execution_count": 19,
   "id": "bb4c1fdb-0320-481f-90cf-46f794ac1083",
   "metadata": {},
   "outputs": [],
   "source": [
    "def count_documents(es, index_name, field, term):\n",
    "    request_body = {\"query\": {\n",
    "                        \"match\": {\n",
    "                            field: term\n",
    "                        }\n",
    "                    }}\n",
    "    response = es.count(\n",
    "        index=index_name,\n",
    "        body=request_body\n",
    "    )\n",
    "\n",
    "    print(response)\n",
    "    return response['count']"
   ]
  },
  {
   "cell_type": "code",
   "execution_count": 20,
   "id": "9b68db0b-99f4-4552-9347-6ea3e9055c69",
   "metadata": {},
   "outputs": [
    {
     "name": "stdout",
     "output_type": "stream",
     "text": [
      "{'count': 306, '_shards': {'total': 1, 'successful': 1, 'skipped': 0, 'failed': 0}}\n",
      "{'count': 257, '_shards': {'total': 1, 'successful': 1, 'skipped': 0, 'failed': 0}}\n"
     ]
    }
   ],
   "source": [
    "phrease_to_search = \"kwiecień\"\n",
    "\n",
    "with_synonyms = count_documents(es, index_name, \"fiqa_with_synonyms\", phrease_to_search)\n",
    "wo_synonyms = count_documents(es, index_name, \"fiqa_without_synonyms\", phrease_to_search)"
   ]
  },
  {
   "cell_type": "code",
   "execution_count": 21,
   "id": "b63a994c-d675-4c0e-8283-e20c9eddb9ca",
   "metadata": {},
   "outputs": [
    {
     "name": "stdout",
     "output_type": "stream",
     "text": [
      "matching of 'kwiecień' search with synonyms: 306\n",
      "matching of 'kwiecień' search without synonyms: 257\n"
     ]
    }
   ],
   "source": [
    "print(f\"matching of 'kwiecień' search with synonyms: {with_synonyms}\")\n",
    "print(f\"matching of 'kwiecień' search without synonyms: {wo_synonyms}\")"
   ]
  },
  {
   "cell_type": "code",
   "execution_count": 22,
   "id": "584a718b-3b61-4eb4-97e2-95354ff53d39",
   "metadata": {},
   "outputs": [
    {
     "name": "stdout",
     "output_type": "stream",
     "text": [
      "{\n",
      "    \"took\": 54,\n",
      "    \"timed_out\": false,\n",
      "    \"_shards\": {\n",
      "        \"total\": 1,\n",
      "        \"successful\": 1,\n",
      "        \"skipped\": 0,\n",
      "        \"failed\": 0\n",
      "    },\n",
      "    \"hits\": {\n",
      "        \"total\": {\n",
      "            \"value\": 306,\n",
      "            \"relation\": \"eq\"\n",
      "        },\n",
      "        \"max_score\": 11.11224,\n",
      "        \"hits\": [\n",
      "            {\n",
      "                \"_index\": \"fiqa_index\",\n",
      "                \"_id\": \"WWyU4ZIBwiVdjuMCzQlC\",\n",
      "                \"_score\": 11.11224,\n",
      "                \"_source\": {\n",
      "                    \"fiqa_with_synonyms\": \"„Istnieje kilka różnych „rodzajów” zmienności implikowanej. Wszystkie są oparte na IV uzyskanych z modelu wyceny opcji, którego używasz. (1) Zasadniczo, biorąc pod uwagę kilka różnych wartości (aktualna cena akcji, czas do wygaśnięcia, prawo opcji, styl wykonania, wykonanie opcji, stopy procentowe, dywidendy itp.) za daną cenę opcji można uzyskać IV.Jeśli spojrzysz na ofertę opcji, możesz obliczyć IV dla tej oferty. Jeśli spojrzysz na zapytanie, jest inna IV dla zapytania.Możesz wtedy spojrzeć na średnią cenę, wtedy masz inną IV i tak dalej itd. I to dla każdego uderzenia, w każdym cyklu wygaśnięcia! masz mnóstwo różnych IV. (2) Na wielu platformach handlu opcjami zobaczysz inny rodzaj IV: IV dla każdego konkretnego cyklu wygaśnięcia. Jest to obliczane na podstawie niektórych IV, o których wspomniałem w temacie (1). Jakiś rodzaj agregacji (więcej o tym później). (3) Wreszcie, ludzie często mówią o „IV akcji XYZ”. To znowu kalkulacja agregacji z wielu IV wymienionych na ten temat (1). Teraz twoje pytanie wydaje się brzmieć: które IV, z jakich opcji, z jakich miesięcy, z jaką wagą, wchodzą w skład IV cyklu wygaśnięcia czy IV samej akcji? To naprawdę zależy od platformy transakcyjnej, o której mówisz. Ale bardzo często ludzie będą używać obliczeń podobnych do tego, jak CBOE oblicza VIX. Zasadniczo VIX jest taki sam jak IV opisany w temacie (3) powyżej, ale specjalnie dla SPX, indeks S&P 500. Bardzo szczegółowa procedura i wzory do obliczania VIX (tj. IV SPX) są opisane tutaj: http://cfe.cboe.com/education/vixprimer/about.aspx Jeśli zastosujesz tę samą (lub podobną) metodologię do inne akcje, dostaniesz coś, co możesz nazwać \\\"\\\"IV akcji XYZ\\\"\\\".\\\"\"\n",
      "                }\n",
      "            },\n",
      "            {\n",
      "                \"_index\": \"fiqa_index\",\n",
      "                \"_id\": \"t2yV4ZIBwiVdjuMCHVpb\",\n",
      "                \"_score\": 10.804432,\n",
      "                \"_source\": {\n",
      "                    \"fiqa_with_synonyms\": \"Kilka linijek dalej na tej stronie znajduje się wyjaśnienie, co to oznacza: Wygląda na to, że przechowują zapisy z ~600 dni swoich poprzednich obliczeń zmienności implikowanej, ale niektóre symbole mogą nie mieć tak wielu ważnych danych. Więc kiedy zgłaszają obecny IV jako percentyl wszystkich poprzednich IV, chcą, abyś wiedział dokładnie, jak wiarygodny jest ten pomiar. Jeśli mają tylko 30 dni ostatnich obliczeń IV, to percentyl nie znaczy tyle. Z drugiej strony, jeśli mają 600 dni ostatnich obliczeń IV, to obecny percentyl jest dość znaczący.\"\n",
      "                }\n",
      "            },\n",
      "            {\n",
      "                \"_index\": \"fiqa_index\",\n",
      "                \"_id\": \"V2yV4ZIBwiVdjuMCRoZi\",\n",
      "                \"_score\": 10.633309,\n",
      "                \"_source\": {\n",
      "                    \"fiqa_with_synonyms\": \"pamiętaj, że IV jest dosłownie zmiennością, która byłaby obecna, aby zrównać się z ostatnią ceną konkretnego kontraktu opcyjnego, zakładając model Blacka-Scholesa-Mertona. Bezpłatna usługa finansowa Yahoo wymienia IV dla wszystkich opcji, które śledzi.\"\n",
      "                }\n",
      "            },\n",
      "            {\n",
      "                \"_index\": \"fiqa_index\",\n",
      "                \"_id\": \"CWyV4ZIBwiVdjuMCCkc2\",\n",
      "                \"_score\": 10.604523,\n",
      "                \"_source\": {\n",
      "                    \"fiqa_with_synonyms\": \"Oto kilka kroków demonstracyjnych, najpierw obliczając zwrot od początku roku, a następnie obliczając zwrot kwartalny za IV kwartał na podstawie skumulowanych zwrotów za III i IV kwartał. Można używać ceny zamknięcia do ceny zamknięcia jako okresów zwrotu.\"\n",
      "                }\n",
      "            },\n",
      "            {\n",
      "                \"_index\": \"fiqa_index\",\n",
      "                \"_id\": \"aWyU4ZIBwiVdjuMCzwsX\",\n",
      "                \"_score\": 10.500292,\n",
      "                \"_source\": {\n",
      "                    \"fiqa_with_synonyms\": \"Dzięki strategii delta pozycji neutralnej przy wysokich zwrotach IV na krótkich pozycjach vega, istnieje możliwość skorzystania ze spadku IV. Oczywiście, jeśli zmienność wzrośnie, pozycja straci pieniądze. Dlatego najlepiej jest ustalić krótkie pozycje vega delta-neutralne, gdy zmienność implikowana znajduje się na poziomach, które znajdują się w rankingu 90. percentyla.\"\n",
      "                }\n",
      "            }\n",
      "        ]\n",
      "    }\n",
      "}\n"
     ]
    }
   ],
   "source": [
    "field = \"fiqa_with_synonyms\"\n",
    "\n",
    "response = es.search(\n",
    "    index=index_name,\n",
    "    body={\n",
    "        \"query\": {\n",
    "            \"match\": {\n",
    "                field: phrease_to_search\n",
    "            }\n",
    "        },\n",
    "        \"_source\": [field],\n",
    "        \"from\": 0,\n",
    "        \"size\": 5   \n",
    "    }\n",
    ")\n",
    "\n",
    "print_dict(response.body)"
   ]
  },
  {
   "cell_type": "code",
   "execution_count": 23,
   "id": "8e584d66-ee0a-4675-98c7-580f5068cbb4",
   "metadata": {},
   "outputs": [
    {
     "data": {
      "text/plain": [
       "dict"
      ]
     },
     "execution_count": 23,
     "metadata": {},
     "output_type": "execute_result"
    }
   ],
   "source": [
    "type(response.body) "
   ]
  },
  {
   "cell_type": "code",
   "execution_count": 24,
   "id": "5796d6dc-4bcb-422e-9e24-bf7ad54081a6",
   "metadata": {},
   "outputs": [
    {
     "name": "stdout",
     "output_type": "stream",
     "text": [
      "{\n",
      "    \"took\": 8,\n",
      "    \"timed_out\": false,\n",
      "    \"_shards\": {\n",
      "        \"total\": 1,\n",
      "        \"successful\": 1,\n",
      "        \"skipped\": 0,\n",
      "        \"failed\": 0\n",
      "    },\n",
      "    \"hits\": {\n",
      "        \"total\": {\n",
      "            \"value\": 257,\n",
      "            \"relation\": \"eq\"\n",
      "        },\n",
      "        \"max_score\": 10.545917,\n",
      "        \"hits\": [\n",
      "            {\n",
      "                \"_index\": \"fiqa_index\",\n",
      "                \"_id\": \"GWyV4ZIBwiVdjuMCOXjK\",\n",
      "                \"_score\": 10.545917,\n",
      "                \"_source\": {\n",
      "                    \"fiqa_without_synonyms\": \"Załóżmy, że w przeszłości płaciłeś odsetki od poprzednich opłat. Twój miesięczny wyciąg jest wystawiany 12 kwietnia i (ponieważ właśnie otrzymałeś zwrot podatku dochodowego), spłacasz go w całości 30 kwietnia. Po 12 kwietnia w ogóle nie obciążasz karty. 30, saldo Twojej karty kredytowej pokazuje zero, ponieważ właśnie je spłaciłeś. Ale wyciąg z 12 kwietnia naliczał odsetki tylko do 12 kwietnia. Tak więc 12 maja następny miesięczny rachunek będzie dotyczył odsetek za saldo niezerowe od 13 do 30 kwietnia. Zakładając, że nadal nie naliczasz żadnych nowych opłat na swojej karcie i spłacaj w terminie rachunek z 12 maja, w końcu 12 czerwca będziesz miał rachunek zerowy. Co się stanie, jeśli po 12 kwietnia obciążysz kartę kredytową nowymi przedmiotami? Cóż, Twoje saldo przestało się obracać 30 kwietnia i wtedy nie są już naliczane odsetki od nowych opłat. Ale jesteś winien odsetki za opłatę w dniu 13 kwietnia (powiedzmy) do 30 kwietnia, kiedy saldo nie jest już odnawialne, a kwota ta zostanie dodana do rachunku 12 maja. Zakupy dokonane po 30 kwietnia nie będą naliczane odsetki, chyba że upadniesz ponownie wysiądź z wagonu i nie zapłać w całości rachunku z 12 maja w terminie płatności (jakiś czas na początku czerwca).\"\n",
      "                }\n",
      "            },\n",
      "            {\n",
      "                \"_index\": \"fiqa_index\",\n",
      "                \"_id\": \"nGyV4ZIBwiVdjuMCT46t\",\n",
      "                \"_score\": 10.010527,\n",
      "                \"_source\": {\n",
      "                    \"fiqa_without_synonyms\": \"Odcinki z Twojego banku dla Twojego konta HSA dotyczą już założonego konta, dlatego bank jest skłonny zaakceptować Twoje depozyty, nawet jeśli dotrą one do banku po terminie 15 kwietnia, o ile data stempla pocztowego jest 15 kwietnia lub wcześniej. Konto istnieje w banku, wiedzą, kim jesteś, a płatność otrzymana po 15 kwietnia wynika tylko z normalnych (lub nawet nienormalnych) opóźnień w doręczeniu pocztowym. W przypadku nowego konta, które próbowałeś założyć (z odpowiednim notariuszem i datą stempla pocztowego itp.), spółdzielcza kasa pożyczkowa nie mogła otrzymać dokumentów na koniec działalności 15 kwietnia (z wyjątkiem bardzo mało prawdopodobnych okoliczności, w których lokalny list został zdeponowany w skrzynka pocztowa rano jest dostarczana tego samego dnia przez USPS: nie ekstrapoluj z opowieści o tym, jak poczta była dostarczana w Londynie w czasach wiktoriańskich). Ergo, nie miałeś konta HSA w kasie na dzień 15 kwietnia i mają całkowitą rację odmawiając otwarcia konta z datą 15 kwietnia i wpłacenia na nie pieniędzy za poprzedni rok podatkowy. Odpowiadając na zadane pytanie: Czy wolno im ignorować datę stempla pocztowego? Tak, nie tylko wolno im ignorować datę stempla pocztowego, ale IRS nalega, aby ignorować datę stempla pocztowego. Unia kredytowa woli zgłaszać tylko prawdę: do 15 kwietnia nie założyłeś konta HSA do 15 kwietnia; powiedzieć inaczej byłoby złożeniem fałszywego oświadczenia do IRS.\"\n",
      "                }\n",
      "            },\n",
      "            {\n",
      "                \"_index\": \"fiqa_index\",\n",
      "                \"_id\": \"bWyU4ZIBwiVdjuMC4h45\",\n",
      "                \"_score\": 9.746591,\n",
      "                \"_source\": {\n",
      "                    \"fiqa_without_synonyms\": \"Ponieważ data dystrybucji przypadała na 21 kwietnia 2011 r., TA powinna być właściwą datą dla ustalenia cen akcji i warrantów WZ. Kolejne dystrybucje po kwietniu również powinny być alokowane zgodnie z ich datami dystrybucji, przy czym podstawa opodatkowania jest zmniejszona z pierwotnych alokacji na dzień 21 kwietnia i przeniesiona do tych kolejnych dystrybucji, biorąc pod uwagę jakąkolwiek sprzedaż międzyokresową, którą mogłeś dokonać.\"\n",
      "                }\n",
      "            },\n",
      "            {\n",
      "                \"_index\": \"fiqa_index\",\n",
      "                \"_id\": \"OWuU4ZIBwiVdjuMCkcyT\",\n",
      "                \"_score\": 9.470484,\n",
      "                \"_source\": {\n",
      "                    \"fiqa_without_synonyms\": \"Oświadczenie w Wikipedii jest ogólne. To, czy dany Bank będzie pobierał opłatę zgodnie z powyższym przykładem, czy nie, będzie zawarte w umowie posiadacza karty. Więc jeśli nie masz żadnych składek i 10 kwietnia naliczasz 1000 zł, a 13 kwietnia naliczasz 500 zł. Data wyciągu to 18 kwietnia. Okres karencji do zapłaty to powiedzmy 10 maja. Jeśli nie zapłacisz w całości do 10 maja i powiesz, że płacisz tylko 500 USD, Bank naliczy odsetki od 19 kwietnia do 10 maja za 1500 USD, a po 10 maja naliczy odsetki za saldo 1000 USD. Ponadto wszystkie nowe zakupy będą naliczane odsetki od dnia 1. Net Morale netto historii to nie nosić / obracać pieniędzy na karcie kredytowej. We wszystkich praktycznych celach używaj karty kredytowej jako wygodnej karty.\"\n",
      "                }\n",
      "            },\n",
      "            {\n",
      "                \"_index\": \"fiqa_index\",\n",
      "                \"_id\": \"rWuU4ZIBwiVdjuMChb9p\",\n",
      "                \"_score\": 9.1987915,\n",
      "                \"_source\": {\n",
      "                    \"fiqa_without_synonyms\": \"Łączna liczba akcji 1 kwietnia wynosi 100 + 180 + 275 = 555. Wymagana jest cena z 1 kwietnia. Obecna cena jest podana jako 2 USD, ale 2 USD * 555 = 1110 USD, a aktualna wartość funduszu to 1500 USD. Decydując się na przyjęcie bieżącej wartości 1500 USD, cenę 1 kwietnia można obliczyć jako 1500 USD/555 = 2,7027 USD. Kwoty zainwestowane jako liczba akcji x cena akcji to: (Zauważ, że te kwoty inwestycji nie odpowiadają kwotom inwestycji z przykładowego scenariusza, prawdopodobnie dlatego, że przykładowe liczby są po prostu wymyślone). Miesięczne zwroty można obliczyć: Bieżące wartości dla każdego inwestora jak zainwestowana kwota x zwraca to: Sprawdzenie sumy:\"\n",
      "                }\n",
      "            }\n",
      "        ]\n",
      "    }\n",
      "}\n"
     ]
    }
   ],
   "source": [
    "field = \"fiqa_without_synonyms\"\n",
    "\n",
    "response = es.search(\n",
    "    index=index_name,\n",
    "    body={\n",
    "        \"query\": {\n",
    "            \"match\": {\n",
    "                field: phrease_to_search\n",
    "            }\n",
    "        },\n",
    "        \"_source\": [field],\n",
    "        \"from\": 0,\n",
    "        \"size\": 5   \n",
    "    }\n",
    ")\n",
    "\n",
    "print_dict(response.body)"
   ]
  },
  {
   "cell_type": "markdown",
   "id": "0876be24-fa8d-44a4-83b1-8ee5c32dfbdf",
   "metadata": {},
   "source": [
    "Maybe analyzer with synonyms can found more matches, but matches found by analyzer without synonyms are definitelly more accurate.\n",
    "\n",
    "\"IV kwartał\" has nothing to do with \"kwiecień\"."
   ]
  },
  {
   "cell_type": "code",
   "execution_count": 25,
   "id": "80741e23-141d-4e35-b1f3-4d22befd8c86",
   "metadata": {},
   "outputs": [],
   "source": [
    "from datasets import load_dataset\n",
    "\n",
    "ds_qa = load_dataset(\"clarin-knext/fiqa-pl-qrels\")"
   ]
  },
  {
   "cell_type": "code",
   "execution_count": 26,
   "id": "9bb2eb75-0619-4a0e-8914-1803f90fa8c2",
   "metadata": {},
   "outputs": [
    {
     "data": {
      "text/plain": [
       "DatasetDict({\n",
       "    train: Dataset({\n",
       "        features: ['query-id', 'corpus-id', 'score'],\n",
       "        num_rows: 14166\n",
       "    })\n",
       "    validation: Dataset({\n",
       "        features: ['query-id', 'corpus-id', 'score'],\n",
       "        num_rows: 1238\n",
       "    })\n",
       "    test: Dataset({\n",
       "        features: ['query-id', 'corpus-id', 'score'],\n",
       "        num_rows: 1706\n",
       "    })\n",
       "})"
      ]
     },
     "execution_count": 26,
     "metadata": {},
     "output_type": "execute_result"
    }
   ],
   "source": [
    "ds_qa"
   ]
  },
  {
   "cell_type": "code",
   "execution_count": 27,
   "id": "991e9646-9bc6-4987-98ae-49f976c27fa6",
   "metadata": {},
   "outputs": [
    {
     "data": {
      "text/plain": [
       "{'query-id': [0, 4, 5, 6, 6, 6, 7, 9, 9, 11],\n",
       " 'corpus-id': [18850,\n",
       "  196463,\n",
       "  69306,\n",
       "  560251,\n",
       "  188530,\n",
       "  564488,\n",
       "  411063,\n",
       "  509122,\n",
       "  184698,\n",
       "  596427],\n",
       " 'score': [1, 1, 1, 1, 1, 1, 1, 1, 1, 1]}"
      ]
     },
     "execution_count": 27,
     "metadata": {},
     "output_type": "execute_result"
    }
   ],
   "source": [
    "ds_qa[\"train\"][:10]"
   ]
  },
  {
   "cell_type": "code",
   "execution_count": 28,
   "id": "bf242ee1-fcba-4748-b675-0dfa2996cca8",
   "metadata": {},
   "outputs": [
    {
     "data": {
      "text/plain": [
       "{'query-id': [1, 2, 3, 3, 3, 3, 17, 29, 29, 29],\n",
       " 'corpus-id': [14255,\n",
       "  308938,\n",
       "  296717,\n",
       "  100764,\n",
       "  314352,\n",
       "  146317,\n",
       "  146657,\n",
       "  274832,\n",
       "  114494,\n",
       "  189642],\n",
       " 'score': [1, 1, 1, 1, 1, 1, 1, 1, 1, 1]}"
      ]
     },
     "execution_count": 28,
     "metadata": {},
     "output_type": "execute_result"
    }
   ],
   "source": [
    "ds_qa['validation'][:10]"
   ]
  },
  {
   "cell_type": "code",
   "execution_count": 29,
   "id": "b3fc977d-8435-45fd-8ef2-03360734c746",
   "metadata": {},
   "outputs": [
    {
     "data": {
      "text/plain": [
       "{'_id': ['3', '31', '56', '59', '63', '100', '108', '125', '132', '138'],\n",
       " 'title': ['', '', '', '', '', '', '', '', '', ''],\n",
       " 'text': ['Nie mówię, że nie podoba mi się też pomysł szkolenia w miejscu pracy, ale nie możesz oczekiwać, że firma to zrobi. Szkolenie pracowników to nie ich praca – oni tworzą oprogramowanie. Być może systemy edukacyjne w Stanach Zjednoczonych (lub ich studenci) powinny trochę martwić się o zdobycie umiejętności rynkowych w zamian za ich ogromne inwestycje w edukację, zamiast wychodzić z tysiącami zadłużonych studentów i narzekać, że nie są do niczego wykwalifikowani.',\n",
       "  'Tak więc nic nie zapobiega fałszywym ocenom poza dodatkową kontrolą ze strony rynku/inwestorów, ale istnieją pewne nowsze kontrole, które uniemożliwiają instytucjom korzystanie z nich. W ramach DFA banki nie mogą już polegać wyłącznie na ratingach kredytowych jako należytej staranności przy zakupie instrumentu finansowego, więc to jest plus. Intencją jest to, że jeśli instytucje finansowe wykonują swoją własną pracę, to *być może* dojdą do wniosku, że określony CDO jest śmieciem, czy nie. Edycja: wprowadzenie',\n",
       "  'Nigdy nie możesz korzystać z FSA dla indywidualnych składek na ubezpieczenie zdrowotne. Co więcej, sponsorzy planu FSA mogą ograniczyć to, co chcą zwrócić. Chociaż nie możesz użyć FSA zdrowia do składek, wcześniej można było użyć planu kafeteryjnego 125 do opłacania składek, ale musiały to być oddzielne wybory od FSA zdrowia. Jednak zgodnie z N. 2013-54 nawet korzystanie z planu kafeteryjnego do opłacania indywidualnych składek jest skutecznie zabronione.',\n",
       "  'Samsung stworzył LCD i inne technologie płaskiego ekranu, takie jak OLED. kilka lat temu każdy płaski ekran pochodził z fabryk Samsunga i był wymieniany. Myślę, że ekran 21 Hanns, na który teraz patrzę, to Samsung i ma zaledwie kilka lat. Samsung wydaje się być dobrą firmą.',\n",
       "  'Oto wymagania SEC: Federalne przepisy dotyczące papierów wartościowych definiują termin inwestora akredytowanego w zasadzie 501 Regulacji D jako: bank, firma ubezpieczeniowa, zarejestrowana firma inwestycyjna, firma zajmująca się rozwojem działalności lub firma inwestycyjna dla małych firm; program świadczeń pracowniczych w rozumieniu ustawy o zabezpieczeniach emerytalnych pracowników, jeżeli decyzje inwestycyjne podejmuje bank, towarzystwo ubezpieczeniowe lub zarejestrowany doradca inwestycyjny lub jeżeli suma aktywów programu przekracza 5 mln USD; organizacja charytatywna, korporacja lub spółka partnerska z majątkiem przekraczającym 5 milionów USD; dyrektor, dyrektor wykonawczy lub komplementariusz firmy sprzedającej papiery wartościowe; przedsiębiorstwo, w którym wszyscy właściciele akcji są akredytowanymi inwestorami; osoba fizyczna, która posiada indywidualną wartość netto lub wspólną wartość netto z małżonkiem tej osoby, która w momencie zakupu przekracza 1 milion USD, z wyłączeniem wartości głównego miejsca zamieszkania takiej osoby; osoba fizyczna z dochodem przekraczającym 200 000 USD w każdym z dwóch ostatnich lat lub łączny dochód z małżonkiem przekraczający 300 000 USD w tych latach i uzasadnione oczekiwanie takiego samego poziomu dochodów w bieżącym roku; lub fundusz powierniczy z aktywami przekraczającymi 5 milionów USD, niezałożony w celu nabycia oferowanych papierów wartościowych, którego zakupów dokonuje wyrafinowana osoba. Brak wymagań dotyczących obywatelstwa/miejsca zamieszkania.',\n",
       "  '„Dotyczy tylko tych z zespołami fantasy economy. Poważnie, fikcyjne dzieła Randa nigdy nie przekładają się dobrze na rzeczywistość, ponieważ bez względu na to, jak bardzo ludzie się starają, tego „fikcyjnego” elementu po prostu nie można zignorować. Przetestuj to sam: Strip John Galt i jego zwolennicy wszystkiego, co mają, co zostało stworzone przez „społeczeństwo” lub w jego obrębie, wyrzucają ich na pustynię – i wszyscy umrą z wystawienia i głodu w mniej niż dwa tygodnie, ponieważ będą nago, bez narzędzi i bez jedzenia. Jedynym powodem, dla którego libertarianom uchodzi na sucho wpychanie swoich flaków jako racjonalnej filozofii, jest to, że nikt nie będzie wskazywał, co jest nie tak z ich myśleniem. Dlaczego? Cóż, przez większość mojego życia, ich \" „filozofia” była uważana za szaloną, zgodnie z Johnem Bircherem, więc po co się męczyć. Dopiero po przejściu tych finansowanych przez miliarderów polityków to gówniane myślenie stało się akceptowalne, i to tylko dla nich”.',\n",
       "  'Kontrakty futures należą do większej klasy aktywów finansowych zwanych instrumentami pochodnymi. Instrumenty pochodne są nazywane takimi, ponieważ ich wypłaty zależą od ceny innych aktywów (finansowych lub rzeczywistych). Inne rodzaje instrumentów pochodnych to opcje kupna, opcje sprzedaży. Aktywa o stałym dochodzie, które naśladują zachowanie instrumentów pochodnych, to obligacje z opcją wykupu, obligacje z opcją sprzedaży itp. Kontrakt futures to kontrakt, który określa następujące elementy: Tak jak w przypadku każdego innego kontraktu, zaangażowane są dwie strony. Jedna strona zobowiązuje się do dostarczenia aktywów bazowych drugiej stronie w dniu wygaśnięcia w zamian za cenę kontraktów futures. Druga strona zobowiązuje się do zapłaty ceny futures w zamian za aktywa. Nie ma ceny, którą którakolwiek z dwóch stron płaci z góry za zawarcie umowy. Użyty język jest taki, że agent, który zobowiązał się do otrzymania dostawy aktywów bazowych, miał kupić kontrakt. Mówi się, że agent, który zobowiązuje się dokonać dostawy, sprzedał umowę. Odpowiedz więc na swoje pytanie, kupując 1 czerwca kontrakt futures po cenie 100 USD, z terminem zapadalności 1 sierpnia, oznacza to, że zobowiązujesz się zapłacić 100 USD za aktywa bazowe 1 sierpnia. Nie musisz nic płacić z góry. Cena kontraktu futures jest po prostu tym, co kontrakt przewiduje, że aktywa bazowe będą wymieniać ręce.',\n",
       "  'W tym miesiącu, gdy dołączysz do Scentsy, otrzymasz darmowy rozbrajacz wraz ze swoim zestawem! Nigdy wcześniej tego nie robiono. Otrzymasz również testerów wiosenno-letnich i jesienno-zimowych oraz wszystkie elementy zestawu! Być swoim własnym szefem! Ty wybierasz w jakich godzinach pracujesz, kiedy i gdzie je pracujesz. Dołącz do mojej rodziny Scentsy już dziś! [Amanda C. Robar Scentsy Business] (http://www.amandacrobar.scentsy.ca)',\n",
       "  'Za każdym razem, gdy płacisz lub wypłacasz środki ze swojego konta, paypal pobiera wraz z opłatami ok. 3% aktualnej wartości waluty. np. jeśli płacisz/wypłacasz 100 jednostek dolarów amerykańskich na funty brytyjskie i jeśli obecny kurs wymiany wynosi 1 $ = 0,82 GBP, rozważ zmniejszenie o 3% rzeczywistego kursu waluty. Tak więc przybliżona wielkość wyniesie 0,82*97% (100-3=97) = 0,7954. Tak więc 1 $ = 0,7954 GBP. Ta formuła nie da 100% dokładnej wartości, ale oczywiście pomoże. Kapitan',\n",
       "  'Zapytałeś go więc w 2010 roku, jak zamierza konkurować z dystrybutorami wypożyczalni DVD, takimi jak Netflix (którym był wtedy przede wszystkim Netflix) i Lovefilm, i zdziwiłeś się, że to on powiedział, że będą nadal konkurować jako DVD dystrybutor wynajmu tak jak wspomniani konkurenci?']}"
      ]
     },
     "execution_count": 29,
     "metadata": {},
     "output_type": "execute_result"
    }
   ],
   "source": [
    "ds_corpus = load_dataset(\"clarin-knext/fiqa-pl\", \"corpus\")\n",
    "ds_corpus['corpus'][:10]"
   ]
  },
  {
   "cell_type": "code",
   "execution_count": 30,
   "id": "541fee9b-8f62-42a8-a3cf-24e876ea981e",
   "metadata": {},
   "outputs": [
    {
     "data": {
      "text/plain": [
       "{'_id': ['0', '4', '5', '6', '7', '9', '11', '12', '13', '14'],\n",
       " 'title': ['', '', '', '', '', '', '', '', '', ''],\n",
       " 'text': ['Co jest uważane za wydatek służbowy w podróży służbowej?',\n",
       "  'Wydatki służbowe - ubezpieczenie samochodu podlegające odliczeniu za wypadek, który wydarzył się podczas podróży służbowej',\n",
       "  'Rozpoczęcie nowego biznesu online',\n",
       "  '„Dzień roboczy” i „termin płatności” rachunków',\n",
       "  'Nowy właściciel firmy – Jak działają podatki dla firmy i osoby fizycznej?',\n",
       "  'Hobby kontra biznes',\n",
       "  'Czeki osobiste zamiast firmowych',\n",
       "  'Czy amerykański kodeks podatkowy wymaga, aby właściciele małych firm liczyli zakupy biznesowe jako dochód osobisty?',\n",
       "  'Jak mogę zarejestrować firmę w Wielkiej Brytanii bez podawania adresu firmy?',\n",
       "  'Czym są „podstawy biznesowe”?']}"
      ]
     },
     "execution_count": 30,
     "metadata": {},
     "output_type": "execute_result"
    }
   ],
   "source": [
    "ds_queries = load_dataset(\"clarin-knext/fiqa-pl\", \"queries\")\n",
    "ds_queries['queries'][:10]"
   ]
  },
  {
   "cell_type": "code",
   "execution_count": 32,
   "id": "f9d6b199-31de-4996-a7ac-699d86f8a669",
   "metadata": {},
   "outputs": [],
   "source": [
    "analyzers_config_2 = {\n",
    "    \"settings\": {\n",
    "        \"analysis\": {\n",
    "            \"filter\": {\n",
    "                \"month_synonym_filter\": {\n",
    "                    \"type\": \"synonym\",\n",
    "                    \"synonyms\": synonyms_sep_list \n",
    "                }\n",
    "            },\n",
    "            \"analyzer\": {\n",
    "                \"analyzer_synonyms_lemmatizer\": {\n",
    "                    \"type\": \"custom\",\n",
    "                    \"tokenizer\": \"standard\",\n",
    "                    \"filter\": [\n",
    "                        \"lowercase\",\n",
    "                        \"month_synonym_filter\",\n",
    "                        \"morfologik_stem\",\n",
    "                        \"lowercase\"\n",
    "                    ]\n",
    "                },\n",
    "                \"analyzer_lemmatizer\": {\n",
    "                    \"type\": \"custom\",\n",
    "                    \"tokenizer\": \"standard\",\n",
    "                    \"filter\": [\n",
    "                        \"lowercase\",\n",
    "                        \"morfologik_stem\",\n",
    "                        \"lowercase\"\n",
    "                    ]\n",
    "                },\n",
    "                \"analyzer_synonyms\": {\n",
    "                    \"type\": \"custom\",\n",
    "                    \"tokenizer\": \"standard\",\n",
    "                    \"filter\": [\n",
    "                        \"lowercase\",\n",
    "                        \"month_synonym_filter\",\n",
    "                        \"lowercase\"\n",
    "                    ]\n",
    "                },\n",
    "                \"analyzer_lowercase_only\": {\n",
    "                    \"type\": \"custom\",\n",
    "                    \"tokenizer\": \"standard\",\n",
    "                    \"filter\": [\n",
    "                        \"lowercase\"\n",
    "                    ]\n",
    "                }\n",
    "            }\n",
    "        }\n",
    "    }\n",
    "}"
   ]
  },
  {
   "cell_type": "code",
   "execution_count": 33,
   "id": "63266c5c-3d5f-4469-945f-3f51e696c987",
   "metadata": {},
   "outputs": [],
   "source": [
    "analyzers_config_2[\"mappings\"] = {\n",
    "    \"properties\": {\n",
    "        \"fiqa_id\": {\n",
    "            \"type\": \"keyword\"\n",
    "        },\n",
    "        \"fiqa_synonyms_lemmatizer\": {\n",
    "            \"type\": \"text\",\n",
    "            \"analyzer\": \"analyzer_synonyms_lemmatizer\"\n",
    "        },\n",
    "        \"fiqa_synonyms\": {\n",
    "            \"type\": \"text\",\n",
    "            \"analyzer\": \"analyzer_synonyms\"\n",
    "        },\n",
    "        \"fiqa_lemmatizer\": {\n",
    "            \"type\": \"text\",\n",
    "            \"analyzer\": \"analyzer_lemmatizer\"\n",
    "        },\n",
    "        \"fiqa\": {\n",
    "            \"type\": \"text\",\n",
    "            \"analyzer\": \"analyzer_lowercase_only\"\n",
    "        }\n",
    "    }\n",
    "}"
   ]
  },
  {
   "cell_type": "code",
   "execution_count": 34,
   "id": "148b5382-4886-4998-8bbb-6f460b953251",
   "metadata": {},
   "outputs": [
    {
     "name": "stdout",
     "output_type": "stream",
     "text": [
      "{\n",
      "    \"settings\": {\n",
      "        \"analysis\": {\n",
      "            \"filter\": {\n",
      "                \"month_synonym_filter\": {\n",
      "                    \"type\": \"synonym\",\n",
      "                    \"synonyms\": [\n",
      "                        \"styczeń, sty, I\",\n",
      "                        \"luty, lut, II\",\n",
      "                        \"marzec, mar, III\",\n",
      "                        \"kwiecień, kwi, IV\",\n",
      "                        \"maj, V\",\n",
      "                        \"czerwiec, cze, VI\",\n",
      "                        \"lipiec, lip, VII\",\n",
      "                        \"sierpień, sie, VIII\",\n",
      "                        \"wrzesień, wrz, IX\",\n",
      "                        \"październik, paź, X\",\n",
      "                        \"listopad, lis, XI\",\n",
      "                        \"grudzień, gru, XII\"\n",
      "                    ]\n",
      "                }\n",
      "            },\n",
      "            \"analyzer\": {\n",
      "                \"analyzer_synonyms_lemmatizer\": {\n",
      "                    \"type\": \"custom\",\n",
      "                    \"tokenizer\": \"standard\",\n",
      "                    \"filter\": [\n",
      "                        \"lowercase\",\n",
      "                        \"month_synonym_filter\",\n",
      "                        \"morfologik_stem\",\n",
      "                        \"lowercase\"\n",
      "                    ]\n",
      "                },\n",
      "                \"analyzer_lemmatizer\": {\n",
      "                    \"type\": \"custom\",\n",
      "                    \"tokenizer\": \"standard\",\n",
      "                    \"filter\": [\n",
      "                        \"lowercase\",\n",
      "                        \"morfologik_stem\",\n",
      "                        \"lowercase\"\n",
      "                    ]\n",
      "                },\n",
      "                \"analyzer_synonyms\": {\n",
      "                    \"type\": \"custom\",\n",
      "                    \"tokenizer\": \"standard\",\n",
      "                    \"filter\": [\n",
      "                        \"lowercase\",\n",
      "                        \"month_synonym_filter\",\n",
      "                        \"lowercase\"\n",
      "                    ]\n",
      "                },\n",
      "                \"analyzer_lowercase_only\": {\n",
      "                    \"type\": \"custom\",\n",
      "                    \"tokenizer\": \"standard\",\n",
      "                    \"filter\": [\n",
      "                        \"lowercase\"\n",
      "                    ]\n",
      "                }\n",
      "            }\n",
      "        }\n",
      "    },\n",
      "    \"mappings\": {\n",
      "        \"properties\": {\n",
      "            \"fiqa_id\": {\n",
      "                \"type\": \"keyword\"\n",
      "            },\n",
      "            \"fiqa_synonyms_lemmatizer\": {\n",
      "                \"type\": \"text\",\n",
      "                \"analyzer\": \"analyzer_synonyms_lemmatizer\"\n",
      "            },\n",
      "            \"fiqa_synonyms\": {\n",
      "                \"type\": \"text\",\n",
      "                \"analyzer\": \"analyzer_synonyms\"\n",
      "            },\n",
      "            \"fiqa_lemmatizer\": {\n",
      "                \"type\": \"text\",\n",
      "                \"analyzer\": \"analyzer_lemmatizer\"\n",
      "            },\n",
      "            \"fiqa\": {\n",
      "                \"type\": \"text\",\n",
      "                \"analyzer\": \"analyzer_lowercase_only\"\n",
      "            }\n",
      "        }\n",
      "    }\n",
      "}\n"
     ]
    }
   ],
   "source": [
    "print_dict(analyzers_config_2)"
   ]
  },
  {
   "cell_type": "code",
   "execution_count": 35,
   "id": "7eac7ce6-c557-4b89-bfd6-ed76209adff5",
   "metadata": {},
   "outputs": [
    {
     "data": {
      "text/plain": [
       "ObjectApiResponse({'acknowledged': True, 'shards_acknowledged': True, 'index': 'fiqa_index_qa'})"
      ]
     },
     "execution_count": 35,
     "metadata": {},
     "output_type": "execute_result"
    }
   ],
   "source": [
    "index_name = 'fiqa_index_qa'\n",
    "\n",
    "if es.indices.exists(index=index_name):\n",
    "    print(f\"index {index_name} already exists\")\n",
    "    es.indices.delete(index=index_name)\n",
    "\n",
    "es.indices.create(index=index_name, body=analyzers_config_2)"
   ]
  },
  {
   "cell_type": "code",
   "execution_count": 36,
   "id": "f8d0d1f8-5d14-4dba-988d-1905e23225c6",
   "metadata": {},
   "outputs": [],
   "source": [
    "documents_to_add = [\n",
    "    {\n",
    "        \"_index\": index_name, \n",
    "        \"_source\": {\n",
    "            \"fiqa_id\": sample['_id'],\n",
    "            \"fiqa_synonyms_lemmatizer\": sample['text'],\n",
    "            \"fiqa_synonyms\": sample['text'],\n",
    "            \"fiqa_lemmatizer\": sample['text'],\n",
    "            \"fiqa\": sample['text']\n",
    "            \n",
    "        }\n",
    "    }\n",
    "    for sample in ds_corpus['corpus']\n",
    "]"
   ]
  },
  {
   "cell_type": "code",
   "execution_count": 38,
   "id": "4d6a46b3-17cc-4300-a8eb-b41d355279d9",
   "metadata": {},
   "outputs": [
    {
     "name": "stdout",
     "output_type": "stream",
     "text": [
      "{\n",
      "    \"_index\": \"fiqa_index_qa\",\n",
      "    \"_source\": {\n",
      "        \"fiqa_id\": \"3\",\n",
      "        \"fiqa_synonyms_lemmatizer\": \"Nie mówię, że nie podoba mi się też pomysł szkolenia w miejscu pracy, ale nie możesz oczekiwać, że firma to zrobi. Szkolenie pracowników to nie ich praca – oni tworzą oprogramowanie. Być może systemy edukacyjne w Stanach Zjednoczonych (lub ich studenci) powinny trochę martwić się o zdobycie umiejętności rynkowych w zamian za ich ogromne inwestycje w edukację, zamiast wychodzić z tysiącami zadłużonych studentów i narzekać, że nie są do niczego wykwalifikowani.\",\n",
      "        \"fiqa_synonyms\": \"Nie mówię, że nie podoba mi się też pomysł szkolenia w miejscu pracy, ale nie możesz oczekiwać, że firma to zrobi. Szkolenie pracowników to nie ich praca – oni tworzą oprogramowanie. Być może systemy edukacyjne w Stanach Zjednoczonych (lub ich studenci) powinny trochę martwić się o zdobycie umiejętności rynkowych w zamian za ich ogromne inwestycje w edukację, zamiast wychodzić z tysiącami zadłużonych studentów i narzekać, że nie są do niczego wykwalifikowani.\",\n",
      "        \"fiqa_lemmatizer\": \"Nie mówię, że nie podoba mi się też pomysł szkolenia w miejscu pracy, ale nie możesz oczekiwać, że firma to zrobi. Szkolenie pracowników to nie ich praca – oni tworzą oprogramowanie. Być może systemy edukacyjne w Stanach Zjednoczonych (lub ich studenci) powinny trochę martwić się o zdobycie umiejętności rynkowych w zamian za ich ogromne inwestycje w edukację, zamiast wychodzić z tysiącami zadłużonych studentów i narzekać, że nie są do niczego wykwalifikowani.\",\n",
      "        \"fiqa\": \"Nie mówię, że nie podoba mi się też pomysł szkolenia w miejscu pracy, ale nie możesz oczekiwać, że firma to zrobi. Szkolenie pracowników to nie ich praca – oni tworzą oprogramowanie. Być może systemy edukacyjne w Stanach Zjednoczonych (lub ich studenci) powinny trochę martwić się o zdobycie umiejętności rynkowych w zamian za ich ogromne inwestycje w edukację, zamiast wychodzić z tysiącami zadłużonych studentów i narzekać, że nie są do niczego wykwalifikowani.\"\n",
      "    }\n",
      "}\n"
     ]
    }
   ],
   "source": [
    "print_dict(documents_to_add[0])"
   ]
  },
  {
   "cell_type": "code",
   "execution_count": 39,
   "id": "cdd5112a-3ef0-48b2-8b00-b9f5ba02c3ad",
   "metadata": {},
   "outputs": [
    {
     "name": "stdout",
     "output_type": "stream",
     "text": [
      "3000 texts added succesfully.\n",
      "3000 texts added succesfully.\n",
      "3000 texts added succesfully.\n",
      "3000 texts added succesfully.\n",
      "3000 texts added succesfully.\n",
      "3000 texts added succesfully.\n",
      "3000 texts added succesfully.\n",
      "3000 texts added succesfully.\n",
      "3000 texts added succesfully.\n",
      "3000 texts added succesfully.\n",
      "3000 texts added succesfully.\n",
      "3000 texts added succesfully.\n",
      "3000 texts added succesfully.\n",
      "3000 texts added succesfully.\n",
      "3000 texts added succesfully.\n",
      "3000 texts added succesfully.\n",
      "3000 texts added succesfully.\n",
      "3000 texts added succesfully.\n",
      "3000 texts added succesfully.\n",
      "638 texts added succesfully.\n"
     ]
    }
   ],
   "source": [
    "from elasticsearch import helpers\n",
    "\n",
    "for batch in batch_data(documents_to_add, batch_size=3000):\n",
    "    success, failed = helpers.bulk(es, batch, raise_on_error=False,  ignore_status=[400, 404], timeout=\"120s\")\n",
    "    print(f\"{success} texts added succesfully.\")\n"
   ]
  },
  {
   "cell_type": "code",
   "execution_count": 50,
   "id": "b891b945-c738-4799-a58a-af10b4428e19",
   "metadata": {},
   "outputs": [
    {
     "data": {
      "text/plain": [
       "1"
      ]
     },
     "execution_count": 50,
     "metadata": {},
     "output_type": "execute_result"
    }
   ],
   "source": [
    "len(set(ds_qa[\"test\"]['score'])) # only 1 in score"
   ]
  },
  {
   "cell_type": "code",
   "execution_count": 54,
   "id": "6e98730d-8fae-4a54-8936-7250d2e18aa9",
   "metadata": {},
   "outputs": [
    {
     "data": {
      "text/plain": [
       "8"
      ]
     },
     "execution_count": 54,
     "metadata": {},
     "output_type": "execute_result"
    }
   ],
   "source": [
    "ds_qa[\"test\"][0]"
   ]
  },
  {
   "cell_type": "code",
   "execution_count": 99,
   "id": "357b0f42-0fad-4cc5-ba7e-c2090b788851",
   "metadata": {},
   "outputs": [],
   "source": [
    "simplified_dict = {q_id: [] for q_id in set(ds_qa[\"test\"]['query-id'])}\n",
    "simplified_query_test_only = {}\n",
    "\n",
    "for i in range(len(ds_qa[\"test\"])):\n",
    "    qa = ds_qa[\"test\"][i]\n",
    "    simplified_dict[qa[\"query-id\"]].append(qa[\"corpus-id\"])\n",
    "\n",
    "for i in range(len(ds_queries['queries'])):\n",
    "    if int(q_id := ds_queries['queries'][i]['_id']) in simplified_dict:\n",
    "        simplified_query_test_only[int(q_id)] = ds_queries['queries'][i]['text']"
   ]
  },
  {
   "cell_type": "code",
   "execution_count": 100,
   "id": "e5f18046-79e9-4e34-9fbe-e730f0e8718c",
   "metadata": {},
   "outputs": [],
   "source": [
    "# print_dict(simplified_dict)"
   ]
  },
  {
   "cell_type": "code",
   "execution_count": 103,
   "id": "b202650b-cba3-4eff-bbd2-5452aeaca470",
   "metadata": {},
   "outputs": [],
   "source": [
    "# print_dict(simplified_query_test_only)"
   ]
  },
  {
   "cell_type": "code",
   "execution_count": 102,
   "id": "6ea4ca44-934e-4ad5-91cc-dfd82e9e6a17",
   "metadata": {},
   "outputs": [
    {
     "name": "stdout",
     "output_type": "stream",
     "text": [
      "[\n",
      "    496166,\n",
      "    169824,\n",
      "    44344\n",
      "]\n",
      "\"Lepiej wynająć mieszkanie córce, czy dać jej tytuł?\"\n"
     ]
    }
   ],
   "source": [
    "sample_id = 6122\n",
    "print_dict(simplified_dict[6122])\n",
    "print_dict(simplified_query_test_only[6122])"
   ]
  },
  {
   "cell_type": "code",
   "execution_count": 119,
   "id": "4136aac6-be54-4093-9494-f76a6f2b6655",
   "metadata": {},
   "outputs": [],
   "source": [
    "import numpy as np\n",
    "\n",
    "def ndcg5(hits_ids, relevant_ids):\n",
    "    ideal_dcg = 0\n",
    "    dcg = 0\n",
    "    \n",
    "    for i in range(5):\n",
    "        if hits_ids[i] in relevant_ids:   \n",
    "            dcg += 1/np.log2(i+2)\n",
    "\n",
    "    for i in range(len(relevant_ids)):\n",
    "        ideal_dcg += 1/np.log2(i+2)\n",
    "\n",
    "    return dcg/ideal_dcg\n",
    "        "
   ]
  },
  {
   "cell_type": "code",
   "execution_count": 124,
   "id": "ed3545ed-1e5e-4656-847a-33f582d02c1f",
   "metadata": {},
   "outputs": [],
   "source": [
    "def calc_ndcg(source):\n",
    "    ndcgs = []\n",
    "    N = 5\n",
    "    \n",
    "    for q_id in set(ds_qa[\"test\"]['query-id']):\n",
    "        query = simplified_query_test_only[q_id]\n",
    "        relevant_ids = simplified_dict[q_id]\n",
    "        \n",
    "        response = es.search(\n",
    "            index=index_name,\n",
    "            body={\n",
    "                \"query\": {\n",
    "                    \"match\": {\n",
    "                        source: query\n",
    "                    }\n",
    "                },\n",
    "                \"_source\": [\"fiqa_id\"],\n",
    "                \"from\": 0,\n",
    "                \"size\": N  \n",
    "            }\n",
    "        )\n",
    "    \n",
    "        hit_ids = [int(hit['_source']['fiqa_id']) for hit in response['hits']['hits']]\n",
    "        ndcgs.append(ndcg5(hit_ids, relevant_ids))\n",
    "\n",
    "    return np.mean(ndcgs)"
   ]
  },
  {
   "cell_type": "code",
   "execution_count": 125,
   "id": "b09d64f8-9736-48fd-8fb9-a073e781aa28",
   "metadata": {},
   "outputs": [
    {
     "name": "stdout",
     "output_type": "stream",
     "text": [
      "fiqa_synonyms_lemmatizer - 0.18243657860187562\n",
      "fiqa_synonyms - 0.1354875058757778\n",
      "fiqa_lemmatizer - 0.18185432858549783\n",
      "fiqa - 0.1357363285294396\n"
     ]
    }
   ],
   "source": [
    "for source in [\"fiqa_synonyms_lemmatizer\", \"fiqa_synonyms\", \"fiqa_lemmatizer\", \"fiqa\"]:\n",
    "    mean_ndcg = calc_ndcg(source)\n",
    "    print(f\"{source} - {mean_ndcg}\")"
   ]
  },
  {
   "cell_type": "markdown",
   "id": "f4b7f6a8-084c-4493-88fb-3f74b2e60ea1",
   "metadata": {},
   "source": [
    "The best NDCG@5 score of 0.18243 is indeed not very high.\n",
    "\n",
    "However, thanks to the Morfologik lemmatizer, results are slightly better than those without this filter.  \n",
    "\n",
    "Month synonyms are not really useful in this case."
   ]
  },
  {
   "cell_type": "code",
   "execution_count": 138,
   "id": "fc2e4dbb-8dac-48e8-b27b-2bdb9e9f6821",
   "metadata": {},
   "outputs": [],
   "source": [
    "def find_relevant(source, position=0, number=3):\n",
    "    sentences = []\n",
    "    N = 5\n",
    "    \n",
    "    for q_id in set(ds_qa[\"test\"]['query-id']):\n",
    "        query = simplified_query_test_only[q_id]\n",
    "        relevant_ids = simplified_dict[q_id]\n",
    "        \n",
    "        response = es.search(\n",
    "            index=index_name,\n",
    "            body={\n",
    "                \"query\": {\n",
    "                    \"match\": {\n",
    "                        source: query\n",
    "                    }\n",
    "                },\n",
    "                \"_source\": [\"fiqa_id\"],\n",
    "                \"from\": 0,\n",
    "                \"size\": N  \n",
    "            }\n",
    "        )\n",
    "    \n",
    "        hit_ids = [int(hit['_source']['fiqa_id']) for hit in response['hits']['hits']]\n",
    "        if hit_ids[position] in relevant_ids:\n",
    "            sentences.append(f\"ID:{q_id} QUERY:{query}\")\n",
    "            if len(sentences) == number:\n",
    "                return sentences\n",
    "\n",
    "    return sentences"
   ]
  },
  {
   "cell_type": "code",
   "execution_count": null,
   "id": "9bbdb196-d76d-4997-bda0-786c823030d2",
   "metadata": {},
   "outputs": [
    {
     "name": "stdout",
     "output_type": "stream",
     "text": [
      "Question with relevant at 1 position: \n",
      "  - ID:4116 QUERY:Czy skutki przewidywanego niewypłacalności narodu byłyby w większości symboliczne?\n",
      "  - ID:6219 QUERY:Czy istnieją indeksy nieruchomości inwestycyjnych, które śledzą lokalizacje geograficzne?\n",
      "  - ID:8296 QUERY:Czy beta akcji może być wykorzystana jako wskaźnik opóźnienia dla akcji w stosunku do rynku?\n",
      "Question with relevant at 4 position: \n",
      "  - ID:8230 QUERY:Dlaczego tego rodzaju akcje groszowe miałyby tak bardzo zyskiwać na wartości?\n",
      "  - ID:2183 QUERY:Dlaczego w USA jest wiele małych banków i więcej banków?\n",
      "  - ID:2204 QUERY:Jakie jest ekonomiczne wytłumaczenie, dlaczego kartki z życzeniami są tak drogie?\n",
      "Question with relevant at 5 position: \n",
      "  - ID:15 QUERY:Czy mogę wysłać przekaz pieniężny z USPS jako firma?\n",
      "  - ID:4233 QUERY:Czy zajęcia z finansów osobistych / zarządzania pieniędzmi są prowadzone w szkole średniej, gdziekolwiek?\n",
      "  - ID:2204 QUERY:Jakie jest ekonomiczne wytłumaczenie, dlaczego kartki z życzeniami są tak drogie?\n"
     ]
    }
   ],
   "source": [
    "# for best analyzer only\n",
    "\n",
    "for i in [1, 4, 5]:\n",
    "    print(f\"Question with relevant at {i} position: \")\n",
    "    for query in find_relevant(\"fiqa_synonyms_lemmatizer\", position=i-1, number=3):\n",
    "        print(f\"  - {query}\")\n",
    "        "
   ]
  },
  {
   "cell_type": "code",
   "execution_count": 144,
   "id": "3cf4b9af-8eb1-4b8b-b4a3-e8996753818f",
   "metadata": {},
   "outputs": [
    {
     "name": "stdout",
     "output_type": "stream",
     "text": [
      "2\n",
      "2\n",
      "2\n"
     ]
    }
   ],
   "source": [
    "print(len(simplified_dict[4116]))\n",
    "print(len(simplified_dict[6219]))\n",
    "print(len(simplified_dict[8296]))\n",
    "# not many relevant texts"
   ]
  },
  {
   "cell_type": "code",
   "execution_count": 145,
   "id": "8f66c2a2-373c-4d7e-9163-04f1ba7020aa",
   "metadata": {},
   "outputs": [
    {
     "name": "stdout",
     "output_type": "stream",
     "text": [
      "1\n",
      "5\n",
      "8\n"
     ]
    }
   ],
   "source": [
    "print(len(simplified_dict[15]))\n",
    "print(len(simplified_dict[4233]))\n",
    "print(len(simplified_dict[2204]))\n",
    "# more relevant texts in corpus"
   ]
  },
  {
   "cell_type": "code",
   "execution_count": 146,
   "id": "3769dee4-afe8-4b7e-9e00-bff1ee65178b",
   "metadata": {},
   "outputs": [],
   "source": [
    "def find__with_no_relevant(source, number=3):\n",
    "    sentences = []\n",
    "    N = 5\n",
    "    \n",
    "    for q_id in set(ds_qa[\"test\"]['query-id']):\n",
    "        query = simplified_query_test_only[q_id]\n",
    "        relevant_ids = simplified_dict[q_id]\n",
    "        \n",
    "        response = es.search(\n",
    "            index=index_name,\n",
    "            body={\n",
    "                \"query\": {\n",
    "                    \"match\": {\n",
    "                        source: query\n",
    "                    }\n",
    "                },\n",
    "                \"_source\": [\"fiqa_id\"],\n",
    "                \"from\": 0,\n",
    "                \"size\": N  \n",
    "            }\n",
    "        )\n",
    "    \n",
    "        hit_ids = [int(hit['_source']['fiqa_id']) for hit in response['hits']['hits']]\n",
    "        no_relevant = True\n",
    "        for hit_id in hit_ids:\n",
    "            if hit_id in relevant_ids:\n",
    "                no_relevant = False\n",
    "                break\n",
    "\n",
    "        if no_relevant:\n",
    "            sentences.append(f\"ID:{q_id} QUERY:{query}\")\n",
    "            if len(sentences) == number:\n",
    "                return sentences\n",
    "\n",
    "    return sentences\n"
   ]
  },
  {
   "cell_type": "code",
   "execution_count": 147,
   "id": "1c2d324a-4be8-4a3f-9b43-f85e549023e4",
   "metadata": {},
   "outputs": [
    {
     "name": "stdout",
     "output_type": "stream",
     "text": [
      "Question without relevant results:\n",
      "  - ID:6146 QUERY:Zgubiona karta kredytowa zastąpiona nową kartą i nowymi numerami. Wpływ na ocenę kredytową?\n",
      "  - ID:2051 QUERY:Gdzie znaleźć zwroty z 5 lub 10 lat dla funduszu inwestycyjnego?\n",
      "  - ID:4102 QUERY:Jak mogę ustalić, czy moja stopa zwrotu jest „dobra” dla rynku, na którym się znajduję?\n"
     ]
    }
   ],
   "source": [
    "print(f\"Question without relevant results:\")\n",
    "for query in find__with_no_relevant(\"fiqa_synonyms_lemmatizer\", number=3):\n",
    "    print(f\"  - {query}\")"
   ]
  },
  {
   "cell_type": "code",
   "execution_count": 149,
   "id": "c1ba4588-0734-4128-89f9-205e81b525d3",
   "metadata": {},
   "outputs": [
    {
     "name": "stdout",
     "output_type": "stream",
     "text": [
      "2\n",
      "1\n",
      "4\n"
     ]
    }
   ],
   "source": [
    "print(len(simplified_dict[6146]))\n",
    "print(len(simplified_dict[2051]))\n",
    "print(len(simplified_dict[4102]))\n",
    "# it was possible to found relevant text for each query"
   ]
  },
  {
   "cell_type": "markdown",
   "id": "a236cbbf-d497-4c35-aa9f-6419e208b02f",
   "metadata": {},
   "source": [
    "## Pytania\n",
    "\n",
    "Wyrażenia regularne są prostsze w zastosowaniu. Często są częścią bibliotek do języków programowania i nie wymagają dodatkowych, skomplikowanych instalacji. W prostych przypadkach mogą sprawdzić się bardzo dobrze. Definiowanie synonimów w regexach jest jednak bardziej skomplikowane niż w ES. Na korzyść ElasticSearcha przemawia również możliwość wygodnego dodawania lematyzacji, po instalacji odpowiedniego pluginu. Chcą uwzględnić w wyszukianiu wszystkie formy i synonimy dla pojedynczego wyrazu, wyrażenie regularne musiałoby być bardzo skomplikowane, a w takim nietrudno się pomylić, podczas gdy w ES wystarcza odpowiednie przygotowanie konfiguracji dla analizatora. Wyniki wyszukiwania można jeszcze dodatkowo poprawić przekazując do konfiguracji plik z rozbudowanym słownikiem synonimów.\n",
    "\n",
    "Duże modele językowe mogłyby być użyteczne w wyszukiwaniu tekstów - można je na przykład wykorzystać do parafrazowania zapytań, co pozwoliłoby na dokładniejsze przeszukanie korpusu. LLMy można byłoby również wykorzystać do weryfikacji zwracanych odpowiedzi, nakazując im powierdzenie czy są odpowiednie i zgodne z pytaniem. Problemem może okazać się jednak czas trwania takich operacji i koszty, jakie by to generowało. Dodatkowe dołożenie LLM'a do ElasticSearcha mogłoby zwiększyłoby skuteczność wyszukiwań, ale użytkownicy takiego systemu mogliby odczuć dłuższy czas oczekiwania na odpowiedź, a firmy zarządzające systemem dodatkowe koszty związane z utrzymaniem modelu językowego."
   ]
  },
  {
   "cell_type": "code",
   "execution_count": null,
   "id": "7ef041d9-40c1-4efc-8a99-b77170a46fc7",
   "metadata": {},
   "outputs": [],
   "source": []
  }
 ],
 "metadata": {
  "kernelspec": {
   "display_name": "Python 3 (ipykernel)",
   "language": "python",
   "name": "python3"
  },
  "language_info": {
   "codemirror_mode": {
    "name": "ipython",
    "version": 3
   },
   "file_extension": ".py",
   "mimetype": "text/x-python",
   "name": "python",
   "nbconvert_exporter": "python",
   "pygments_lexer": "ipython3",
   "version": "3.9.16"
  }
 },
 "nbformat": 4,
 "nbformat_minor": 5
}
